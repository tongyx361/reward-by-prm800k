{
 "cells": [
  {
   "cell_type": "code",
   "execution_count": 107,
   "metadata": {},
   "outputs": [
    {
     "data": {
      "text/plain": [
       "<module 'utils' from '/data/users/zhangjunlei/tyx/reward-by-prm800k/src/utils.py'>"
      ]
     },
     "execution_count": 107,
     "metadata": {},
     "output_type": "execute_result"
    }
   ],
   "source": [
    "import utils\n",
    "import importlib\n",
    "\n",
    "importlib.reload(utils)"
   ]
  },
  {
   "cell_type": "code",
   "execution_count": null,
   "metadata": {},
   "outputs": [],
   "source": [
    "def foo(a=1, b=a):\n",
    "    print(a + b)"
   ]
  },
  {
   "cell_type": "code",
   "execution_count": 99,
   "metadata": {},
   "outputs": [],
   "source": [
    "num_samples_per_problem = 16\n",
    "n_trials = 10\n",
    "\n",
    "rated_problem_solution_hierarchical_samples_path_wo_basename = f\"/data/users/zhangjunlei/tyx/reward-by-prm800k/eval/rated-samples/gpt-4-generatations/{num_samples_per_problem}-samples-per-problem\""
   ]
  },
  {
   "cell_type": "code",
   "execution_count": 72,
   "metadata": {},
   "outputs": [],
   "source": [
    "problem_solution_hierarchical_samples = utils.load_pickle(\n",
    "    rated_problem_solution_hierarchical_samples_path_wo_basename + \".pkl\"\n",
    ")"
   ]
  },
  {
   "cell_type": "code",
   "execution_count": 108,
   "metadata": {},
   "outputs": [
    {
     "name": "stdout",
     "output_type": "stream",
     "text": [
      "Trial 1:\n",
      "           majority_voting, [0.49, 0.558, 0.59, 0.65]\n",
      "    positive_probs_product, [0.518, 0.522, 0.546, 0.554]\n",
      "    positive_probs_minimum, [0.518, 0.52, 0.544, 0.536]\n",
      "non_negative_probs_product, [0.522, 0.542, 0.532, 0.548]\n",
      "non_negative_probs_minimum, [0.518, 0.522, 0.538, 0.544]\n",
      "Trial 2:\n",
      "           majority_voting, [0.472, 0.542, 0.612, 0.65]\n",
      "    positive_probs_product, [0.49, 0.52, 0.55, 0.554]\n",
      "    positive_probs_minimum, [0.484, 0.522, 0.528, 0.536]\n",
      "non_negative_probs_product, [0.484, 0.532, 0.53, 0.548]\n",
      "non_negative_probs_minimum, [0.476, 0.528, 0.512, 0.544]\n",
      "Trial 3:\n",
      "           majority_voting, [0.478, 0.554, 0.594, 0.656]\n",
      "    positive_probs_product, [0.49, 0.56, 0.522, 0.554]\n",
      "    positive_probs_minimum, [0.498, 0.546, 0.52, 0.536]\n",
      "non_negative_probs_product, [0.498, 0.548, 0.524, 0.548]\n",
      "non_negative_probs_minimum, [0.504, 0.556, 0.522, 0.544]\n",
      "Trial 4:\n",
      "           majority_voting, [0.462, 0.532, 0.614, 0.652]\n",
      "    positive_probs_product, [0.486, 0.546, 0.568, 0.554]\n",
      "    positive_probs_minimum, [0.472, 0.538, 0.554, 0.536]\n",
      "non_negative_probs_product, [0.476, 0.538, 0.558, 0.548]\n",
      "non_negative_probs_minimum, [0.472, 0.538, 0.548, 0.544]\n",
      "Trial 5:\n",
      "           majority_voting, [0.45, 0.562, 0.598, 0.65]\n",
      "    positive_probs_product, [0.492, 0.534, 0.528, 0.554]\n",
      "    positive_probs_minimum, [0.484, 0.524, 0.522, 0.536]\n",
      "non_negative_probs_product, [0.494, 0.528, 0.536, 0.548]\n",
      "non_negative_probs_minimum, [0.484, 0.52, 0.532, 0.544]\n",
      "Trial 6:\n",
      "           majority_voting, [0.496, 0.532, 0.616, 0.652]\n",
      "    positive_probs_product, [0.524, 0.516, 0.556, 0.554]\n",
      "    positive_probs_minimum, [0.522, 0.508, 0.546, 0.536]\n",
      "non_negative_probs_product, [0.526, 0.516, 0.552, 0.548]\n",
      "non_negative_probs_minimum, [0.516, 0.5, 0.546, 0.544]\n",
      "Trial 7:\n",
      "           majority_voting, [0.458, 0.534, 0.616, 0.648]\n",
      "    positive_probs_product, [0.514, 0.538, 0.538, 0.554]\n",
      "    positive_probs_minimum, [0.504, 0.516, 0.536, 0.536]\n",
      "non_negative_probs_product, [0.52, 0.538, 0.542, 0.548]\n",
      "non_negative_probs_minimum, [0.5, 0.508, 0.534, 0.544]\n",
      "Trial 8:\n",
      "           majority_voting, [0.498, 0.546, 0.61, 0.656]\n",
      "    positive_probs_product, [0.524, 0.532, 0.534, 0.554]\n",
      "    positive_probs_minimum, [0.506, 0.504, 0.538, 0.536]\n",
      "non_negative_probs_product, [0.53, 0.526, 0.546, 0.548]\n",
      "non_negative_probs_minimum, [0.506, 0.506, 0.538, 0.544]\n",
      "Trial 9:\n",
      "           majority_voting, [0.488, 0.56, 0.606, 0.654]\n",
      "    positive_probs_product, [0.524, 0.534, 0.566, 0.554]\n",
      "    positive_probs_minimum, [0.504, 0.522, 0.556, 0.536]\n",
      "non_negative_probs_product, [0.532, 0.53, 0.56, 0.548]\n",
      "non_negative_probs_minimum, [0.518, 0.53, 0.554, 0.544]\n",
      "Trial 10:\n",
      "           majority_voting, [0.456, 0.572, 0.62, 0.656]\n",
      "    positive_probs_product, [0.52, 0.556, 0.54, 0.554]\n",
      "    positive_probs_minimum, [0.502, 0.546, 0.508, 0.536]\n",
      "non_negative_probs_product, [0.51, 0.546, 0.54, 0.548]\n",
      "non_negative_probs_minimum, [0.494, 0.538, 0.53, 0.544]\n",
      "Results:\n",
      "\tns  : [2, 4, 8, 16]\n",
      "majority_voting\n",
      "\tMean: [0.4748, 0.5492, 0.6075999999999999, 0.6523999999999999]\n",
      "\tStd : [0.4748, 0.5492, 0.6075999999999999, 0.6523999999999999]\n",
      "positive_probs_product\n",
      "\tMean: [0.5082000000000001, 0.5358, 0.5448, 0.5540000000000002]\n",
      "\tStd : [0.5082000000000001, 0.5358, 0.5448, 0.5540000000000002]\n",
      "positive_probs_minimum\n",
      "\tMean: [0.4993999999999999, 0.5246000000000002, 0.5352, 0.5359999999999999]\n",
      "\tStd : [0.4993999999999999, 0.5246000000000002, 0.5352, 0.5359999999999999]\n",
      "non_negative_probs_product\n",
      "\tMean: [0.5092, 0.5344, 0.542, 0.548]\n",
      "\tStd : [0.5092, 0.5344, 0.542, 0.548]\n",
      "non_negative_probs_minimum\n",
      "\tMean: [0.49879999999999997, 0.5246000000000001, 0.5354000000000001, 0.5440000000000002]\n",
      "\tStd : [0.49879999999999997, 0.5246000000000001, 0.5354000000000001, 0.5440000000000002]\n"
     ]
    }
   ],
   "source": [
    "utils.eval_best_of_n_on_rated_problem_solution_samples(\n",
    "    problem_solution_hierarchical_samples,\n",
    "    n_trials=n_trials,\n",
    "    num_samples_per_problem=num_samples_per_problem,\n",
    "    verbose=True,\n",
    "    debug={\"n\": False, \"solution_sample\": False, \"all_trial_pass_rates\": False},\n",
    "    best_of_n_results_jsonl_path=utils.best_of_n_results_jsonl_path,\n",
    ")"
   ]
  }
 ],
 "metadata": {
  "kernelspec": {
   "display_name": "open-instruct",
   "language": "python",
   "name": "python3"
  },
  "language_info": {
   "codemirror_mode": {
    "name": "ipython",
    "version": 3
   },
   "file_extension": ".py",
   "mimetype": "text/x-python",
   "name": "python",
   "nbconvert_exporter": "python",
   "pygments_lexer": "ipython3",
   "version": "3.10.12"
  },
  "orig_nbformat": 4
 },
 "nbformat": 4,
 "nbformat_minor": 2
}
