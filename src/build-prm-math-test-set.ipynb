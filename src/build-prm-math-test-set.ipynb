{
 "cells": [
  {
   "cell_type": "code",
   "execution_count": 42,
   "metadata": {},
   "outputs": [],
   "source": [
    "import utils\n",
    "import importlib\n",
    "importlib.reload(utils)\n",
    "\n",
    "import os\n",
    "import transformers\n",
    "import pickle"
   ]
  },
  {
   "cell_type": "code",
   "execution_count": 35,
   "metadata": {},
   "outputs": [],
   "source": [
    "# gpu_ids = [1,3,5,7]\n",
    "gpu_ids = [0]\n",
    "tensor_parallel_size=len(gpu_ids)\n",
    "os.environ[\"CUDA_VISIBLE_DEVICES\"] = \",\".join([str(i) for i in gpu_ids])\n",
    "solution_samples_jsonl_path = \"/data/users/zhangjunlei/tyx/reward-by-prm800k/datasets/scored-test-samples.jsonl\"\n",
    "input_ids_path = \"/data/users/zhangjunlei/tyx/reward-by-prm800k/datasets/gpt4-generated-math-solutions-till-each-step-input-ids-list.pkl\"\n",
    "rated_samples_path = \"/data/users/zhangjunlei/tyx/reward-by-prm800k/eval/rated-samples/gpt-4-generatations/llama2-7b-2023-08-15-2-step-2040.jsonl\"\n",
    "\n",
    "__DEBUG__ = False\n",
    "# __DEBUG__ = True\n",
    "__DEBUG_FOR__ = {\n",
    "    # \"inference_sample_num\": 100\n",
    "    \"inference_sample_num\": None\n",
    "}"
   ]
  },
  {
   "cell_type": "code",
   "execution_count": 18,
   "metadata": {},
   "outputs": [
    {
     "name": "stdout",
     "output_type": "stream",
     "text": [
      "num_problems = 500\n",
      "num_solution_samples = 815631\n"
     ]
    }
   ],
   "source": [
    "solution_samples = utils.read_jsonl(solution_samples_jsonl_path)\n",
    "samples_by_problem = utils.key_by_problem(solution_samples)  # group samples by problem\n",
    "\n",
    "num_solution_samples = len(solution_samples)  # num of solution samples\n",
    "num_problems = len(samples_by_problem)  # num of problmes\n",
    "\n",
    "print(\"num_problems =\", num_problems)\n",
    "print(\"num_solution_samples =\", num_solution_samples)"
   ]
  },
  {
   "cell_type": "code",
   "execution_count": 19,
   "metadata": {},
   "outputs": [
    {
     "name": "stdout",
     "output_type": "stream",
     "text": [
      "{'problem': 'A $90^\\\\circ$ rotation around the origin in the counter-clockwise direction is applied to $7 + 2i.$  What is the resulting complex number?', 'answer': '7i - 2', 'is_correct': True, 'subject': 'Precalculus', 'level': 2, 'unique_id': 'test/precalculus/779.json', 'steps': ['I know that a $90^\\\\circ$ rotation around the origin in the complex plane can be achieved by multiplying the original complex number by $i.$', 'So, I can write $7 + 2i$ as $7i - 2$ after applying the rotation.', 'To check, I can draw the original and rotated complex numbers on the complex plane and see if they form a right angle at the origin.', 'The original complex number corresponds to the point $(7, 2)$ and the rotated one to the point $(-2, 7).$', 'I can use the dot product formula to see if they are perpendicular.', 'The dot product of two perpendicular vectors is zero, so I want to see if $(7, 2) \\\\cdot (-2, 7) = 0.$', 'I can calculate this by multiplying the corresponding components and adding them up: $(7)(-2) + (2)(7) = -14 + 14 = 0.$', 'This confirms that the rotation was correct.', 'Therefore, the resulting complex number is $7i - 2.$\\n\\n# Answer\\n\\n7i - 2'], 'rating_probs': [{'-1': 0.4955421880432429, '1': 0.4850565065558231, '0': 0.019401305400933915}, {'-1': 0.8115352052850885, '1': 0.16596184275124684, '0': 0.02250295196366458}, {'0': 0.6546451880933941, '1': 0.31537486890985433, '-1': 0.02997994299675163}, {'1': 0.8262738884082665, '0': 0.1682199724210449, '-1': 0.005506139170688614}, {'1': 0.49459962721441486, '0': 0.49145594479362104, '-1': 0.013944427991964166}, {'1': 0.8565057970399176, '0': 0.13033172825087222, '-1': 0.013162474709210219}, {'1': 0.9610508839385529, '0': 0.03856784254309562, '-1': 0.00038127351835143063}, {'1': 0.7603325694682361, '0': 0.23845109311131918, '-1': 0.0012163374204446772}, {'-1': 0.4995217602188542, '1': 0.2852564103239134, '0': 0.21522182945723228}], 'orm_score': 0.6872906684875488, 'prm_score': 0.044593952640983744, 'ground_truth_answer': '-2+7i'}\n",
      "prm_score = 0.044593952640983744\n",
      "\n",
      "{'-1': 0.4955421880432429, '1': 0.4850565065558231, '0': 0.019401305400933915}\n",
      "0.9999999999999999\n",
      "{'-1': 0.8115352052850885, '1': 0.16596184275124684, '0': 0.02250295196366458}\n",
      "0.9999999999999999\n",
      "{'0': 0.6546451880933941, '1': 0.31537486890985433, '-1': 0.02997994299675163}\n",
      "1.0\n",
      "{'1': 0.8262738884082665, '0': 0.1682199724210449, '-1': 0.005506139170688614}\n",
      "1.0\n",
      "{'1': 0.49459962721441486, '0': 0.49145594479362104, '-1': 0.013944427991964166}\n",
      "1.0000000000000002\n",
      "{'1': 0.8565057970399176, '0': 0.13033172825087222, '-1': 0.013162474709210219}\n",
      "1.0\n",
      "{'1': 0.9610508839385529, '0': 0.03856784254309562, '-1': 0.00038127351835143063}\n",
      "0.9999999999999999\n",
      "{'1': 0.7603325694682361, '0': 0.23845109311131918, '-1': 0.0012163374204446772}\n",
      "1.0\n",
      "{'-1': 0.4995217602188542, '1': 0.2852564103239134, '0': 0.21522182945723228}\n",
      "1.0\n",
      "\n",
      "positive_probs_product = 0.0018523420058605313\n",
      "positive_probs_minimum = 0.16596184275124684\n",
      "\n",
      "non_negative_probs_product = 0.044593952640983744\n",
      "non_negative_probs_minimum = 0.18846479471491143\n"
     ]
    },
    {
     "data": {
      "text/plain": [
       "(0.0018523420058605313,\n",
       " 0.16596184275124684,\n",
       " 0.044593952640983744,\n",
       " 0.18846479471491143)"
      ]
     },
     "execution_count": 19,
     "metadata": {},
     "output_type": "execute_result"
    }
   ],
   "source": [
    "# sample = random.choice(all_samples)\n",
    "sample = solution_samples[0]\n",
    "print(sample)\n",
    "\n",
    "utils.rated_sample2scores(sample, verbose=True)"
   ]
  },
  {
   "cell_type": "code",
   "execution_count": 20,
   "metadata": {},
   "outputs": [
    {
     "name": "stdout",
     "output_type": "stream",
     "text": [
      "LlamaTokenizerFast(name_or_path='/data/users/zhangjunlei/tyx/.cache/huggingface/hub/models--hf-internal-testing--llama-tokenizer/snapshots/99eceeba6e8289bee767f0771166b5917e70e470', vocab_size=32000, model_max_length=4096, is_fast=True, padding_side='left', truncation_side='right', special_tokens={'bos_token': '<s>', 'eos_token': '</s>', 'unk_token': '<unk>', 'pad_token': '<pad>'}, clean_up_tokenization_spaces=False)\n",
      "rating2word = {1: 'positive', -1: 'negative', 0: 'neutral'}\n",
      "rating_words = ['positive', 'negative', 'neutral']\n",
      "rating_token_ids = {21104, 8178, 6374}\n",
      "token_id2rating_str = {6374: '1', 8178: '-1', 21104: '0'}\n"
     ]
    }
   ],
   "source": [
    "tokenizer = transformers.AutoTokenizer.from_pretrained(utils.tokenizer_name_or_path, model_max_length=utils.model_max_length)\n",
    "tokenizer = utils.complete_four_special_tokens(tokenizer)\n",
    "\n",
    "rating2word, rating_words, rating_token_ids, token_id2rating_str = utils.get_rating_objs(tokenizer)"
   ]
  },
  {
   "cell_type": "code",
   "execution_count": 26,
   "metadata": {},
   "outputs": [],
   "source": [
    "problem_example = {\n",
    "    \"problem\": \"A $90^\\\\circ$ rotation around the origin in the counter-clockwise direction is applied to $7 + 2i.$  What is the resulting complex number?\",\n",
    "    \"subject\": \"Precalculus\",\n",
    "    \"level\": 2,\n",
    "    \"unique_id\": \"test/precalculus/779.json\",\n",
    "    \"ground_truth_answer\": \"-2+7i\"\n",
    "}"
   ]
  },
  {
   "cell_type": "code",
   "execution_count": 25,
   "metadata": {},
   "outputs": [],
   "source": [
    "for samples in samples_by_problem.values():\n",
    "    last_sample = samples[0]\n",
    "    for sample in samples[1:]:\n",
    "        for key in problem_example.keys():\n",
    "            assert sample[key] == last_sample[key], (key, sample[key], last_sample[key])\n",
    "    # break\n",
    "# right, all samples with the same problem have the same values for all keys"
   ]
  },
  {
   "cell_type": "code",
   "execution_count": 27,
   "metadata": {},
   "outputs": [],
   "source": [
    "solution_example = {\n",
    "    \"answer\": \"7i - 2\",\n",
    "    \"is_correct\": True,\n",
    "    \"steps\": [\n",
    "        \"I know that a $90^\\\\circ$ rotation around the origin in the complex plane can be achieved by multiplying the complex number by $i$, since $i$ has a magnitude of 1 and an argument of $90^\\\\circ$.\",\n",
    "        \"So, I can write the rotation as $(7 + 2i)i = 7i + 2i^2.$\",\n",
    "        \"To simplify this expression, I recall that $i^2 = -1$, so I can substitute that and get $7i - 2.$\",\n",
    "        \"This is the resulting complex number after the rotation.\\n\\n# Answer\\n\\n7i - 2\"\n",
    "    ],\n",
    "    \"rating_probs\": [\n",
    "        {\n",
    "            \"-1\": 0.593068042770836,\n",
    "            \"1\": 0.387681464904673,\n",
    "            \"0\": 0.01925049232449113\n",
    "        },\n",
    "        {\n",
    "            \"1\": 0.9101000509718192,\n",
    "            \"-1\": 0.05710269249567796,\n",
    "            \"0\": 0.0327972565325028\n",
    "        },\n",
    "        {\n",
    "            \"1\": 0.9291714977657496,\n",
    "            \"-1\": 0.04241488752473914,\n",
    "            \"0\": 0.028413614709511318\n",
    "        },\n",
    "        {\n",
    "            \"-1\": 0.7507610598005641,\n",
    "            \"1\": 0.1384993425138924,\n",
    "            \"0\": 0.11073959768554346\n",
    "        }\n",
    "    ],\n",
    "    \"orm_score\": 0.6326445937156677,\n",
    "    \"prm_score\": 0.09157553704097245,\n",
    "}"
   ]
  },
  {
   "cell_type": "code",
   "execution_count": 31,
   "metadata": {},
   "outputs": [],
   "source": [
    "all_samples = []\n",
    "for problem_samples in samples_by_problem.values():\n",
    "    problem_dict = {}\n",
    "    for key in problem_example.keys():\n",
    "        problem_dict[key] = problem_samples[0][key]\n",
    "    # print(problem_dict)\n",
    "    problem_dict[\"solutions\"] = []\n",
    "    for solution_sample in problem_samples:\n",
    "        solution = {}\n",
    "        for key in solution_example.keys():\n",
    "            solution[key] = solution_sample[key]\n",
    "        problem_dict[\"solutions\"].append(solution)\n",
    "    all_samples.append(problem_dict)\n",
    "    \n",
    "print(len(all_samples))\n",
    "print(len(all_samples[0][\"solutions\"]))"
   ]
  },
  {
   "cell_type": "code",
   "execution_count": 40,
   "metadata": {},
   "outputs": [],
   "source": [
    "# utils.save_json(all_samples, utils.problem_solution_hierarchical_samples_path_wo_basename + \".json\") # 99.4s\n",
    "utils.save_pickle(all_samples, utils.problem_solution_hierarchical_samples_path_wo_basename + \".pkl\") # 8.8s"
   ]
  }
 ],
 "metadata": {
  "kernelspec": {
   "display_name": "open-instruct",
   "language": "python",
   "name": "python3"
  },
  "language_info": {
   "codemirror_mode": {
    "name": "ipython",
    "version": 3
   },
   "file_extension": ".py",
   "mimetype": "text/x-python",
   "name": "python",
   "nbconvert_exporter": "python",
   "pygments_lexer": "ipython3",
   "version": "3.10.12"
  },
  "orig_nbformat": 4
 },
 "nbformat": 4,
 "nbformat_minor": 2
}
