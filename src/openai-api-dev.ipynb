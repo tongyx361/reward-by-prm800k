{
 "cells": [
  {
   "cell_type": "code",
   "execution_count": 2,
   "metadata": {},
   "outputs": [
    {
     "name": "stdout",
     "output_type": "stream",
     "text": [
      "[2023-09-13 06:33:03,459] [INFO] [real_accelerator.py:133:get_accelerator] Setting ds_accelerator to cuda (auto detect)\n"
     ]
    }
   ],
   "source": [
    "import utils\n",
    "\n",
    "utils.reload()"
   ]
  },
  {
   "cell_type": "code",
   "execution_count": 23,
   "metadata": {},
   "outputs": [],
   "source": [
    "import os\n",
    "import openai\n",
    "import orjson\n",
    "import random\n",
    "from tqdm import tqdm"
   ]
  },
  {
   "cell_type": "code",
   "execution_count": 5,
   "metadata": {},
   "outputs": [],
   "source": [
    "if openai.api_key is None:\n",
    "    with open(\"./openai-api-key\") as f:\n",
    "        openai.api_key = f.read().strip()\n",
    "\n",
    "# print(openai.api_key)"
   ]
  },
  {
   "cell_type": "code",
   "execution_count": 3,
   "metadata": {},
   "outputs": [
    {
     "name": "stdout",
     "output_type": "stream",
     "text": [
      "{'labeler': 'cc88bf76-df08-4041-be67-3464279cb3b1', 'timestamp': '2022-11-22T16:51:29.980606', 'generation': 6, 'is_quality_control_question': False, 'is_initial_screening_question': False, 'question': {'problem': 'A Senate committee has 5 Democrats, 5 Republicans, and 1 Independent.  In how many ways can they sit around a circular table if all the members of each party all sit next to each other?  (Two seatings are considered equivalent if one is a rotation of the other.)', 'ground_truth_solution': \"Choose any seat in which to place the Independent -- it doesn't matter which seat that we choose, since we can rotate the table. Once the Independent's seat has been chosen, either all the Democrats sit to their left and all the Republicans sit to their right, or the other way around. Either way, there are $5!$ ways to put the Democrats in their seats, and $5!$ ways to put the Republicans in their seats. So, the total number of ways to seat the people around the table is $2\\\\cdot5!\\\\cdot5!=2\\\\cdot120\\\\cdot120=\\\\boxed{28800}$.\", 'ground_truth_answer': '28800', 'pre_generated_steps': ['I notice that there are three groups of people: Democrats, Republicans, and Independent.', 'I wonder how many ways I can arrange these groups around the circle, ignoring the order within each group for now.', 'I recall that the number of ways to arrange n distinct objects around a circle is (n-1)!, since we can fix one object and then permute the rest.', 'So, for the three groups, there are (3-1)! = 2! = 2 ways to arrange them around the circle.', 'For example, one way is D-R-I, and the other way is R-D-I, where D stands for Democrats, R for Republicans, and I for Independent.', 'Now, I need to consider the order within each group.', 'For the Democrats, there are 5! ways to order them in a line, but only half of them are distinct around a circle, since reversing the order gives the same seating.', 'So, there are 5!/2 = 60 ways to order the Democrats around a circle.', 'Similarly, there are 60 ways to order the Republicans around a circle.', 'For the Independent, there is only one way to order him or her around a circle.', 'So, to get the total number of ways to seat the committee, I need to multiply the number of ways to arrange the groups by the number of ways to order each group.', 'That gives me 2 x 60 x 60 x 1 = 7200 ways.', '# Answer\\n\\n7200'], 'pre_generated_answer': '7200', 'pre_generated_verifier_score': 0.0011546110201324836}, 'label': {'steps': [{'completions': [{'text': 'I notice that there are three groups of people: Democrats, Republicans, and Independent.', 'rating': 1, 'flagged': None}], 'human_completion': None, 'chosen_completion': 0}, {'completions': [{'text': 'I wonder how many ways I can arrange these groups around the circle, ignoring the order within each group for now.', 'rating': 0, 'flagged': None}], 'human_completion': None, 'chosen_completion': 0}, {'completions': [{'text': 'I recall that the number of ways to arrange n distinct objects around a circle is (n-1)!, since we can fix one object and then permute the rest.', 'rating': 1, 'flagged': None}], 'human_completion': None, 'chosen_completion': 0}, {'completions': [{'text': 'So, for the three groups, there are (3-1)! = 2! = 2 ways to arrange them around the circle.', 'rating': 1, 'flagged': None}], 'human_completion': None, 'chosen_completion': 0}, {'completions': [{'text': 'For example, one way is D-R-I, and the other way is R-D-I, where D stands for Democrats, R for Republicans, and I for Independent.', 'rating': 1, 'flagged': None}], 'human_completion': None, 'chosen_completion': 0}, {'completions': [{'text': 'Now, I need to consider the order within each group.', 'rating': 1, 'flagged': None}], 'human_completion': None, 'chosen_completion': 0}, {'completions': [{'text': 'For the Democrats, there are 5! ways to order them in a line, but only half of them are distinct around a circle, since reversing the order gives the same seating.', 'rating': -1, 'flagged': None}, {'text': 'For the Democrats, there are 5! ways to arrange them in a line, and the same for the Republicans.', 'rating': 1, 'flagged': False}, {'text': 'I observe that the Democrats and Republicans have 5 members each, so there are 5! ways to order them within their group.', 'rating': 1, 'flagged': False}, {'text': 'I see that there are 5! ways to arrange the 5 Democrats in a row, and the same for the 5 Republicans.', 'rating': 1, 'flagged': False}], 'human_completion': None, 'chosen_completion': None}], 'total_time': 164458, 'finish_reason': 'found_error'}}\n"
     ]
    }
   ],
   "source": [
    "example_sample = utils.load_json(\n",
    "    \"/data/tongyx361/reward-by-prm800k/datasets/examples/prm800k-phase2-train-example.json\"\n",
    ")\n",
    "print(example_sample)"
   ]
  },
  {
   "cell_type": "code",
   "execution_count": 4,
   "metadata": {},
   "outputs": [],
   "source": [
    "query_set_name = \"prm800k-002validation-seed42\""
   ]
  },
  {
   "cell_type": "code",
   "execution_count": 6,
   "metadata": {},
   "outputs": [
    {
     "name": "stdout",
     "output_type": "stream",
     "text": [
      "{'id': 'chatcmpl-7xxu1TgC5ioae40MNWuW0q3NRZQHD', 'object': 'chat.completion', 'created': 1694525973, 'model': 'gpt-4-0613', 'choices': [{'index': 0, 'message': {'role': 'assistant', 'content': \"correctly identifies the groups that need to be arranged. It's appropriate in conversation, contains no inaccuracies or weirdness, and while there's no computation, it doesn't advance the solution process, so it should be rated as 0. Rating: 0\\nStep 2: I wonder how many ways I can arrange these groups around the circle, ignoring the order within each group for now. Analysis: this step is a reflection on the problem and proposes a valid approach to solve it. It's appropriate in conversation, contains no inaccuracies or weirdness, and while there's no computation, it does advance the solution process, so it should be rated as 1. Rating: 1\\nStep 3: I recall that the number of ways to arrange n distinct objects around a circle is (n-1)!, since we can fix one object and then permute the rest. Analysis: this step correctly recalls the formula for arranging objects around a circle, which is relevant to the problem. It's appropriate in conversation, contains no weirdness, and while there's no computation, it does advance the solution process, so it should be rated as 1. Rating: 1\\nStep 4: So, for the three groups, there are (3-1)! = 2! = 2 ways to arrange them around the circle. Analysis: this step correctly applies the formula to the problem. It's appropriate in conversation, contains no weirdness, and the computation is correct and can be easily verified, so it advances the solution process and should be rated as 1. Rating: 1\\nStep 5: For example, one way is D-R-I, and the other way is R-D-I, where D stands for Democrats, R for Republicans, and I for Independent. Analysis: this step provides valid examples of the possible arrangements of the groups. It's appropriate in conversation, contains no inaccuracies or weirdness, and while there's no computation, it does advance the solution process, so it should be rated as 1. Rating: 1\\nStep 6: Now, I need to consider the order within each group. Analysis: this step correctly identifies the next step in the problem-solving process. It's appropriate in conversation, contains no inaccuracies or weirdness, and while there's no computation, it does advance the solution process, so it should be rated as 1. Rating: 1\\nStep 7: For the Democrats, there are 5! ways to order them in a line, but only half of them are distinct around a circle, since reversing the order gives the same seating. Analysis: this step correctly applies the formula for arranging objects in a line to the Democrats and correctly notes that only half of the arrangements are distinct around a circle. It's appropriate in conversation, contains no weirdness, and the computation is correct and can be easily verified, so it advances the solution process and should be rated as 1. Rating: 1\"}, 'finish_reason': 'stop'}], 'usage': {'prompt_tokens': 2644, 'completion_tokens': 609, 'total_tokens': 3253}, 'task_prompt': '# Solution to analyse every step and rate\\n## Problem\\nA Senate committee has 5 Democrats, 5 Republicans, and 1 Independent.  In how many ways can they sit around a circular table if all the members of each party all sit next to each other?  (Two seatings are considered equivalent if one is a rotation of the other.)\\n## Steps\\nStep 1: \"\"\"I notice that there are three groups of people: Democrats, Republicans, and Independent.\"\"\"\\nStep 2: \"\"\"I wonder how many ways I can arrange these groups around the circle, ignoring the order within each group for now.\"\"\"\\nStep 3: \"\"\"I recall that the number of ways to arrange n distinct objects around a circle is (n-1)!, since we can fix one object and then permute the rest.\"\"\"\\nStep 4: \"\"\"So, for the three groups, there are (3-1)! = 2! = 2 ways to arrange them around the circle.\"\"\"\\nStep 5: \"\"\"For example, one way is D-R-I, and the other way is R-D-I, where D stands for Democrats, R for Republicans, and I for Independent.\"\"\"\\nStep 6: \"\"\"Now, I need to consider the order within each group.\"\"\"\\nStep 7: \"\"\"For the Democrats, there are 5! ways to order them in a line, but only half of them are distinct around a circle, since reversing the order gives the same seating.\"\"\"\\n## Step-Analysis-Rating\\nStep 1: \"\"\"I notice that there are three groups of people: Democrats, Republicans, and Independent. \"\"\" Analysis: this step '}\n"
     ]
    }
   ],
   "source": [
    "def prm800k_query_openai_to_analyse_and_rate_sample(\n",
    "    sample, verbose=False, test=False, debug=False\n",
    "):\n",
    "    reformatted_sample = utils.reformat_prm800k_sample(sample)\n",
    "    task_prefix = \"# Solution to analyse every step and rate\"\n",
    "    problem_prefix = \"## Problem\"\n",
    "    problem = reformatted_sample[\"problem\"]\n",
    "    steps = [item[\"step\"] for item in reformatted_sample[\"step_ratings\"]]\n",
    "    steps_prefix = \"## Steps\"\n",
    "    steps_prompt = \"\\n\".join(\n",
    "        [f'Step {i+1}: \"\"\"{step}\"\"\"' for i, step in enumerate(steps)]\n",
    "    )\n",
    "    step_analysis_rating_prefix = \"## Step-Analysis-Rating\"\n",
    "    step_analysis_rating_example = f'Step 1: \"\"\"{steps[0]} \"\"\" Analysis: this step '\n",
    "    task_prompt = f\"{task_prefix}\\n{problem_prefix}\\n{problem}\\n{steps_prefix}\\n{steps_prompt}\\n{step_analysis_rating_prefix}\\n{step_analysis_rating_example}\"\n",
    "\n",
    "    # print(task_prompt)\n",
    "    sys_message = \"# Instructions\\nYou're an excellent mathematician who excels at critically analyze the steps in the solutions to math problems and find errors in them.\\nI will provide some math problem and its step-by-step solution, and your goal is to first critically analyze every step and rate this to math problems with negative(-1) or neutral(0) or positive(1).\\nIf a step is not compliant with any one among the following constraints: \\n- Appropriate in conversation \\n- Contains no inaccuracies \\n- Contains no weirdness \\n- Computations can be verified with recomputation or other methods\\nthen this step should be rated as -1.\\nIf a step is compliant with all of the constraints above, then this step can be rated as 0.\\nAnd if this step additionally advances the process of solving the problem, then this step should be rated as 1 instead of 0.\\nThe solutions will often say things that look ok at first, but will turn out to be wrong on closer inspection - stay vigilant!\\nNever make any conlusion such a rating or whether this step is correct before your analysis finishes.\\nYou must analyze and rate every step until the solution finishes.\\nThe format should be: Step {i}: {step} Analysis: this step {analysis} Rating: {rating}\\nLet's take a deep breath first and think step by step.\\n# Example\\n## Problem\\nLet $\\\\theta$ be the smallest acute angle for which $\\\\sin \\\\theta,$ $\\\\sin 2 \\\\theta,$ $\\\\sin 3 \\\\theta$ form an arithmetic progression, in some order.  Find $\\\\cos \\\\theta.$\\n## Step-Analysis-Rating\\nStep 1: I notice that the problem involves trigonometric functions and arithmetic progressions, so I wonder if there is a connection between them. Analysis: this step points out what the problem involves and leads to probing into the connection between them, so this step is appropriate in conversation, contains no inaccuracies, contains no weirdness, and contains no computations to verify, but fails to substantially advance the process of solving the problem, so it should be rated as 0. Rating: 0\\nStep 2: I recall that an arithmetic progression is a sequence of numbers where each term is obtained by adding a constant amount to the previous term. Analysis: this step recalls the definition of an arithmetic progression, which is accurate and relevant to the problem. It is also appropriate in conversation and contains no weirdness. The computation is not applicable here, but the information provided helps to advance the solution process, so it should be rated as 1. Rating: 1\\nStep 3: I also remember that the sine function is periodic, which means that it repeats the same values over and over again at regular intervals. Analysis: this step recalls an important characteristic of the sine function, which is accurate and directly relevant to the problem. It's also appropriate in conversation and contains no weirdness. There's no computation to verify in this step, but it advances the solution process, so it should be rated as 1. Rating: 1\\nStep 4: I wonder if I can use these facts to find a relationship between $\\\\sin \\\\theta,$ $\\\\sin 2 \\\\theta,$ and $\\\\sin 3 \\\\theta.$ Analysis: this step is a reflection on the previously mentioned facts and poses a question about how to apply them to solve the problem. It's appropriate in conversation, contains no inaccuracies or weirdness. However, it does not involve any computations and does not advance the solution process, hence it's rated as 0. Rating: 0\\nStep 5: I try to visualize what the graph of the sine function looks like, and how it changes when I multiply the argument by 2 or 3. Analysis: this step involves visualizing the problem, which is a valid and effective approach in mathematics. It's appropriate in conversation, contains no inaccuracies or weirdness, and while there's no computation, it advances the process of solving the problem by providing a way to understand the problem, so it should be rated as 1. Rating: 1\\nStep 6: I notice that multiplying the argument by 2 makes the graph oscillate twice as fast, and multiplying by 3 makes it oscillate three times as fast. Analysis: this step provides an accurate observation about the behavior of the sine function when the argument is multiplied. It's appropriate in conversation, contains no weirdness, and while there's no computation, it does advance the solution process, so it should be rated as 1. Rating: 1\\nStep 7: I also notice that the amplitude of the graph stays the same, which means that the highest and lowest values of the sine function are still 1 and -1, regardless of the argument. Analysis: this step provides another accurate observation about the sine function. It's appropriate in conversation, contains no weirdness, and while there's no computation, it does advance the solution process, so it should be rated as 1. Rating: 1\\nStep 8: I think about what it means for three values of the sine function to form an arithmetic progression. Analysis: this step reflects on the problem statement and what it implies. It's appropriate in conversation, contains no inaccuracies or weirdness, and while there's no computation, it does not advance the solution process, hence it's rated as 0. Rating: 0\\nStep 9: It means that the difference between any two consecutive values is the same. Analysis: this step provides an accurate definition of an arithmetic progression in the context of the problem. It's appropriate in conversation, contains no weirdness, and while there's no computation, it does advance the solution process, so it should be rated as 1. Rating: 1\\nStep 10: For example, if $\\\\sin \\\\theta = a,$ $\\\\sin 2 \\\\theta = b,$ and $\\\\sin 3 \\\\theta = c,$ then $b - a = c - b,$ or $2b = a + c.$ Analysis: this step correctly applies the definition of an arithmetic progression to the problem. It's appropriate in conversation, contains no weirdness, and in the computation, for $b - a = c - b$, moving the term $b$ yields $2b = a + c$, which verifies the computation, so it advances the solution process and should be rated as 1. Rating: 1\\nStep 11: I wonder if this equation has any solutions for $a, b, c$ between -1 and 1, which are the possible values of the sine function. Analysis: this step reflects on the possible solutions of the equation. It's appropriate in conversation, contains no inaccuracies or weirdness, and while there's no computation, it does not advance the solution process, hence it's rated as 0. Rating: 0\\nStep 12: I try to simplify the equation by using some trigonometric identities. Analysis: this step proposes a valid approach to solve the equation. It's appropriate in conversation, contains no inaccuracies or weirdness, and while there's no computation, it does advance the solution process, so it should be rated as 1. Rating: 1\\nStep 13: I know that $\\\\sin 2 \\\\theta = 2 \\\\sin \\\\theta \\\\cos \\\\theta,$ and $\\\\sin 3 \\\\theta = 3 \\\\sin \\\\theta - 4 \\\\sin^3 \\\\theta.$ Analysis: this step correctly recalls two important trigonometric identities. It's appropriate in conversation, contains no weirdness, and while there's no computation, it does advance the solution process, so it should be rated as 1. Rating: 1\\nStep 14: I substitute these expressions into the equation and get $4 \\\\sin \\\\theta \\\\cos \\\\theta = \\\\sin \\\\theta + 3 \\\\sin \\\\theta - 4 \\\\sin^3 \\\\theta.$ Analysis: this step correctly substitutes the trigonometric identities into the equation. It's appropriate in conversation, contains no weirdness, and the calculations in this step substitute some trigonometric identities into the equation $2b = a + c$ (where $\\\\sin \\\\theta = a,$ $ $\\\\sin 2 \\\\theta = b,$ and $\\\\sin 3 \\\\theta = c$) to get $4 \\\\sin \\\\theta \\\\cos \\\\theta = \\\\sin \\\\theta + 3 \\\\sin \\\\theta - 4 \\\\sin^3 \\\\theta$. sin^3 \\\\theta$, and to verify these calculations, we note that $\\\\sin 2\\\\theta = 2\\\\sin \\\\theta \\\\cos \\\\theta, \\\\sin 3\\\\theta = 4\\\\sin \\\\theta - 4\\\\sin^3 \\\\theta$, and substituting does give the same result, so the calculations in this step can be verified. By this substition, this step advances the solution process and should be rated as 1. Rating: 1\\nStep 15: I divide both sides by $\\\\sin \\\\theta$ and get $4 \\\\cos \\\\theta = 4 - 4 \\\\sin^2 \\\\theta.$ Analysis: this step correctly simplifies the equation by dividing both sides by $\\\\sin \\\\theta$. It's appropriate in conversation, contains no weirdness, and in the computation, both sides so it advances the solution process and should be rated as 1. Rating: 1\\nStep 16: I recognize that $\\\\sin^2 \\\\theta = 1 - \\\\cos^2 \\\\theta,$ so I substitute that and get $4 \\\\cos \\\\theta = 4 - 4 (1 - \\\\cos^2 \\\\theta).$ Analysis: this step correctly applies the Pythagorean identity $\\\\sin^2 \\\\theta = 1 - \\\\cos^2 \\\\theta$. It's appropriate in conversation, contains no weirdness, and the computation is simple substitution that can be easily verified, so it advances the solution process and should be rated as 1. Rating: 1\\nStep 17: I simplify and get $4 \\\\cos^2 \\\\theta + 4 \\\\cos \\\\theta - 4 = 0.$ Analysis: this step simplifies $4 \\\\cos \\\\theta = 4 - 4 (1 - \\\\cos^2 \\\\theta)$ to get $4 \\\\cos^2 \\\\theta + 4 \\\\cos \\\\theta - 4 = 0$, but by expanding the expression and distributing $-4$ on the right side of the equation, we get $4 \\\\cos \\\\theta = 4 + 4 \\\\cos^2 \\\\theta - 4$, then combining like terms on the right side of the equation, we get $4 \\\\cos \\\\theta = 4\\\\cos^2 \\\\theta$, and then isolating $\\\\cos \\\\theta$ on one side by dividing both sides by 4, we get $\\\\frac{4 \\\\cos \\\\theta}{4} = \\\\frac{4\\\\cos^2 \\\\theta}{4}$, which further simplifies to $\\\\cos \\\\theta = \\\\cos^2 \\\\theta$. Therefore, it only looks appropriate in conversation and without weirdness, but contains inaccuracies and the computation is wrong. Thus, it should be rated as -1. Rating: -1\"\n",
    "\n",
    "    request_dict = dict(\n",
    "        model=\"gpt-4\",\n",
    "        messages=[\n",
    "            {\"role\": \"system\", \"content\": sys_message},\n",
    "            {\n",
    "                \"role\": \"user\",\n",
    "                \"content\": task_prompt,\n",
    "            },\n",
    "        ],\n",
    "        temperature=0.6,\n",
    "        top_p=0.95,\n",
    "        frequency_penalty=0,\n",
    "        presence_penalty=0,\n",
    "    )\n",
    "\n",
    "    if not test:\n",
    "        response = openai.ChatCompletion.create(**request_dict)\n",
    "    else:\n",
    "        response = {\n",
    "            \"id\": \"chatcmpl-7xxu1TgC5ioae40MNWuW0q3NRZQHD\",\n",
    "            \"object\": \"chat.completion\",\n",
    "            \"created\": 1694525973,\n",
    "            \"model\": \"gpt-4-0613\",\n",
    "            \"choices\": [\n",
    "                {\n",
    "                    \"index\": 0,\n",
    "                    \"message\": {\n",
    "                        \"role\": \"assistant\",\n",
    "                        \"content\": \"correctly identifies the groups that need to be arranged. It's appropriate in conversation, contains no inaccuracies or weirdness, and while there's no computation, it doesn't advance the solution process, so it should be rated as 0. Rating: 0\\nStep 2: I wonder how many ways I can arrange these groups around the circle, ignoring the order within each group for now. Analysis: this step is a reflection on the problem and proposes a valid approach to solve it. It's appropriate in conversation, contains no inaccuracies or weirdness, and while there's no computation, it does advance the solution process, so it should be rated as 1. Rating: 1\\nStep 3: I recall that the number of ways to arrange n distinct objects around a circle is (n-1)!, since we can fix one object and then permute the rest. Analysis: this step correctly recalls the formula for arranging objects around a circle, which is relevant to the problem. It's appropriate in conversation, contains no weirdness, and while there's no computation, it does advance the solution process, so it should be rated as 1. Rating: 1\\nStep 4: So, for the three groups, there are (3-1)! = 2! = 2 ways to arrange them around the circle. Analysis: this step correctly applies the formula to the problem. It's appropriate in conversation, contains no weirdness, and the computation is correct and can be easily verified, so it advances the solution process and should be rated as 1. Rating: 1\\nStep 5: For example, one way is D-R-I, and the other way is R-D-I, where D stands for Democrats, R for Republicans, and I for Independent. Analysis: this step provides valid examples of the possible arrangements of the groups. It's appropriate in conversation, contains no inaccuracies or weirdness, and while there's no computation, it does advance the solution process, so it should be rated as 1. Rating: 1\\nStep 6: Now, I need to consider the order within each group. Analysis: this step correctly identifies the next step in the problem-solving process. It's appropriate in conversation, contains no inaccuracies or weirdness, and while there's no computation, it does advance the solution process, so it should be rated as 1. Rating: 1\\nStep 7: For the Democrats, there are 5! ways to order them in a line, but only half of them are distinct around a circle, since reversing the order gives the same seating. Analysis: this step correctly applies the formula for arranging objects in a line to the Democrats and correctly notes that only half of the arrangements are distinct around a circle. It's appropriate in conversation, contains no weirdness, and the computation is correct and can be easily verified, so it advances the solution process and should be rated as 1. Rating: 1\",\n",
    "                    },\n",
    "                    \"finish_reason\": \"stop\",\n",
    "                }\n",
    "            ],\n",
    "            \"usage\": {\n",
    "                \"prompt_tokens\": 2644,\n",
    "                \"completion_tokens\": 609,\n",
    "                \"total_tokens\": 3253,\n",
    "            },\n",
    "        }\n",
    "\n",
    "    # query = response.copy()\n",
    "    response[\"task_prompt\"] = task_prompt\n",
    "\n",
    "    if verbose:\n",
    "        print(response)\n",
    "    return response\n",
    "\n",
    "\n",
    "prm800k_query_openai_to_analyse_and_rate_sample(example_sample, test=True, verbose=True)\n",
    "\n",
    "\n",
    "def prm800k_query_openai_to_analyse_and_rate_dataset(\n",
    "    dataset=\"prm800k-002validation-seed42\",\n",
    "    query_set_name: str = None,\n",
    "    resume=True,\n",
    "    restart=False,\n",
    "    debug: bool = False,\n",
    "):\n",
    "    if isinstance(dataset, str):\n",
    "        if not os.path.exists(dataset):\n",
    "            dataset = os.path.join(utils.project_root, \"datasets\", f\"{dataset}.jsonl\")\n",
    "    if dataset.endswith(\".jsonl\"):\n",
    "        dataset = utils.load_jsonl(dataset)\n",
    "\n",
    "    if debug:\n",
    "        print(random.choice(dataset))\n",
    "\n",
    "    queries_path = os.path.join(\n",
    "        utils.project_root, \"datasets\", f\"{query_set_name}-openai-api-queries.jsonl\"\n",
    "    )\n",
    "\n",
    "    print(f\"queries_path = {queries_path}\")\n",
    "\n",
    "    if restart:\n",
    "        os.remove(queries_path)\n",
    "\n",
    "    with open(queries_path, \"r+\") as f:\n",
    "        # r+: read from the beginning and write to the end\n",
    "        if resume:\n",
    "            lines = f.readlines()\n",
    "            num_completed = len(lines)\n",
    "            if debug:\n",
    "                print(lines)\n",
    "                print(f\"num_completed = {num_completed}\")\n",
    "                # raise RuntimeError()\n",
    "        for idx, sample in tqdm(enumerate(dataset)):\n",
    "            if idx < num_completed:\n",
    "                continue\n",
    "            query = prm800k_query_openai_to_analyse_and_rate_sample(sample, test=debug)\n",
    "            f.write(orjson.dumps(query).decode() + \"\\n\")\n",
    "            if debug:\n",
    "                break\n",
    "    return None"
   ]
  },
  {
   "cell_type": "code",
   "execution_count": 50,
   "metadata": {},
   "outputs": [
    {
     "name": "stdout",
     "output_type": "stream",
     "text": [
      "queries_path = /data/tongyx361/reward-by-prm800k/datasets/prm800k-002validation-seed42-openai-queries.jsonl\n"
     ]
    },
    {
     "name": "stderr",
     "output_type": "stream",
     "text": [
      "29it [1:01:32, 127.32s/it]\n"
     ]
    },
    {
     "ename": "Timeout",
     "evalue": "Request timed out: HTTPSConnectionPool(host='api.openai.com', port=443): Read timed out. (read timeout=600)",
     "output_type": "error",
     "traceback": [
      "\u001b[0;31m---------------------------------------------------------------------------\u001b[0m",
      "\u001b[0;31mTimeoutError\u001b[0m                              Traceback (most recent call last)",
      "File \u001b[0;32m/data/tongyx361/miniconda3/envs/nlp/lib/python3.10/site-packages/urllib3/connectionpool.py:466\u001b[0m, in \u001b[0;36mHTTPConnectionPool._make_request\u001b[0;34m(self, conn, method, url, timeout, chunked, **httplib_request_kw)\u001b[0m\n\u001b[1;32m    462\u001b[0m         \u001b[39mexcept\u001b[39;00m \u001b[39mBaseException\u001b[39;00m \u001b[39mas\u001b[39;00m e:\n\u001b[1;32m    463\u001b[0m             \u001b[39m# Remove the TypeError from the exception chain in\u001b[39;00m\n\u001b[1;32m    464\u001b[0m             \u001b[39m# Python 3 (including for exceptions like SystemExit).\u001b[39;00m\n\u001b[1;32m    465\u001b[0m             \u001b[39m# Otherwise it looks like a bug in the code.\u001b[39;00m\n\u001b[0;32m--> 466\u001b[0m             six\u001b[39m.\u001b[39;49mraise_from(e, \u001b[39mNone\u001b[39;49;00m)\n\u001b[1;32m    467\u001b[0m \u001b[39mexcept\u001b[39;00m (SocketTimeout, BaseSSLError, SocketError) \u001b[39mas\u001b[39;00m e:\n",
      "File \u001b[0;32m<string>:3\u001b[0m, in \u001b[0;36mraise_from\u001b[0;34m(value, from_value)\u001b[0m\n",
      "File \u001b[0;32m/data/tongyx361/miniconda3/envs/nlp/lib/python3.10/site-packages/urllib3/connectionpool.py:461\u001b[0m, in \u001b[0;36mHTTPConnectionPool._make_request\u001b[0;34m(self, conn, method, url, timeout, chunked, **httplib_request_kw)\u001b[0m\n\u001b[1;32m    460\u001b[0m \u001b[39mtry\u001b[39;00m:\n\u001b[0;32m--> 461\u001b[0m     httplib_response \u001b[39m=\u001b[39m conn\u001b[39m.\u001b[39;49mgetresponse()\n\u001b[1;32m    462\u001b[0m \u001b[39mexcept\u001b[39;00m \u001b[39mBaseException\u001b[39;00m \u001b[39mas\u001b[39;00m e:\n\u001b[1;32m    463\u001b[0m     \u001b[39m# Remove the TypeError from the exception chain in\u001b[39;00m\n\u001b[1;32m    464\u001b[0m     \u001b[39m# Python 3 (including for exceptions like SystemExit).\u001b[39;00m\n\u001b[1;32m    465\u001b[0m     \u001b[39m# Otherwise it looks like a bug in the code.\u001b[39;00m\n",
      "File \u001b[0;32m/data/tongyx361/miniconda3/envs/nlp/lib/python3.10/http/client.py:1375\u001b[0m, in \u001b[0;36mHTTPConnection.getresponse\u001b[0;34m(self)\u001b[0m\n\u001b[1;32m   1374\u001b[0m \u001b[39mtry\u001b[39;00m:\n\u001b[0;32m-> 1375\u001b[0m     response\u001b[39m.\u001b[39;49mbegin()\n\u001b[1;32m   1376\u001b[0m \u001b[39mexcept\u001b[39;00m \u001b[39mConnectionError\u001b[39;00m:\n",
      "File \u001b[0;32m/data/tongyx361/miniconda3/envs/nlp/lib/python3.10/http/client.py:318\u001b[0m, in \u001b[0;36mHTTPResponse.begin\u001b[0;34m(self)\u001b[0m\n\u001b[1;32m    317\u001b[0m \u001b[39mwhile\u001b[39;00m \u001b[39mTrue\u001b[39;00m:\n\u001b[0;32m--> 318\u001b[0m     version, status, reason \u001b[39m=\u001b[39m \u001b[39mself\u001b[39;49m\u001b[39m.\u001b[39;49m_read_status()\n\u001b[1;32m    319\u001b[0m     \u001b[39mif\u001b[39;00m status \u001b[39m!=\u001b[39m CONTINUE:\n",
      "File \u001b[0;32m/data/tongyx361/miniconda3/envs/nlp/lib/python3.10/http/client.py:279\u001b[0m, in \u001b[0;36mHTTPResponse._read_status\u001b[0;34m(self)\u001b[0m\n\u001b[1;32m    278\u001b[0m \u001b[39mdef\u001b[39;00m \u001b[39m_read_status\u001b[39m(\u001b[39mself\u001b[39m):\n\u001b[0;32m--> 279\u001b[0m     line \u001b[39m=\u001b[39m \u001b[39mstr\u001b[39m(\u001b[39mself\u001b[39;49m\u001b[39m.\u001b[39;49mfp\u001b[39m.\u001b[39;49mreadline(_MAXLINE \u001b[39m+\u001b[39;49m \u001b[39m1\u001b[39;49m), \u001b[39m\"\u001b[39m\u001b[39miso-8859-1\u001b[39m\u001b[39m\"\u001b[39m)\n\u001b[1;32m    280\u001b[0m     \u001b[39mif\u001b[39;00m \u001b[39mlen\u001b[39m(line) \u001b[39m>\u001b[39m _MAXLINE:\n",
      "File \u001b[0;32m/data/tongyx361/miniconda3/envs/nlp/lib/python3.10/socket.py:705\u001b[0m, in \u001b[0;36mSocketIO.readinto\u001b[0;34m(self, b)\u001b[0m\n\u001b[1;32m    704\u001b[0m \u001b[39mtry\u001b[39;00m:\n\u001b[0;32m--> 705\u001b[0m     \u001b[39mreturn\u001b[39;00m \u001b[39mself\u001b[39;49m\u001b[39m.\u001b[39;49m_sock\u001b[39m.\u001b[39;49mrecv_into(b)\n\u001b[1;32m    706\u001b[0m \u001b[39mexcept\u001b[39;00m timeout:\n",
      "File \u001b[0;32m/data/tongyx361/miniconda3/envs/nlp/lib/python3.10/ssl.py:1274\u001b[0m, in \u001b[0;36mSSLSocket.recv_into\u001b[0;34m(self, buffer, nbytes, flags)\u001b[0m\n\u001b[1;32m   1271\u001b[0m         \u001b[39mraise\u001b[39;00m \u001b[39mValueError\u001b[39;00m(\n\u001b[1;32m   1272\u001b[0m           \u001b[39m\"\u001b[39m\u001b[39mnon-zero flags not allowed in calls to recv_into() on \u001b[39m\u001b[39m%s\u001b[39;00m\u001b[39m\"\u001b[39m \u001b[39m%\u001b[39m\n\u001b[1;32m   1273\u001b[0m           \u001b[39mself\u001b[39m\u001b[39m.\u001b[39m\u001b[39m__class__\u001b[39m)\n\u001b[0;32m-> 1274\u001b[0m     \u001b[39mreturn\u001b[39;00m \u001b[39mself\u001b[39;49m\u001b[39m.\u001b[39;49mread(nbytes, buffer)\n\u001b[1;32m   1275\u001b[0m \u001b[39melse\u001b[39;00m:\n",
      "File \u001b[0;32m/data/tongyx361/miniconda3/envs/nlp/lib/python3.10/ssl.py:1130\u001b[0m, in \u001b[0;36mSSLSocket.read\u001b[0;34m(self, len, buffer)\u001b[0m\n\u001b[1;32m   1129\u001b[0m \u001b[39mif\u001b[39;00m buffer \u001b[39mis\u001b[39;00m \u001b[39mnot\u001b[39;00m \u001b[39mNone\u001b[39;00m:\n\u001b[0;32m-> 1130\u001b[0m     \u001b[39mreturn\u001b[39;00m \u001b[39mself\u001b[39;49m\u001b[39m.\u001b[39;49m_sslobj\u001b[39m.\u001b[39;49mread(\u001b[39mlen\u001b[39;49m, buffer)\n\u001b[1;32m   1131\u001b[0m \u001b[39melse\u001b[39;00m:\n",
      "\u001b[0;31mTimeoutError\u001b[0m: The read operation timed out",
      "\nDuring handling of the above exception, another exception occurred:\n",
      "\u001b[0;31mReadTimeoutError\u001b[0m                          Traceback (most recent call last)",
      "File \u001b[0;32m/data/tongyx361/miniconda3/envs/nlp/lib/python3.10/site-packages/requests/adapters.py:486\u001b[0m, in \u001b[0;36mHTTPAdapter.send\u001b[0;34m(self, request, stream, timeout, verify, cert, proxies)\u001b[0m\n\u001b[1;32m    485\u001b[0m \u001b[39mtry\u001b[39;00m:\n\u001b[0;32m--> 486\u001b[0m     resp \u001b[39m=\u001b[39m conn\u001b[39m.\u001b[39;49murlopen(\n\u001b[1;32m    487\u001b[0m         method\u001b[39m=\u001b[39;49mrequest\u001b[39m.\u001b[39;49mmethod,\n\u001b[1;32m    488\u001b[0m         url\u001b[39m=\u001b[39;49murl,\n\u001b[1;32m    489\u001b[0m         body\u001b[39m=\u001b[39;49mrequest\u001b[39m.\u001b[39;49mbody,\n\u001b[1;32m    490\u001b[0m         headers\u001b[39m=\u001b[39;49mrequest\u001b[39m.\u001b[39;49mheaders,\n\u001b[1;32m    491\u001b[0m         redirect\u001b[39m=\u001b[39;49m\u001b[39mFalse\u001b[39;49;00m,\n\u001b[1;32m    492\u001b[0m         assert_same_host\u001b[39m=\u001b[39;49m\u001b[39mFalse\u001b[39;49;00m,\n\u001b[1;32m    493\u001b[0m         preload_content\u001b[39m=\u001b[39;49m\u001b[39mFalse\u001b[39;49;00m,\n\u001b[1;32m    494\u001b[0m         decode_content\u001b[39m=\u001b[39;49m\u001b[39mFalse\u001b[39;49;00m,\n\u001b[1;32m    495\u001b[0m         retries\u001b[39m=\u001b[39;49m\u001b[39mself\u001b[39;49m\u001b[39m.\u001b[39;49mmax_retries,\n\u001b[1;32m    496\u001b[0m         timeout\u001b[39m=\u001b[39;49mtimeout,\n\u001b[1;32m    497\u001b[0m         chunked\u001b[39m=\u001b[39;49mchunked,\n\u001b[1;32m    498\u001b[0m     )\n\u001b[1;32m    500\u001b[0m \u001b[39mexcept\u001b[39;00m (ProtocolError, \u001b[39mOSError\u001b[39;00m) \u001b[39mas\u001b[39;00m err:\n",
      "File \u001b[0;32m/data/tongyx361/miniconda3/envs/nlp/lib/python3.10/site-packages/urllib3/connectionpool.py:798\u001b[0m, in \u001b[0;36mHTTPConnectionPool.urlopen\u001b[0;34m(self, method, url, body, headers, retries, redirect, assert_same_host, timeout, pool_timeout, release_conn, chunked, body_pos, **response_kw)\u001b[0m\n\u001b[1;32m    796\u001b[0m     e \u001b[39m=\u001b[39m ProtocolError(\u001b[39m\"\u001b[39m\u001b[39mConnection aborted.\u001b[39m\u001b[39m\"\u001b[39m, e)\n\u001b[0;32m--> 798\u001b[0m retries \u001b[39m=\u001b[39m retries\u001b[39m.\u001b[39;49mincrement(\n\u001b[1;32m    799\u001b[0m     method, url, error\u001b[39m=\u001b[39;49me, _pool\u001b[39m=\u001b[39;49m\u001b[39mself\u001b[39;49m, _stacktrace\u001b[39m=\u001b[39;49msys\u001b[39m.\u001b[39;49mexc_info()[\u001b[39m2\u001b[39;49m]\n\u001b[1;32m    800\u001b[0m )\n\u001b[1;32m    801\u001b[0m retries\u001b[39m.\u001b[39msleep()\n",
      "File \u001b[0;32m/data/tongyx361/miniconda3/envs/nlp/lib/python3.10/site-packages/urllib3/util/retry.py:550\u001b[0m, in \u001b[0;36mRetry.increment\u001b[0;34m(self, method, url, response, error, _pool, _stacktrace)\u001b[0m\n\u001b[1;32m    549\u001b[0m \u001b[39mif\u001b[39;00m read \u001b[39mis\u001b[39;00m \u001b[39mFalse\u001b[39;00m \u001b[39mor\u001b[39;00m \u001b[39mnot\u001b[39;00m \u001b[39mself\u001b[39m\u001b[39m.\u001b[39m_is_method_retryable(method):\n\u001b[0;32m--> 550\u001b[0m     \u001b[39mraise\u001b[39;00m six\u001b[39m.\u001b[39;49mreraise(\u001b[39mtype\u001b[39;49m(error), error, _stacktrace)\n\u001b[1;32m    551\u001b[0m \u001b[39melif\u001b[39;00m read \u001b[39mis\u001b[39;00m \u001b[39mnot\u001b[39;00m \u001b[39mNone\u001b[39;00m:\n",
      "File \u001b[0;32m/data/tongyx361/miniconda3/envs/nlp/lib/python3.10/site-packages/urllib3/packages/six.py:770\u001b[0m, in \u001b[0;36mreraise\u001b[0;34m(tp, value, tb)\u001b[0m\n\u001b[1;32m    769\u001b[0m         \u001b[39mraise\u001b[39;00m value\u001b[39m.\u001b[39mwith_traceback(tb)\n\u001b[0;32m--> 770\u001b[0m     \u001b[39mraise\u001b[39;00m value\n\u001b[1;32m    771\u001b[0m \u001b[39mfinally\u001b[39;00m:\n",
      "File \u001b[0;32m/data/tongyx361/miniconda3/envs/nlp/lib/python3.10/site-packages/urllib3/connectionpool.py:714\u001b[0m, in \u001b[0;36mHTTPConnectionPool.urlopen\u001b[0;34m(self, method, url, body, headers, retries, redirect, assert_same_host, timeout, pool_timeout, release_conn, chunked, body_pos, **response_kw)\u001b[0m\n\u001b[1;32m    713\u001b[0m \u001b[39m# Make the request on the httplib connection object.\u001b[39;00m\n\u001b[0;32m--> 714\u001b[0m httplib_response \u001b[39m=\u001b[39m \u001b[39mself\u001b[39;49m\u001b[39m.\u001b[39;49m_make_request(\n\u001b[1;32m    715\u001b[0m     conn,\n\u001b[1;32m    716\u001b[0m     method,\n\u001b[1;32m    717\u001b[0m     url,\n\u001b[1;32m    718\u001b[0m     timeout\u001b[39m=\u001b[39;49mtimeout_obj,\n\u001b[1;32m    719\u001b[0m     body\u001b[39m=\u001b[39;49mbody,\n\u001b[1;32m    720\u001b[0m     headers\u001b[39m=\u001b[39;49mheaders,\n\u001b[1;32m    721\u001b[0m     chunked\u001b[39m=\u001b[39;49mchunked,\n\u001b[1;32m    722\u001b[0m )\n\u001b[1;32m    724\u001b[0m \u001b[39m# If we're going to release the connection in ``finally:``, then\u001b[39;00m\n\u001b[1;32m    725\u001b[0m \u001b[39m# the response doesn't need to know about the connection. Otherwise\u001b[39;00m\n\u001b[1;32m    726\u001b[0m \u001b[39m# it will also try to release it and we'll have a double-release\u001b[39;00m\n\u001b[1;32m    727\u001b[0m \u001b[39m# mess.\u001b[39;00m\n",
      "File \u001b[0;32m/data/tongyx361/miniconda3/envs/nlp/lib/python3.10/site-packages/urllib3/connectionpool.py:468\u001b[0m, in \u001b[0;36mHTTPConnectionPool._make_request\u001b[0;34m(self, conn, method, url, timeout, chunked, **httplib_request_kw)\u001b[0m\n\u001b[1;32m    467\u001b[0m \u001b[39mexcept\u001b[39;00m (SocketTimeout, BaseSSLError, SocketError) \u001b[39mas\u001b[39;00m e:\n\u001b[0;32m--> 468\u001b[0m     \u001b[39mself\u001b[39;49m\u001b[39m.\u001b[39;49m_raise_timeout(err\u001b[39m=\u001b[39;49me, url\u001b[39m=\u001b[39;49murl, timeout_value\u001b[39m=\u001b[39;49mread_timeout)\n\u001b[1;32m    469\u001b[0m     \u001b[39mraise\u001b[39;00m\n",
      "File \u001b[0;32m/data/tongyx361/miniconda3/envs/nlp/lib/python3.10/site-packages/urllib3/connectionpool.py:357\u001b[0m, in \u001b[0;36mHTTPConnectionPool._raise_timeout\u001b[0;34m(self, err, url, timeout_value)\u001b[0m\n\u001b[1;32m    356\u001b[0m \u001b[39mif\u001b[39;00m \u001b[39misinstance\u001b[39m(err, SocketTimeout):\n\u001b[0;32m--> 357\u001b[0m     \u001b[39mraise\u001b[39;00m ReadTimeoutError(\n\u001b[1;32m    358\u001b[0m         \u001b[39mself\u001b[39m, url, \u001b[39m\"\u001b[39m\u001b[39mRead timed out. (read timeout=\u001b[39m\u001b[39m%s\u001b[39;00m\u001b[39m)\u001b[39m\u001b[39m\"\u001b[39m \u001b[39m%\u001b[39m timeout_value\n\u001b[1;32m    359\u001b[0m     )\n\u001b[1;32m    361\u001b[0m \u001b[39m# See the above comment about EAGAIN in Python 3. In Python 2 we have\u001b[39;00m\n\u001b[1;32m    362\u001b[0m \u001b[39m# to specifically catch it and throw the timeout error\u001b[39;00m\n",
      "\u001b[0;31mReadTimeoutError\u001b[0m: HTTPSConnectionPool(host='api.openai.com', port=443): Read timed out. (read timeout=600)",
      "\nDuring handling of the above exception, another exception occurred:\n",
      "\u001b[0;31mReadTimeout\u001b[0m                               Traceback (most recent call last)",
      "File \u001b[0;32m/data/tongyx361/miniconda3/envs/nlp/lib/python3.10/site-packages/openai/api_requestor.py:596\u001b[0m, in \u001b[0;36mAPIRequestor.request_raw\u001b[0;34m(self, method, url, params, supplied_headers, files, stream, request_id, request_timeout)\u001b[0m\n\u001b[1;32m    595\u001b[0m \u001b[39mtry\u001b[39;00m:\n\u001b[0;32m--> 596\u001b[0m     result \u001b[39m=\u001b[39m _thread_context\u001b[39m.\u001b[39;49msession\u001b[39m.\u001b[39;49mrequest(\n\u001b[1;32m    597\u001b[0m         method,\n\u001b[1;32m    598\u001b[0m         abs_url,\n\u001b[1;32m    599\u001b[0m         headers\u001b[39m=\u001b[39;49mheaders,\n\u001b[1;32m    600\u001b[0m         data\u001b[39m=\u001b[39;49mdata,\n\u001b[1;32m    601\u001b[0m         files\u001b[39m=\u001b[39;49mfiles,\n\u001b[1;32m    602\u001b[0m         stream\u001b[39m=\u001b[39;49mstream,\n\u001b[1;32m    603\u001b[0m         timeout\u001b[39m=\u001b[39;49mrequest_timeout \u001b[39mif\u001b[39;49;00m request_timeout \u001b[39melse\u001b[39;49;00m TIMEOUT_SECS,\n\u001b[1;32m    604\u001b[0m         proxies\u001b[39m=\u001b[39;49m_thread_context\u001b[39m.\u001b[39;49msession\u001b[39m.\u001b[39;49mproxies,\n\u001b[1;32m    605\u001b[0m     )\n\u001b[1;32m    606\u001b[0m \u001b[39mexcept\u001b[39;00m requests\u001b[39m.\u001b[39mexceptions\u001b[39m.\u001b[39mTimeout \u001b[39mas\u001b[39;00m e:\n",
      "File \u001b[0;32m/data/tongyx361/miniconda3/envs/nlp/lib/python3.10/site-packages/requests/sessions.py:589\u001b[0m, in \u001b[0;36mSession.request\u001b[0;34m(self, method, url, params, data, headers, cookies, files, auth, timeout, allow_redirects, proxies, hooks, stream, verify, cert, json)\u001b[0m\n\u001b[1;32m    588\u001b[0m send_kwargs\u001b[39m.\u001b[39mupdate(settings)\n\u001b[0;32m--> 589\u001b[0m resp \u001b[39m=\u001b[39m \u001b[39mself\u001b[39;49m\u001b[39m.\u001b[39;49msend(prep, \u001b[39m*\u001b[39;49m\u001b[39m*\u001b[39;49msend_kwargs)\n\u001b[1;32m    591\u001b[0m \u001b[39mreturn\u001b[39;00m resp\n",
      "File \u001b[0;32m/data/tongyx361/miniconda3/envs/nlp/lib/python3.10/site-packages/requests/sessions.py:703\u001b[0m, in \u001b[0;36mSession.send\u001b[0;34m(self, request, **kwargs)\u001b[0m\n\u001b[1;32m    702\u001b[0m \u001b[39m# Send the request\u001b[39;00m\n\u001b[0;32m--> 703\u001b[0m r \u001b[39m=\u001b[39m adapter\u001b[39m.\u001b[39;49msend(request, \u001b[39m*\u001b[39;49m\u001b[39m*\u001b[39;49mkwargs)\n\u001b[1;32m    705\u001b[0m \u001b[39m# Total elapsed time of the request (approximately)\u001b[39;00m\n",
      "File \u001b[0;32m/data/tongyx361/miniconda3/envs/nlp/lib/python3.10/site-packages/requests/adapters.py:532\u001b[0m, in \u001b[0;36mHTTPAdapter.send\u001b[0;34m(self, request, stream, timeout, verify, cert, proxies)\u001b[0m\n\u001b[1;32m    531\u001b[0m \u001b[39melif\u001b[39;00m \u001b[39misinstance\u001b[39m(e, ReadTimeoutError):\n\u001b[0;32m--> 532\u001b[0m     \u001b[39mraise\u001b[39;00m ReadTimeout(e, request\u001b[39m=\u001b[39mrequest)\n\u001b[1;32m    533\u001b[0m \u001b[39melif\u001b[39;00m \u001b[39misinstance\u001b[39m(e, _InvalidHeader):\n",
      "\u001b[0;31mReadTimeout\u001b[0m: HTTPSConnectionPool(host='api.openai.com', port=443): Read timed out. (read timeout=600)",
      "\nThe above exception was the direct cause of the following exception:\n",
      "\u001b[0;31mTimeout\u001b[0m                                   Traceback (most recent call last)",
      "\u001b[1;32m/data/tongyx361/reward-by-prm800k/src/openai-api-dev.ipynb Cell 7\u001b[0m line \u001b[0;36m1\n\u001b[0;32m----> <a href='vscode-notebook-cell://ssh-remote%2B120.92.108.162/data/tongyx361/reward-by-prm800k/src/openai-api-dev.ipynb#X14sdnNjb2RlLXJlbW90ZQ%3D%3D?line=0'>1</a>\u001b[0m prm800k_query_openai_to_analyse_and_rate_dataset(\n\u001b[1;32m      <a href='vscode-notebook-cell://ssh-remote%2B120.92.108.162/data/tongyx361/reward-by-prm800k/src/openai-api-dev.ipynb#X14sdnNjb2RlLXJlbW90ZQ%3D%3D?line=1'>2</a>\u001b[0m     dataset\u001b[39m=\u001b[39;49mquery_set_name,\n\u001b[1;32m      <a href='vscode-notebook-cell://ssh-remote%2B120.92.108.162/data/tongyx361/reward-by-prm800k/src/openai-api-dev.ipynb#X14sdnNjb2RlLXJlbW90ZQ%3D%3D?line=2'>3</a>\u001b[0m     query_set_name\u001b[39m=\u001b[39;49mquery_set_name,\n\u001b[1;32m      <a href='vscode-notebook-cell://ssh-remote%2B120.92.108.162/data/tongyx361/reward-by-prm800k/src/openai-api-dev.ipynb#X14sdnNjb2RlLXJlbW90ZQ%3D%3D?line=3'>4</a>\u001b[0m     resume\u001b[39m=\u001b[39;49m\u001b[39mTrue\u001b[39;49;00m,\n\u001b[1;32m      <a href='vscode-notebook-cell://ssh-remote%2B120.92.108.162/data/tongyx361/reward-by-prm800k/src/openai-api-dev.ipynb#X14sdnNjb2RlLXJlbW90ZQ%3D%3D?line=4'>5</a>\u001b[0m     \u001b[39m# restart=True,\u001b[39;49;00m\n\u001b[1;32m      <a href='vscode-notebook-cell://ssh-remote%2B120.92.108.162/data/tongyx361/reward-by-prm800k/src/openai-api-dev.ipynb#X14sdnNjb2RlLXJlbW90ZQ%3D%3D?line=5'>6</a>\u001b[0m     \u001b[39m# debug=True,\u001b[39;49;00m\n\u001b[1;32m      <a href='vscode-notebook-cell://ssh-remote%2B120.92.108.162/data/tongyx361/reward-by-prm800k/src/openai-api-dev.ipynb#X14sdnNjb2RlLXJlbW90ZQ%3D%3D?line=6'>7</a>\u001b[0m )\n",
      "\u001b[1;32m/data/tongyx361/reward-by-prm800k/src/openai-api-dev.ipynb Cell 7\u001b[0m line \u001b[0;36m1\n\u001b[1;32m    <a href='vscode-notebook-cell://ssh-remote%2B120.92.108.162/data/tongyx361/reward-by-prm800k/src/openai-api-dev.ipynb#X14sdnNjb2RlLXJlbW90ZQ%3D%3D?line=103'>104</a>\u001b[0m \u001b[39mif\u001b[39;00m idx \u001b[39m<\u001b[39m num_completed:\n\u001b[1;32m    <a href='vscode-notebook-cell://ssh-remote%2B120.92.108.162/data/tongyx361/reward-by-prm800k/src/openai-api-dev.ipynb#X14sdnNjb2RlLXJlbW90ZQ%3D%3D?line=104'>105</a>\u001b[0m     \u001b[39mcontinue\u001b[39;00m\n\u001b[0;32m--> <a href='vscode-notebook-cell://ssh-remote%2B120.92.108.162/data/tongyx361/reward-by-prm800k/src/openai-api-dev.ipynb#X14sdnNjb2RlLXJlbW90ZQ%3D%3D?line=105'>106</a>\u001b[0m query \u001b[39m=\u001b[39m prm800k_query_openai_to_analyse_and_rate_sample(sample, test\u001b[39m=\u001b[39;49mdebug)\n\u001b[1;32m    <a href='vscode-notebook-cell://ssh-remote%2B120.92.108.162/data/tongyx361/reward-by-prm800k/src/openai-api-dev.ipynb#X14sdnNjb2RlLXJlbW90ZQ%3D%3D?line=106'>107</a>\u001b[0m f\u001b[39m.\u001b[39mwrite(orjson\u001b[39m.\u001b[39mdumps(query)\u001b[39m.\u001b[39mdecode() \u001b[39m+\u001b[39m \u001b[39m\"\u001b[39m\u001b[39m\\n\u001b[39;00m\u001b[39m\"\u001b[39m)\n\u001b[1;32m    <a href='vscode-notebook-cell://ssh-remote%2B120.92.108.162/data/tongyx361/reward-by-prm800k/src/openai-api-dev.ipynb#X14sdnNjb2RlLXJlbW90ZQ%3D%3D?line=107'>108</a>\u001b[0m \u001b[39mif\u001b[39;00m debug:\n",
      "\u001b[1;32m/data/tongyx361/reward-by-prm800k/src/openai-api-dev.ipynb Cell 7\u001b[0m line \u001b[0;36m3\n\u001b[1;32m     <a href='vscode-notebook-cell://ssh-remote%2B120.92.108.162/data/tongyx361/reward-by-prm800k/src/openai-api-dev.ipynb#X14sdnNjb2RlLXJlbW90ZQ%3D%3D?line=17'>18</a>\u001b[0m request_dict \u001b[39m=\u001b[39m \u001b[39mdict\u001b[39m(\n\u001b[1;32m     <a href='vscode-notebook-cell://ssh-remote%2B120.92.108.162/data/tongyx361/reward-by-prm800k/src/openai-api-dev.ipynb#X14sdnNjb2RlLXJlbW90ZQ%3D%3D?line=18'>19</a>\u001b[0m     model\u001b[39m=\u001b[39m\u001b[39m\"\u001b[39m\u001b[39mgpt-4\u001b[39m\u001b[39m\"\u001b[39m,\n\u001b[1;32m     <a href='vscode-notebook-cell://ssh-remote%2B120.92.108.162/data/tongyx361/reward-by-prm800k/src/openai-api-dev.ipynb#X14sdnNjb2RlLXJlbW90ZQ%3D%3D?line=19'>20</a>\u001b[0m     messages\u001b[39m=\u001b[39m[\n\u001b[0;32m   (...)\u001b[0m\n\u001b[1;32m     <a href='vscode-notebook-cell://ssh-remote%2B120.92.108.162/data/tongyx361/reward-by-prm800k/src/openai-api-dev.ipynb#X14sdnNjb2RlLXJlbW90ZQ%3D%3D?line=29'>30</a>\u001b[0m     presence_penalty\u001b[39m=\u001b[39m\u001b[39m0\u001b[39m,\n\u001b[1;32m     <a href='vscode-notebook-cell://ssh-remote%2B120.92.108.162/data/tongyx361/reward-by-prm800k/src/openai-api-dev.ipynb#X14sdnNjb2RlLXJlbW90ZQ%3D%3D?line=30'>31</a>\u001b[0m )\n\u001b[1;32m     <a href='vscode-notebook-cell://ssh-remote%2B120.92.108.162/data/tongyx361/reward-by-prm800k/src/openai-api-dev.ipynb#X14sdnNjb2RlLXJlbW90ZQ%3D%3D?line=32'>33</a>\u001b[0m \u001b[39mif\u001b[39;00m \u001b[39mnot\u001b[39;00m test:\n\u001b[0;32m---> <a href='vscode-notebook-cell://ssh-remote%2B120.92.108.162/data/tongyx361/reward-by-prm800k/src/openai-api-dev.ipynb#X14sdnNjb2RlLXJlbW90ZQ%3D%3D?line=33'>34</a>\u001b[0m     response \u001b[39m=\u001b[39m openai\u001b[39m.\u001b[39;49mChatCompletion\u001b[39m.\u001b[39;49mcreate(\u001b[39m*\u001b[39;49m\u001b[39m*\u001b[39;49mrequest_dict)\n\u001b[1;32m     <a href='vscode-notebook-cell://ssh-remote%2B120.92.108.162/data/tongyx361/reward-by-prm800k/src/openai-api-dev.ipynb#X14sdnNjb2RlLXJlbW90ZQ%3D%3D?line=34'>35</a>\u001b[0m \u001b[39melse\u001b[39;00m:\n\u001b[1;32m     <a href='vscode-notebook-cell://ssh-remote%2B120.92.108.162/data/tongyx361/reward-by-prm800k/src/openai-api-dev.ipynb#X14sdnNjb2RlLXJlbW90ZQ%3D%3D?line=35'>36</a>\u001b[0m     response \u001b[39m=\u001b[39m {\n\u001b[1;32m     <a href='vscode-notebook-cell://ssh-remote%2B120.92.108.162/data/tongyx361/reward-by-prm800k/src/openai-api-dev.ipynb#X14sdnNjb2RlLXJlbW90ZQ%3D%3D?line=36'>37</a>\u001b[0m         \u001b[39m\"\u001b[39m\u001b[39mid\u001b[39m\u001b[39m\"\u001b[39m: \u001b[39m\"\u001b[39m\u001b[39mchatcmpl-7xxu1TgC5ioae40MNWuW0q3NRZQHD\u001b[39m\u001b[39m\"\u001b[39m,\n\u001b[1;32m     <a href='vscode-notebook-cell://ssh-remote%2B120.92.108.162/data/tongyx361/reward-by-prm800k/src/openai-api-dev.ipynb#X14sdnNjb2RlLXJlbW90ZQ%3D%3D?line=37'>38</a>\u001b[0m         \u001b[39m\"\u001b[39m\u001b[39mobject\u001b[39m\u001b[39m\"\u001b[39m: \u001b[39m\"\u001b[39m\u001b[39mchat.completion\u001b[39m\u001b[39m\"\u001b[39m,\n\u001b[0;32m   (...)\u001b[0m\n\u001b[1;32m     <a href='vscode-notebook-cell://ssh-remote%2B120.92.108.162/data/tongyx361/reward-by-prm800k/src/openai-api-dev.ipynb#X14sdnNjb2RlLXJlbW90ZQ%3D%3D?line=54'>55</a>\u001b[0m         },\n\u001b[1;32m     <a href='vscode-notebook-cell://ssh-remote%2B120.92.108.162/data/tongyx361/reward-by-prm800k/src/openai-api-dev.ipynb#X14sdnNjb2RlLXJlbW90ZQ%3D%3D?line=55'>56</a>\u001b[0m     }\n",
      "File \u001b[0;32m/data/tongyx361/miniconda3/envs/nlp/lib/python3.10/site-packages/openai/api_resources/chat_completion.py:25\u001b[0m, in \u001b[0;36mChatCompletion.create\u001b[0;34m(cls, *args, **kwargs)\u001b[0m\n\u001b[1;32m     23\u001b[0m \u001b[39mwhile\u001b[39;00m \u001b[39mTrue\u001b[39;00m:\n\u001b[1;32m     24\u001b[0m     \u001b[39mtry\u001b[39;00m:\n\u001b[0;32m---> 25\u001b[0m         \u001b[39mreturn\u001b[39;00m \u001b[39msuper\u001b[39;49m()\u001b[39m.\u001b[39;49mcreate(\u001b[39m*\u001b[39;49margs, \u001b[39m*\u001b[39;49m\u001b[39m*\u001b[39;49mkwargs)\n\u001b[1;32m     26\u001b[0m     \u001b[39mexcept\u001b[39;00m TryAgain \u001b[39mas\u001b[39;00m e:\n\u001b[1;32m     27\u001b[0m         \u001b[39mif\u001b[39;00m timeout \u001b[39mis\u001b[39;00m \u001b[39mnot\u001b[39;00m \u001b[39mNone\u001b[39;00m \u001b[39mand\u001b[39;00m time\u001b[39m.\u001b[39mtime() \u001b[39m>\u001b[39m start \u001b[39m+\u001b[39m timeout:\n",
      "File \u001b[0;32m/data/tongyx361/miniconda3/envs/nlp/lib/python3.10/site-packages/openai/api_resources/abstract/engine_api_resource.py:153\u001b[0m, in \u001b[0;36mEngineAPIResource.create\u001b[0;34m(cls, api_key, api_base, api_type, request_id, api_version, organization, **params)\u001b[0m\n\u001b[1;32m    127\u001b[0m \u001b[39m@classmethod\u001b[39m\n\u001b[1;32m    128\u001b[0m \u001b[39mdef\u001b[39;00m \u001b[39mcreate\u001b[39m(\n\u001b[1;32m    129\u001b[0m     \u001b[39mcls\u001b[39m,\n\u001b[0;32m   (...)\u001b[0m\n\u001b[1;32m    136\u001b[0m     \u001b[39m*\u001b[39m\u001b[39m*\u001b[39mparams,\n\u001b[1;32m    137\u001b[0m ):\n\u001b[1;32m    138\u001b[0m     (\n\u001b[1;32m    139\u001b[0m         deployment_id,\n\u001b[1;32m    140\u001b[0m         engine,\n\u001b[0;32m   (...)\u001b[0m\n\u001b[1;32m    150\u001b[0m         api_key, api_base, api_type, api_version, organization, \u001b[39m*\u001b[39m\u001b[39m*\u001b[39mparams\n\u001b[1;32m    151\u001b[0m     )\n\u001b[0;32m--> 153\u001b[0m     response, _, api_key \u001b[39m=\u001b[39m requestor\u001b[39m.\u001b[39;49mrequest(\n\u001b[1;32m    154\u001b[0m         \u001b[39m\"\u001b[39;49m\u001b[39mpost\u001b[39;49m\u001b[39m\"\u001b[39;49m,\n\u001b[1;32m    155\u001b[0m         url,\n\u001b[1;32m    156\u001b[0m         params\u001b[39m=\u001b[39;49mparams,\n\u001b[1;32m    157\u001b[0m         headers\u001b[39m=\u001b[39;49mheaders,\n\u001b[1;32m    158\u001b[0m         stream\u001b[39m=\u001b[39;49mstream,\n\u001b[1;32m    159\u001b[0m         request_id\u001b[39m=\u001b[39;49mrequest_id,\n\u001b[1;32m    160\u001b[0m         request_timeout\u001b[39m=\u001b[39;49mrequest_timeout,\n\u001b[1;32m    161\u001b[0m     )\n\u001b[1;32m    163\u001b[0m     \u001b[39mif\u001b[39;00m stream:\n\u001b[1;32m    164\u001b[0m         \u001b[39m# must be an iterator\u001b[39;00m\n\u001b[1;32m    165\u001b[0m         \u001b[39massert\u001b[39;00m \u001b[39mnot\u001b[39;00m \u001b[39misinstance\u001b[39m(response, OpenAIResponse)\n",
      "File \u001b[0;32m/data/tongyx361/miniconda3/envs/nlp/lib/python3.10/site-packages/openai/api_requestor.py:288\u001b[0m, in \u001b[0;36mAPIRequestor.request\u001b[0;34m(self, method, url, params, headers, files, stream, request_id, request_timeout)\u001b[0m\n\u001b[1;32m    277\u001b[0m \u001b[39mdef\u001b[39;00m \u001b[39mrequest\u001b[39m(\n\u001b[1;32m    278\u001b[0m     \u001b[39mself\u001b[39m,\n\u001b[1;32m    279\u001b[0m     method,\n\u001b[0;32m   (...)\u001b[0m\n\u001b[1;32m    286\u001b[0m     request_timeout: Optional[Union[\u001b[39mfloat\u001b[39m, Tuple[\u001b[39mfloat\u001b[39m, \u001b[39mfloat\u001b[39m]]] \u001b[39m=\u001b[39m \u001b[39mNone\u001b[39;00m,\n\u001b[1;32m    287\u001b[0m ) \u001b[39m-\u001b[39m\u001b[39m>\u001b[39m Tuple[Union[OpenAIResponse, Iterator[OpenAIResponse]], \u001b[39mbool\u001b[39m, \u001b[39mstr\u001b[39m]:\n\u001b[0;32m--> 288\u001b[0m     result \u001b[39m=\u001b[39m \u001b[39mself\u001b[39;49m\u001b[39m.\u001b[39;49mrequest_raw(\n\u001b[1;32m    289\u001b[0m         method\u001b[39m.\u001b[39;49mlower(),\n\u001b[1;32m    290\u001b[0m         url,\n\u001b[1;32m    291\u001b[0m         params\u001b[39m=\u001b[39;49mparams,\n\u001b[1;32m    292\u001b[0m         supplied_headers\u001b[39m=\u001b[39;49mheaders,\n\u001b[1;32m    293\u001b[0m         files\u001b[39m=\u001b[39;49mfiles,\n\u001b[1;32m    294\u001b[0m         stream\u001b[39m=\u001b[39;49mstream,\n\u001b[1;32m    295\u001b[0m         request_id\u001b[39m=\u001b[39;49mrequest_id,\n\u001b[1;32m    296\u001b[0m         request_timeout\u001b[39m=\u001b[39;49mrequest_timeout,\n\u001b[1;32m    297\u001b[0m     )\n\u001b[1;32m    298\u001b[0m     resp, got_stream \u001b[39m=\u001b[39m \u001b[39mself\u001b[39m\u001b[39m.\u001b[39m_interpret_response(result, stream)\n\u001b[1;32m    299\u001b[0m     \u001b[39mreturn\u001b[39;00m resp, got_stream, \u001b[39mself\u001b[39m\u001b[39m.\u001b[39mapi_key\n",
      "File \u001b[0;32m/data/tongyx361/miniconda3/envs/nlp/lib/python3.10/site-packages/openai/api_requestor.py:607\u001b[0m, in \u001b[0;36mAPIRequestor.request_raw\u001b[0;34m(self, method, url, params, supplied_headers, files, stream, request_id, request_timeout)\u001b[0m\n\u001b[1;32m    596\u001b[0m     result \u001b[39m=\u001b[39m _thread_context\u001b[39m.\u001b[39msession\u001b[39m.\u001b[39mrequest(\n\u001b[1;32m    597\u001b[0m         method,\n\u001b[1;32m    598\u001b[0m         abs_url,\n\u001b[0;32m   (...)\u001b[0m\n\u001b[1;32m    604\u001b[0m         proxies\u001b[39m=\u001b[39m_thread_context\u001b[39m.\u001b[39msession\u001b[39m.\u001b[39mproxies,\n\u001b[1;32m    605\u001b[0m     )\n\u001b[1;32m    606\u001b[0m \u001b[39mexcept\u001b[39;00m requests\u001b[39m.\u001b[39mexceptions\u001b[39m.\u001b[39mTimeout \u001b[39mas\u001b[39;00m e:\n\u001b[0;32m--> 607\u001b[0m     \u001b[39mraise\u001b[39;00m error\u001b[39m.\u001b[39mTimeout(\u001b[39m\"\u001b[39m\u001b[39mRequest timed out: \u001b[39m\u001b[39m{}\u001b[39;00m\u001b[39m\"\u001b[39m\u001b[39m.\u001b[39mformat(e)) \u001b[39mfrom\u001b[39;00m \u001b[39me\u001b[39;00m\n\u001b[1;32m    608\u001b[0m \u001b[39mexcept\u001b[39;00m requests\u001b[39m.\u001b[39mexceptions\u001b[39m.\u001b[39mRequestException \u001b[39mas\u001b[39;00m e:\n\u001b[1;32m    609\u001b[0m     \u001b[39mraise\u001b[39;00m error\u001b[39m.\u001b[39mAPIConnectionError(\n\u001b[1;32m    610\u001b[0m         \u001b[39m\"\u001b[39m\u001b[39mError communicating with OpenAI: \u001b[39m\u001b[39m{}\u001b[39;00m\u001b[39m\"\u001b[39m\u001b[39m.\u001b[39mformat(e)\n\u001b[1;32m    611\u001b[0m     ) \u001b[39mfrom\u001b[39;00m \u001b[39me\u001b[39;00m\n",
      "\u001b[0;31mTimeout\u001b[0m: Request timed out: HTTPSConnectionPool(host='api.openai.com', port=443): Read timed out. (read timeout=600)"
     ]
    }
   ],
   "source": [
    "prm800k_query_openai_to_analyse_and_rate_dataset(\n",
    "    dataset=query_set_name,\n",
    "    query_set_name=query_set_name,\n",
    "    resume=True,\n",
    "    # restart=True,\n",
    "    # debug=True,\n",
    ")"
   ]
  }
 ],
 "metadata": {
  "kernelspec": {
   "display_name": "nlp",
   "language": "python",
   "name": "python3"
  },
  "language_info": {
   "codemirror_mode": {
    "name": "ipython",
    "version": 3
   },
   "file_extension": ".py",
   "mimetype": "text/x-python",
   "name": "python",
   "nbconvert_exporter": "python",
   "pygments_lexer": "ipython3",
   "version": "3.10.12"
  },
  "orig_nbformat": 4
 },
 "nbformat": 4,
 "nbformat_minor": 2
}
