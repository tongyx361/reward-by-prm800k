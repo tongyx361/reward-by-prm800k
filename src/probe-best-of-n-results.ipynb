{
 "cells": [
  {
   "cell_type": "code",
   "execution_count": 9,
   "metadata": {},
   "outputs": [
    {
     "data": {
      "text/plain": [
       "<module 'utils' from '/data/users/zhangjunlei/tyx/reward-by-prm800k/src/utils.py'>"
      ]
     },
     "execution_count": 9,
     "metadata": {},
     "output_type": "execute_result"
    }
   ],
   "source": [
    "import utils\n",
    "import importlib\n",
    "\n",
    "importlib.reload(utils)"
   ]
  },
  {
   "cell_type": "code",
   "execution_count": 10,
   "metadata": {},
   "outputs": [],
   "source": [
    "import csv\n",
    "import matplotlib.pyplot as plt"
   ]
  },
  {
   "cell_type": "code",
   "execution_count": 11,
   "metadata": {},
   "outputs": [],
   "source": [
    "best_of_n_results = utils.load_jsonl(utils.best_of_n_results_jsonl_path)\n",
    "best_of_n_results_csv_path = utils.best_of_n_results_jsonl_path.split(\".\")[0] + \".csv\""
   ]
  },
  {
   "cell_type": "code",
   "execution_count": 12,
   "metadata": {},
   "outputs": [],
   "source": [
    "with open(best_of_n_results_csv_path, \"w\") as f:\n",
    "    writer = csv.writer(f)\n",
    "    # 写入列名\n",
    "    writer.writerow(best_of_n_results[0].keys())\n",
    "    # 写入其他行\n",
    "    for best_of_n_result in best_of_n_results:\n",
    "        writer.writerow(best_of_n_result.values())"
   ]
  },
  {
   "cell_type": "code",
   "execution_count": 13,
   "metadata": {},
   "outputs": [
    {
     "ename": "ValueError",
     "evalue": "too many values to unpack (expected 7)",
     "output_type": "error",
     "traceback": [
      "\u001b[0;31m---------------------------------------------------------------------------\u001b[0m",
      "\u001b[0;31mValueError\u001b[0m                                Traceback (most recent call last)",
      "Cell \u001b[0;32mIn[13], line 9\u001b[0m\n\u001b[1;32m      7\u001b[0m     \u001b[39mnext\u001b[39m(reader)  \u001b[39m# skip header row\u001b[39;00m\n\u001b[1;32m      8\u001b[0m     \u001b[39mfor\u001b[39;00m row \u001b[39min\u001b[39;00m reader:\n\u001b[0;32m----> 9\u001b[0m         model_name, aggregation, n, mean, std, trials, brackets \u001b[39m=\u001b[39m row\n\u001b[1;32m     10\u001b[0m         results\u001b[39m.\u001b[39mappend(\n\u001b[1;32m     11\u001b[0m             {\n\u001b[1;32m     12\u001b[0m                 \u001b[39m\"\u001b[39m\u001b[39mmodel\u001b[39m\u001b[39m\"\u001b[39m: model_name,\n\u001b[0;32m   (...)\u001b[0m\n\u001b[1;32m     18\u001b[0m             }\n\u001b[1;32m     19\u001b[0m         )\n\u001b[1;32m     21\u001b[0m \u001b[39mprint\u001b[39m(\u001b[39mf\u001b[39m\u001b[39m\"\u001b[39m\u001b[39mNumber of rows: \u001b[39m\u001b[39m{\u001b[39;00m\u001b[39mlen\u001b[39m(results)\u001b[39m}\u001b[39;00m\u001b[39m\"\u001b[39m)\n",
      "\u001b[0;31mValueError\u001b[0m: too many values to unpack (expected 7)"
     ]
    }
   ],
   "source": [
    "# xs: model_steps\n",
    "# ys: pass_rates[metric] of best_of_n_max"
   ]
  }
 ],
 "metadata": {
  "kernelspec": {
   "display_name": "open-instruct",
   "language": "python",
   "name": "python3"
  },
  "language_info": {
   "codemirror_mode": {
    "name": "ipython",
    "version": 3
   },
   "file_extension": ".py",
   "mimetype": "text/x-python",
   "name": "python",
   "nbconvert_exporter": "python",
   "pygments_lexer": "ipython3",
   "version": "3.10.12"
  },
  "orig_nbformat": 4
 },
 "nbformat": 4,
 "nbformat_minor": 2
}
