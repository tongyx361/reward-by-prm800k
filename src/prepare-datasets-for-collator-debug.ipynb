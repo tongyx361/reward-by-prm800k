{
 "cells": [
  {
   "cell_type": "markdown",
   "metadata": {},
   "source": [
    "# release"
   ]
  },
  {
   "cell_type": "code",
   "execution_count": 18,
   "metadata": {},
   "outputs": [
    {
     "data": {
      "text/plain": [
       "<module 'utils' from '/data/users/zhangjunlei/tyx/reward-by-prm800k/src/utils.py'>"
      ]
     },
     "execution_count": 18,
     "metadata": {},
     "output_type": "execute_result"
    }
   ],
   "source": [
    "import torch\n",
    "import random\n",
    "from typing import Dict, List\n",
    "from functools import partial\n",
    "import datasets\n",
    "from transformers import (\n",
    "    AutoTokenizer,\n",
    "    GPT2Tokenizer,\n",
    "    GPTNeoXTokenizerFast,\n",
    "    LlamaTokenizer,\n",
    "    OPTForCausalLM,\n",
    ")\n",
    "import utils\n",
    "import os\n",
    "import importlib\n",
    "\n",
    "importlib.reload(utils)"
   ]
  },
  {
   "cell_type": "code",
   "execution_count": 2,
   "metadata": {},
   "outputs": [],
   "source": [
    "class MockArgs:\n",
    "    raw_dataset_json_path = utils.prm800k_phase_train_jsonl_paths\n",
    "\n",
    "    encoded_dataset_output_dirpath = utils.encoded_datasets_path\n",
    "    preprocessing_num_workers = 16\n",
    "    overwrite_cache = False\n",
    "    model_name_or_path = \"meta-llama/Llama-2-7b-hf\"\n",
    "    tokenizer_name = utils.tokenizer_name_or_path\n",
    "    use_slow_tokenizer = True\n",
    "    max_seq_length = None\n",
    "\n",
    "\n",
    "args = MockArgs()"
   ]
  },
  {
   "cell_type": "code",
   "execution_count": 3,
   "metadata": {},
   "outputs": [],
   "source": [
    "def pick_prm800k_samples(x):\n",
    "    return (not x[\"is_quality_control_question\"]) and (\n",
    "        x[\"label\"][\"finish_reason\"] in [\"found_error\", \"solution\"]\n",
    "    )\n",
    "\n",
    "\n",
    "def reformat_prm800k_sample(sample: dict) -> dict:\n",
    "    problem = sample[\"question\"][\"problem\"]\n",
    "    step_ratings = []\n",
    "\n",
    "    if sample[\"is_quality_control_question\"]:\n",
    "        raise RuntimeError(\"is_quality_control_question is True\")\n",
    "\n",
    "    label = sample[\"label\"]\n",
    "    finish_reason = label[\"finish_reason\"]\n",
    "    if finish_reason not in [\"found_error\", \"solution\"]:\n",
    "        raise RuntimeError(f\"finish_reason is {finish_reason}\")\n",
    "\n",
    "    steps = label[\"steps\"]\n",
    "    for step in steps:\n",
    "        chosen_completion = step[\"chosen_completion\"]\n",
    "        if step[\"human_completion\"] is not None:\n",
    "            completion = step[\"human_completion\"]\n",
    "            rating = 1\n",
    "        else:\n",
    "            completions = step[\"completions\"]\n",
    "            if chosen_completion is not None:\n",
    "                completion = completions[chosen_completion]\n",
    "            else:\n",
    "                for completion in completions:\n",
    "                    if completion[\"rating\"] == -1:\n",
    "                        break\n",
    "            rating = completion[\"rating\"]\n",
    "\n",
    "        step_text = completion[\"text\"]\n",
    "\n",
    "        if completion[\"flagged\"] not in [None, False]:\n",
    "            print(f\"{sample['timestamp']} flagged: \", completion[\"flagged\"])\n",
    "            print(sample)\n",
    "        step_ratings.append({\"step\": step_text, \"rating\": rating})\n",
    "\n",
    "    reformatted_sample = {\"problem\": problem, \"step_ratings\": step_ratings}\n",
    "\n",
    "    if finish_reason == \"found_error\":\n",
    "        last_rating = reformatted_sample[\"step_ratings\"][-1][\"rating\"]\n",
    "        assert last_rating == -1, f\"last step should be -1 but {last_rating}\"\n",
    "\n",
    "    return reformatted_sample\n",
    "\n",
    "\n",
    "def encode_with_problem_step_ratings_format(\n",
    "    reformatted_sample, tokenizer, split=\"train\", test=False\n",
    "):\n",
    "    \"\"\"\n",
    "    Here we assume each sample has a 'step_ratings' field. Each step_rating is a dict.\n",
    "    \"\"\"\n",
    "\n",
    "    step_ratings = reformatted_sample[\"step_ratings\"]\n",
    "    if len(step_ratings) == 0:\n",
    "        raise ValueError(\"step_ratings field is empty.\")\n",
    "\n",
    "    rating2word = {1: \"positive\", -1: \"negative\", 0: \"neutral\"}\n",
    "    rating2token_id = {\n",
    "        rating: tokenizer.convert_tokens_to_ids(tokenizer.tokenize(word))[0]\n",
    "        for rating, word in rating2word.items()\n",
    "    }\n",
    "\n",
    "    problem = reformatted_sample[\"problem\"].strip()\n",
    "    problem_step_ratings_text = problem + \"\\n\"\n",
    "    sample_input_ids = tokenizer(\n",
    "        problem + \"\\n\",\n",
    "        return_tensors=\"pt\",\n",
    "        padding=False,\n",
    "        truncation=False,\n",
    "        add_special_tokens=True,\n",
    "        return_attention_mask=False,\n",
    "    )[\"input_ids\"]\n",
    "    ignore_index = -100\n",
    "\n",
    "    if split == \"train\":\n",
    "        sample_labels = torch.ones_like(sample_input_ids) * ignore_index\n",
    "    elif split == \"validation\":\n",
    "        sample_labels = []\n",
    "    else:\n",
    "        raise ValueError(f\"split should be train or validation but {split}\")\n",
    "\n",
    "    for step_rating in step_ratings:\n",
    "        step = step_rating[\"step\"].strip()\n",
    "\n",
    "        problem_step_ratings_text += step + \"\\n\"\n",
    "\n",
    "        step_input_ids = tokenizer(\n",
    "            \"\\n\" + step + \"\\n\",\n",
    "            return_tensors=\"pt\",\n",
    "            padding=False,\n",
    "            truncation=False,\n",
    "            # add_special_tokens=True,\n",
    "            add_special_tokens=False,\n",
    "            return_attention_mask=False,\n",
    "        )[\"input_ids\"]\n",
    "        step_input_ids = step_input_ids[:, 2:]  # remove \"\\n\"\n",
    "        sample_input_ids = torch.cat((sample_input_ids, step_input_ids), dim=1)\n",
    "\n",
    "        step_rating_token_id = rating2token_id[step_rating[\"rating\"]]\n",
    "        if split == \"train\":\n",
    "            step_labels = torch.ones_like(step_input_ids) * ignore_index\n",
    "            step_labels[\n",
    "                :, -1\n",
    "            ] = step_rating_token_id  # set the label for the last token_id before \"\\n\"\n",
    "            sample_labels = torch.cat((sample_labels, step_labels), dim=1)\n",
    "            # keep the last token for hugging face to align input_ids and labels\n",
    "        elif split == \"validation\":\n",
    "            sample_labels.append(step_rating_token_id)\n",
    "        else:\n",
    "            raise ValueError(f\"split should be train or validation but {split}\")\n",
    "\n",
    "    if split == \"validation\":\n",
    "        sample_labels = torch.tensor(sample_labels)\n",
    "\n",
    "    if test:\n",
    "        sample_input_ids_from_simple_call = tokenizer(\n",
    "            problem_step_ratings_text,\n",
    "            return_tensors=\"pt\",\n",
    "            padding=False,\n",
    "            truncation=False,\n",
    "            add_special_tokens=True,\n",
    "            return_attention_mask=False,\n",
    "        )[\"input_ids\"]\n",
    "        assert torch.equal(sample_input_ids, sample_input_ids_from_simple_call), (\n",
    "            sample_input_ids != sample_input_ids_from_simple_call\n",
    "        )\n",
    "\n",
    "    # attention_mask = torch.ones_like(sample_input_ids)\n",
    "    encoded_sample = {\n",
    "        \"input_ids\": sample_input_ids.flatten(),\n",
    "        \"labels\": sample_labels.flatten(),\n",
    "        # \"attention_mask\": attention_mask.flatten(),\n",
    "    }\n",
    "    return encoded_sample"
   ]
  },
  {
   "cell_type": "code",
   "execution_count": 4,
   "metadata": {},
   "outputs": [
    {
     "data": {
      "image/png": "[encoded data removed]",
      "text/plain": [
       "<Figure size 640x480 with 1 Axes>"
      ]
     },
     "metadata": {},
     "output_type": "display_data"
    }
   ],
   "source": [
    "import matplotlib.pyplot as plt\n",
    "\n",
    "\n",
    "def visualize_dict_values_length(data_dict):\n",
    "    # Get the lengths of values in the dictionary\n",
    "    value_lengths = [len(value) for value in data_dict.values()]\n",
    "\n",
    "    # Create a histogram to visualize the distribution\n",
    "    plt.hist(value_lengths, bins=200, edgecolor=\"k\")\n",
    "\n",
    "    # Add labels and title\n",
    "    plt.xlabel(\"Length of Values\")\n",
    "    plt.ylabel(\"Frequency\")\n",
    "    plt.title(\"Distribution of Length of Dictionary Values\")\n",
    "\n",
    "    # Show the plot\n",
    "    plt.show()\n",
    "\n",
    "\n",
    "# Example usage:\n",
    "data_dict = {\"key1\": [1, 2, 3, 4], \"key2\": [1, 2, 3, 4, 5, 6], \"key3\": [1, 2]}\n",
    "\n",
    "visualize_dict_values_length(data_dict)"
   ]
  },
  {
   "cell_type": "code",
   "execution_count": 5,
   "metadata": {},
   "outputs": [
    {
     "data": {
      "image/png": "[encoded data removed]",
      "text/plain": [
       "<Figure size 1000x600 with 1 Axes>"
      ]
     },
     "metadata": {},
     "output_type": "display_data"
    }
   ],
   "source": [
    "import matplotlib.pyplot as plt\n",
    "\n",
    "\n",
    "def visualize_dict_values_lengths(data_dict):\n",
    "    # Extract the lengths of values in the dictionary\n",
    "    value_lengths = [len(value) for value in data_dict.values()]\n",
    "\n",
    "    # Extract the keys (corresponding to dictionary items)\n",
    "    # short_keys = [key[: min(10, len(value_lengths))] for key in data_dict.keys()]\n",
    "    keys = list(range(len(data_dict)))\n",
    "\n",
    "    # Create a bar plot\n",
    "    plt.figure(figsize=(10, 6))  # Optional: adjust figure size\n",
    "    plt.bar(keys, value_lengths, color=\"skyblue\")\n",
    "\n",
    "    # Add labels and title\n",
    "    plt.xlabel(\"Dictionary Keys\")\n",
    "    plt.ylabel(\"Length of List Values\")\n",
    "    plt.title(\"Lengths of List Values in Dictionary\")\n",
    "\n",
    "    # Rotate x-axis labels for better readability (optional)\n",
    "    # plt.xticks(rotation=45, ha=\"right\")\n",
    "\n",
    "    # Show the plot\n",
    "    plt.tight_layout()  # Optional: adjust layout for better display\n",
    "    plt.show()\n",
    "\n",
    "\n",
    "# Example usage:\n",
    "data_dict = {\"key1\": [1, 2, 3, 4], \"key2\": [1, 2, 3, 4, 5, 6], \"key3\": [1, 2]}\n",
    "\n",
    "visualize_dict_values_lengths(data_dict)"
   ]
  },
  {
   "cell_type": "code",
   "execution_count": 6,
   "metadata": {},
   "outputs": [],
   "source": [
    "# main()\n",
    "dataset_args = {\n",
    "    # \"streaming\": True,\n",
    "}\n",
    "\n",
    "reformat_col_names = [\"problem\", \"step_ratings\"]\n",
    "train_data_files_list = args.raw_dataset_json_path\n",
    "reformatted_prm800k_phase_train_list = [None] * len(train_data_files_list)\n",
    "for idx, data_files_train in enumerate(train_data_files_list):\n",
    "    prm800k_phase_train = datasets.load_dataset(\n",
    "        \"json\",\n",
    "        data_files={\"train\": data_files_train},\n",
    "        split=\"train\",\n",
    "    )\n",
    "    filtered_prm800k_phase_train = prm800k_phase_train.filter(pick_prm800k_samples)\n",
    "    reformatted_filtered_prm800k_phase_train = filtered_prm800k_phase_train.map(\n",
    "        reformat_prm800k_sample,\n",
    "        batched=False,\n",
    "        num_proc=args.preprocessing_num_workers,\n",
    "        load_from_cache_file=not args.overwrite_cache,\n",
    "        remove_columns=[\n",
    "            name\n",
    "            for name in filtered_prm800k_phase_train.column_names\n",
    "            if name not in reformat_col_names\n",
    "        ],\n",
    "        desc=\"Reformatting(extractting) SFT data\",\n",
    "    )\n",
    "    reformatted_prm800k_phase_train_list[idx] = reformatted_filtered_prm800k_phase_train\n",
    "full_dataset = datasets.concatenate_datasets(reformatted_prm800k_phase_train_list)"
   ]
  },
  {
   "cell_type": "code",
   "execution_count": 7,
   "metadata": {},
   "outputs": [
    {
     "name": "stdout",
     "output_type": "stream",
     "text": [
      "Dataset({\n",
      "    features: ['problem', 'step_ratings'],\n",
      "    num_rows: 87012\n",
      "})\n"
     ]
    }
   ],
   "source": [
    "print(full_dataset)\n",
    "solutions_key_by_problem = utils.key_by_problem(full_dataset)"
   ]
  },
  {
   "cell_type": "code",
   "execution_count": 8,
   "metadata": {},
   "outputs": [
    {
     "name": "stdout",
     "output_type": "stream",
     "text": [
      "10821\n"
     ]
    },
    {
     "data": {
      "image/png": "[encoded data removed]",
      "text/plain": [
       "<Figure size 640x480 with 1 Axes>"
      ]
     },
     "metadata": {},
     "output_type": "display_data"
    },
    {
     "data": {
      "image/png": "[encoded data removed]",
      "text/plain": [
       "<Figure size 1000x600 with 1 Axes>"
      ]
     },
     "metadata": {},
     "output_type": "display_data"
    }
   ],
   "source": [
    "print(len(solutions_key_by_problem))\n",
    "visualize_dict_values_length(solutions_key_by_problem)\n",
    "visualize_dict_values_lengths(solutions_key_by_problem)"
   ]
  },
  {
   "cell_type": "code",
   "execution_count": 9,
   "metadata": {},
   "outputs": [
    {
     "name": "stderr",
     "output_type": "stream",
     "text": [
      "/tmp/ipykernel_2572043/1834196977.py:2: DeprecationWarning: Sampling from a set deprecated\n",
      "since Python 3.9 and will be removed in a subsequent version.\n",
      "  validation_solutions_key_by_problem = random.sample(\n"
     ]
    },
    {
     "data": {
      "image/png": "[encoded data removed]",
      "text/plain": [
       "<Figure size 640x480 with 1 Axes>"
      ]
     },
     "metadata": {},
     "output_type": "display_data"
    },
    {
     "data": {
      "image/png": "[encoded data removed]",
      "text/plain": [
       "<Figure size 1000x600 with 1 Axes>"
      ]
     },
     "metadata": {},
     "output_type": "display_data"
    }
   ],
   "source": [
    "random.seed(42)\n",
    "validation_solutions_key_by_problem = random.sample(\n",
    "    solutions_key_by_problem.items(), int(0.02 * len(solutions_key_by_problem))\n",
    ")\n",
    "validation_solutions_key_by_problem = dict(validation_solutions_key_by_problem)\n",
    "\n",
    "visualize_dict_values_length(validation_solutions_key_by_problem)\n",
    "visualize_dict_values_lengths(validation_solutions_key_by_problem)"
   ]
  },
  {
   "cell_type": "code",
   "execution_count": 10,
   "metadata": {},
   "outputs": [],
   "source": [
    "train_solutions = {feature: [] for feature in full_dataset.features}\n",
    "validation_solutions = {feature: [] for feature in full_dataset.features}\n",
    "for sample in full_dataset:\n",
    "    problem = sample[\"problem\"]\n",
    "    step_ratings = sample[\"step_ratings\"]\n",
    "    if problem in validation_solutions_key_by_problem.keys():\n",
    "        validation_solutions[\"problem\"].append(problem)\n",
    "        validation_solutions[\"step_ratings\"].append(step_ratings)\n",
    "    else:\n",
    "        train_solutions[\"problem\"].append(problem)\n",
    "        train_solutions[\"step_ratings\"].append(step_ratings)"
   ]
  },
  {
   "cell_type": "code",
   "execution_count": 11,
   "metadata": {},
   "outputs": [],
   "source": [
    "train_dataset = datasets.Dataset.from_dict(\n",
    "    train_solutions, features=full_dataset.features, split=\"train\"\n",
    ")\n",
    "validation_dataset = datasets.Dataset.from_dict(\n",
    "    validation_solutions, features=full_dataset.features, split=\"validation\"\n",
    ")"
   ]
  },
  {
   "cell_type": "code",
   "execution_count": 12,
   "metadata": {},
   "outputs": [
    {
     "name": "stdout",
     "output_type": "stream",
     "text": [
      "Dataset({\n",
      "    features: ['problem', 'step_ratings'],\n",
      "    num_rows: 85194\n",
      "})\n",
      "Dataset({\n",
      "    features: ['problem', 'step_ratings'],\n",
      "    num_rows: 1818\n",
      "})\n"
     ]
    }
   ],
   "source": [
    "print(train_dataset)\n",
    "print(validation_dataset)"
   ]
  },
  {
   "cell_type": "code",
   "execution_count": 13,
   "metadata": {},
   "outputs": [
    {
     "name": "stdout",
     "output_type": "stream",
     "text": [
      "DatasetDict({\n",
      "    train: Dataset({\n",
      "        features: ['problem', 'step_ratings'],\n",
      "        num_rows: 85194\n",
      "    })\n",
      "    validation: Dataset({\n",
      "        features: ['problem', 'step_ratings'],\n",
      "        num_rows: 1818\n",
      "    })\n",
      "})\n",
      "{'train': ['problem', 'step_ratings'], 'validation': ['problem', 'step_ratings']}\n"
     ]
    }
   ],
   "source": [
    "raw_datasets = datasets.DatasetDict(\n",
    "    {\"train\": train_dataset, \"validation\": validation_dataset}\n",
    ")\n",
    "print(raw_datasets)\n",
    "print(raw_datasets.column_names)"
   ]
  },
  {
   "cell_type": "code",
   "execution_count": 15,
   "metadata": {},
   "outputs": [
    {
     "name": "stdout",
     "output_type": "stream",
     "text": [
      "{'problem': 'How many seconds are in 7.8 minutes?', 'step_ratings': [{'rating': 1, 'step': '7.8 minutes is the same as 7 minutes and 0.8 minutes.'}, {'rating': 1, 'step': 'Right, and since there are 60 seconds in a minute, then there are 60 * 7 = 420 seconds in 7 minutes.'}, {'rating': 1, 'step': 'And since there are 60 seconds in a minute, then there are 60 * 0.8 = 48 seconds in 0.8 minutes.'}, {'rating': 1, 'step': 'So, in total, there are 420 + 48 = 468 seconds in 7.8 minutes.'}, {'rating': 1, 'step': 'Exactly.\\n\\n# Answer\\n\\n468'}]}\n"
     ]
    }
   ],
   "source": [
    "print(raw_datasets[\"train\"][0])"
   ]
  },
  {
   "cell_type": "code",
   "execution_count": null,
   "metadata": {},
   "outputs": [],
   "source": [
    "raw_datasets.save_to_disk(utils.raw_datasets_path)"
   ]
  },
  {
   "cell_type": "code",
   "execution_count": 59,
   "metadata": {},
   "outputs": [
    {
     "name": "stdout",
     "output_type": "stream",
     "text": [
      "LlamaTokenizerFast(name_or_path='/data/users/zhangjunlei/tyx/.cache/huggingface/hub/models--hf-internal-testing--llama-tokenizer/snapshots/99eceeba6e8289bee767f0771166b5917e70e470', vocab_size=32000, model_max_length=4096, is_fast=True, padding_side='left', truncation_side='right', special_tokens={'bos_token': '<s>', 'eos_token': '</s>', 'unk_token': '<unk>', 'pad_token': '<pad>'}, clean_up_tokenization_spaces=False)\n"
     ]
    }
   ],
   "source": [
    "# import os\n",
    "\n",
    "# os.environ[\"TRANSFORMERS_OFFLINE\"] = \"1\"\n",
    "\n",
    "model = None\n",
    "\n",
    "tokenizer = utils.get_complete_tokenizer()"
   ]
  },
  {
   "cell_type": "code",
   "execution_count": 60,
   "metadata": {},
   "outputs": [
    {
     "data": {
      "application/vnd.jupyter.widget-view+json": {
       "model_id": "c9f4975422fd4a0b9902e4e8ef30f2ab",
       "version_major": 2,
       "version_minor": 0
      },
      "text/plain": [
       "Encoding data for text-classfication by CausalLM (num_proc=16):   0%|          | 0/85194 [00:00<?, ? examples/…"
      ]
     },
     "metadata": {},
     "output_type": "display_data"
    },
    {
     "data": {
      "application/vnd.jupyter.widget-view+json": {
       "model_id": "ff475b927ae2457686aed5bfff2fa7c1",
       "version_major": 2,
       "version_minor": 0
      },
      "text/plain": [
       "Encoding data for text-classfication by CausalLM (num_proc=16):   0%|          | 0/1818 [00:00<?, ? examples/s…"
      ]
     },
     "metadata": {},
     "output_type": "display_data"
    }
   ],
   "source": [
    "encode_fn = partial(\n",
    "    encode_with_problem_step_ratings_format,\n",
    "    tokenizer=tokenizer,\n",
    "    # max_seq_length=args.max_seq_length,\n",
    ")\n",
    "\n",
    "# train_encode_fn = partial(encode_fn, split=\"train\")\n",
    "# validation_encode_fn = partial(encode_fn, split=\"validation\")\n",
    "\n",
    "encoded_feature_names = [\n",
    "    \"input_ids\",\n",
    "    \"labels\",\n",
    "]  # [\"input_ids\", \"labels\", \"attention_mask\"]\n",
    "\n",
    "# train_dataset = train_dataset.map(\n",
    "#     train_encode_fn,\n",
    "#     batched=False,\n",
    "#     num_proc=args.preprocessing_num_workers,\n",
    "#     load_from_cache_file=not args.overwrite_cache,\n",
    "#     remove_columns=[\n",
    "#         name\n",
    "#         for name in raw_datasets[\"train\"].column_names\n",
    "#         if name not in encoded_feature_names\n",
    "#     ],\n",
    "#     desc=\"Encoding text-classfication by CausalLM train data\",\n",
    "# )\n",
    "\n",
    "# validation_dataset = validation_dataset.map(\n",
    "#     validation_encode_fn,\n",
    "#     batched=False,\n",
    "#     num_proc=args.preprocessing_num_workers,\n",
    "#     load_from_cache_file=not args.overwrite_cache,\n",
    "#     remove_columns=[\n",
    "#         name\n",
    "#         for name in raw_datasets[\"train\"].column_names\n",
    "#         if name not in encoded_feature_names\n",
    "#     ],\n",
    "#     desc=\"Encoding text-classfication by CausalLM validation data\",\n",
    "# )\n",
    "\n",
    "lm_datasets = raw_datasets.map(\n",
    "    encode_fn,\n",
    "    batched=False,\n",
    "    # batched=True,\n",
    "    num_proc=args.preprocessing_num_workers,\n",
    "    load_from_cache_file=not args.overwrite_cache,\n",
    "    remove_columns=[\n",
    "        name\n",
    "        for name in raw_datasets[\"train\"].column_names\n",
    "        if name not in encoded_feature_names\n",
    "    ],\n",
    "    desc=\"Encoding data for text-classfication by CausalLM\",\n",
    ")"
   ]
  },
  {
   "cell_type": "code",
   "execution_count": 62,
   "metadata": {},
   "outputs": [
    {
     "data": {
      "application/vnd.jupyter.widget-view+json": {
       "model_id": "22279f4bb9d84a01932d56925d636523",
       "version_major": 2,
       "version_minor": 0
      },
      "text/plain": [
       "Filter:   0%|          | 0/85194 [00:00<?, ? examples/s]"
      ]
     },
     "metadata": {},
     "output_type": "display_data"
    },
    {
     "data": {
      "application/vnd.jupyter.widget-view+json": {
       "model_id": "7b1c5c9709a1441f8b625c95d00f1958",
       "version_major": 2,
       "version_minor": 0
      },
      "text/plain": [
       "Filter:   0%|          | 0/1818 [00:00<?, ? examples/s]"
      ]
     },
     "metadata": {},
     "output_type": "display_data"
    }
   ],
   "source": [
    "lm_datasets.set_format(type=\"pt\")\n",
    "lm_datasets = lm_datasets.filter(lambda example: (example[\"labels\"] != -100).any())"
   ]
  },
  {
   "cell_type": "code",
   "execution_count": 63,
   "metadata": {},
   "outputs": [
    {
     "name": "stdout",
     "output_type": "stream",
     "text": [
      "DatasetDict({\n",
      "    train: Dataset({\n",
      "        features: ['input_ids', 'labels'],\n",
      "        num_rows: 85194\n",
      "    })\n",
      "    validation: Dataset({\n",
      "        features: ['input_ids', 'labels'],\n",
      "        num_rows: 1818\n",
      "    })\n",
      "})\n"
     ]
    }
   ],
   "source": [
    "print(lm_datasets)"
   ]
  },
  {
   "cell_type": "code",
   "execution_count": 66,
   "metadata": {},
   "outputs": [
    {
     "data": {
      "application/vnd.jupyter.widget-view+json": {
       "model_id": "c555252b950a45648b56c3abb30c4f2c",
       "version_major": 2,
       "version_minor": 0
      },
      "text/plain": [
       "Saving the dataset (0/1 shards):   0%|          | 0/85194 [00:00<?, ? examples/s]"
      ]
     },
     "metadata": {},
     "output_type": "display_data"
    },
    {
     "data": {
      "application/vnd.jupyter.widget-view+json": {
       "model_id": "4d731861e8ad4e7c9144a3382e2cd1f2",
       "version_major": 2,
       "version_minor": 0
      },
      "text/plain": [
       "Saving the dataset (0/1 shards):   0%|          | 0/1818 [00:00<?, ? examples/s]"
      ]
     },
     "metadata": {},
     "output_type": "display_data"
    }
   ],
   "source": [
    "lm_datasets.save_to_disk(args.encoded_dataset_output_dirpath)"
   ]
  },
  {
   "cell_type": "markdown",
   "metadata": {},
   "source": [
    "# test"
   ]
  },
  {
   "cell_type": "code",
   "execution_count": 155,
   "metadata": {},
   "outputs": [
    {
     "name": "stdout",
     "output_type": "stream",
     "text": [
      "{'problem': 'If $a$ and $b$ are positive integers for which $ab - 6a + 5b = 373$, what is the minimal possible value of $|a - b|$?', 'step_ratings': [{'rating': -1, 'step': 'The first thing I notice is that the equation is symmetric in $a$ and $b$, meaning that if I swap $a$ and $b$, the equation stays the same.'}]}\n"
     ]
    }
   ],
   "source": [
    "print(raw_datasets[\"train\"][random.randint(0, len(raw_datasets[\"train\"]))])"
   ]
  },
  {
   "cell_type": "code",
   "execution_count": 156,
   "metadata": {},
   "outputs": [
    {
     "name": "stdout",
     "output_type": "stream",
     "text": [
      "87012\n",
      "{'input_ids': tensor([    1,  1724,   338,   278, 14176,  3619,  8572,   272,   310, 29871,\n",
      "        29896, 29946, 29900, 29955,   322, 29871, 29929, 29900, 29941, 29973,\n",
      "           13,  1762,  1284,   278, 14176,  3619,  8572,   272,   313, 29954,\n",
      "         6530, 29897,   310,  1023,  3694, 29892,   306,   817,   304,  1284,\n",
      "          278, 10150,  6374,  6043,   393,  1933,  2247,  1716,  3694,  1584,\n",
      "          368, 29889,    13,  6716,   982,   304,   437,   445,   338,   304,\n",
      "          671,   278,   382, 27511,  5687, 29892,   607,  4083,   393,   278,\n",
      "          402,  6530,   310,  1023,  3694,   263,   322,   289,   338,   278,\n",
      "         1021,   408,   278,   402,  6530,   310,   289,   322,   278, 21162,\n",
      "          310,   263, 13931,   491,   289, 29889,    13,  6295, 29892,   306,\n",
      "        29915,   645,  1369,   491,  1933,  4821, 29871, 29896, 29946, 29900,\n",
      "        29955,   491, 29871, 29929, 29900, 29941,   322,  9138,   278, 21162,\n",
      "        29889,    13, 15156,  1472,  8542, 29892,   306,   679, 29871, 29896,\n",
      "        29946, 29900, 29955,   353, 29871, 29929, 29900, 29941,   334, 29871,\n",
      "        29896,   718, 29871, 29945, 29900, 29946, 29889,    13,  4013,  2794,\n",
      "          393,   278,   402,  6530,   310, 29871, 29896, 29946, 29900, 29955,\n",
      "          322, 29871, 29929, 29900, 29941,   338,   278,  1021,   408,   278,\n",
      "          402,  6530,   310, 29871, 29929, 29900, 29941,   322, 29871, 29945,\n",
      "        29900, 29946, 29889,    13, 29902,   508, 12312,   278,  1021,  1889,\n",
      "          411,  1438,  1023,  3694, 29901, 29871, 29929, 29900, 29941,   353,\n",
      "        29871, 29945, 29900, 29946,   334, 29871, 29896,   718, 29871, 29941,\n",
      "        29929, 29929, 29889,    13, 10454, 29892,   278,   402,  6530,   310,\n",
      "        29871, 29929, 29900, 29941,   322, 29871, 29945, 29900, 29946,   338,\n",
      "          278,  1021,   408,   278,   402,  6530,   310, 29871, 29945, 29900,\n",
      "        29946,   322, 29871, 29941, 29929, 29929, 29889,    13,  1323,  8675,\n",
      "          292, 29892,   306,   679, 29871, 29945, 29900, 29946,   353, 29871,\n",
      "        29941, 29929, 29929,   334, 29871, 29896,   718, 29871, 29896, 29900,\n",
      "        29945, 29889,    13,  1576,   402,  6530,   310, 29871, 29945, 29900,\n",
      "        29946,   322, 29871, 29941, 29929, 29929,   338,   278,  1021,   408,\n",
      "          278,   402,  6530,   310, 29871, 29941, 29929, 29929,   322, 29871,\n",
      "        29896, 29900, 29945, 29889,    13,  6716,   901,  4331, 29901, 29871,\n",
      "        29941, 29929, 29929,   353, 29871, 29896, 29900, 29945,   334, 29871,\n",
      "        29941,   718, 29871, 29947, 29946, 29889,    13,  1576,   402,  6530,\n",
      "          310, 29871, 29941, 29929, 29929,   322, 29871, 29896, 29900, 29945,\n",
      "          338,   278,  1021,   408,   278,   402,  6530,   310, 29871, 29896,\n",
      "        29900, 29945,   322, 29871, 29947, 29946, 29889,    13, 10454, 29892,\n",
      "          306,  8369,   393, 29871, 29947, 29946,  1933,  2247, 29871, 29896,\n",
      "        29900, 29945,  1584,   368, 29892,   577,   278, 21162,   338,  5225,\n",
      "        29889,    13]), 'labels': tensor([ -100,  -100,  -100,  -100,  -100,  -100,  -100,  -100,  -100,  -100,\n",
      "         -100,  -100,  -100,  -100,  -100,  -100,  -100,  -100,  -100,  -100,\n",
      "         -100,  -100,  -100,  -100,  -100,  -100,  -100,  -100,  -100,  -100,\n",
      "         -100,  -100,  -100,  -100,  -100,  -100,  -100,  -100,  -100,  -100,\n",
      "         -100,  -100,  -100,  -100,  -100,  -100,  -100,  -100,  -100,  -100,\n",
      "         -100,  -100, 21104,  -100,  -100,  -100,  -100,  -100,  -100,  -100,\n",
      "         -100,  -100,  -100,  -100,  -100,  -100,  -100,  -100,  -100,  -100,\n",
      "         -100,  -100,  -100,  -100,  -100,  -100,  -100,  -100,  -100,  -100,\n",
      "         -100,  -100,  -100,  -100,  -100,  -100,  -100,  -100,  -100,  -100,\n",
      "         -100,  -100,  -100,  -100,  -100,  -100,  6374,  -100,  -100,  -100,\n",
      "         -100,  -100,  -100,  -100,  -100,  -100,  -100,  -100,  -100,  -100,\n",
      "         -100,  -100,  -100,  -100,  -100,  -100,  -100,  -100,  -100,  -100,\n",
      "         -100,  6374,  -100,  -100,  -100,  -100,  -100,  -100,  -100,  -100,\n",
      "         -100,  -100,  -100,  -100,  -100,  -100,  -100,  -100,  -100,  -100,\n",
      "         -100,  -100,  -100,  -100,  -100,  -100,  -100,  6374,  -100,  -100,\n",
      "         -100,  -100,  -100,  -100,  -100,  -100,  -100,  -100,  -100,  -100,\n",
      "         -100,  -100,  -100,  -100,  -100,  -100,  -100,  -100,  -100,  -100,\n",
      "         -100,  -100,  -100,  -100,  -100,  -100,  -100,  -100,  -100,  -100,\n",
      "         -100,  -100,  -100,  6374,  -100,  -100,  -100,  -100,  -100,  -100,\n",
      "         -100,  -100,  -100,  -100,  -100,  -100,  -100,  -100,  -100,  -100,\n",
      "         -100,  -100,  -100,  -100,  -100,  -100,  -100,  -100,  -100,  -100,\n",
      "         -100,  -100,  -100,  6374,  -100,  -100,  -100,  -100,  -100,  -100,\n",
      "         -100,  -100,  -100,  -100,  -100,  -100,  -100,  -100,  -100,  -100,\n",
      "         -100,  -100,  -100,  -100,  -100,  -100,  -100,  -100,  -100,  -100,\n",
      "         -100,  -100,  -100,  -100,  -100,  -100,  -100,  6374,  -100,  -100,\n",
      "         -100,  -100,  -100,  -100,  -100,  -100,  -100,  -100,  -100,  -100,\n",
      "         -100,  -100,  -100,  -100,  -100,  -100,  -100,  -100,  -100,  -100,\n",
      "         -100,  -100,  6374,  -100,  -100,  -100,  -100,  -100,  -100,  -100,\n",
      "         -100,  -100,  -100,  -100,  -100,  -100,  -100,  -100,  -100,  -100,\n",
      "         -100,  -100,  -100,  -100,  -100,  -100,  -100,  -100,  -100,  -100,\n",
      "         -100,  -100,  -100,  -100,  6374,  -100,  -100,  -100,  -100,  -100,\n",
      "         -100,  -100,  -100,  -100,  -100,  -100,  -100,  -100,  -100,  -100,\n",
      "         -100,  -100,  -100,  -100,  -100,  -100,  6374,  -100,  -100,  -100,\n",
      "         -100,  -100,  -100,  -100,  -100,  -100,  -100,  -100,  -100,  -100,\n",
      "         -100,  -100,  -100,  -100,  -100,  -100,  -100,  -100,  -100,  -100,\n",
      "         -100,  -100,  -100,  -100,  -100,  -100,  -100,  6374,  -100,  -100,\n",
      "         -100,  -100,  -100,  -100,  -100,  -100,  -100,  -100,  -100,  -100,\n",
      "         -100,  -100,  -100,  -100,  -100,  -100,  -100,  -100,  -100,  -100,\n",
      "         -100,  8178]), 'attention_mask': tensor([1, 1, 1, 1, 1, 1, 1, 1, 1, 1, 1, 1, 1, 1, 1, 1, 1, 1, 1, 1, 1, 1, 1, 1,\n",
      "        1, 1, 1, 1, 1, 1, 1, 1, 1, 1, 1, 1, 1, 1, 1, 1, 1, 1, 1, 1, 1, 1, 1, 1,\n",
      "        1, 1, 1, 1, 1, 1, 1, 1, 1, 1, 1, 1, 1, 1, 1, 1, 1, 1, 1, 1, 1, 1, 1, 1,\n",
      "        1, 1, 1, 1, 1, 1, 1, 1, 1, 1, 1, 1, 1, 1, 1, 1, 1, 1, 1, 1, 1, 1, 1, 1,\n",
      "        1, 1, 1, 1, 1, 1, 1, 1, 1, 1, 1, 1, 1, 1, 1, 1, 1, 1, 1, 1, 1, 1, 1, 1,\n",
      "        1, 1, 1, 1, 1, 1, 1, 1, 1, 1, 1, 1, 1, 1, 1, 1, 1, 1, 1, 1, 1, 1, 1, 1,\n",
      "        1, 1, 1, 1, 1, 1, 1, 1, 1, 1, 1, 1, 1, 1, 1, 1, 1, 1, 1, 1, 1, 1, 1, 1,\n",
      "        1, 1, 1, 1, 1, 1, 1, 1, 1, 1, 1, 1, 1, 1, 1, 1, 1, 1, 1, 1, 1, 1, 1, 1,\n",
      "        1, 1, 1, 1, 1, 1, 1, 1, 1, 1, 1, 1, 1, 1, 1, 1, 1, 1, 1, 1, 1, 1, 1, 1,\n",
      "        1, 1, 1, 1, 1, 1, 1, 1, 1, 1, 1, 1, 1, 1, 1, 1, 1, 1, 1, 1, 1, 1, 1, 1,\n",
      "        1, 1, 1, 1, 1, 1, 1, 1, 1, 1, 1, 1, 1, 1, 1, 1, 1, 1, 1, 1, 1, 1, 1, 1,\n",
      "        1, 1, 1, 1, 1, 1, 1, 1, 1, 1, 1, 1, 1, 1, 1, 1, 1, 1, 1, 1, 1, 1, 1, 1,\n",
      "        1, 1, 1, 1, 1, 1, 1, 1, 1, 1, 1, 1, 1, 1, 1, 1, 1, 1, 1, 1, 1, 1, 1, 1,\n",
      "        1, 1, 1, 1, 1, 1, 1, 1, 1, 1, 1, 1, 1, 1, 1, 1, 1, 1, 1, 1, 1, 1, 1, 1,\n",
      "        1, 1, 1, 1, 1, 1, 1, 1, 1, 1, 1, 1, 1, 1, 1, 1, 1, 1, 1, 1, 1, 1, 1, 1,\n",
      "        1, 1, 1, 1, 1, 1, 1, 1, 1, 1, 1, 1, 1, 1, 1, 1, 1, 1, 1, 1, 1, 1])}\n"
     ]
    }
   ],
   "source": [
    "print(len(full_dataset))  # 87012\n",
    "print(full_dataset[random.randint(0, len(full_dataset))])"
   ]
  },
  {
   "cell_type": "markdown",
   "metadata": {},
   "source": [
    "# debug"
   ]
  },
  {
   "cell_type": "code",
   "execution_count": null,
   "metadata": {},
   "outputs": [],
   "source": [
    "# raw_dataset_sample = raw_dataset[random.randint(0, len(raw_dataset))]\n",
    "# print(raw_dataset_sample)\n",
    "raw_dataset_example = {\n",
    "    \"labeler\": \"68e6d5f3-747c-4420-97b4-a30a73f639f9\",\n",
    "    \"timestamp\": \"2022-11-01T17:20:23.427734\",\n",
    "    \"generation\": 4,\n",
    "    \"is_quality_control_question\": False,\n",
    "    \"is_initial_screening_question\": False,\n",
    "    \"question\": {\n",
    "        \"problem\": \"If the system of equations\\n\\n\\\\begin{align*}\\n6x-4y&=a,\\\\\\\\\\n6y-9x &=b.\\n\\\\end{align*}has a solution $(x, y)$ where $x$ and $y$ are both nonzero, find $\\\\frac{a}{b},$ assuming $b$ is nonzero.\",\n",
    "        \"ground_truth_solution\": \"If we multiply the first equation by $-\\\\frac{3}{2}$, we obtain\\n\\n$$6y-9x=-\\\\frac{3}{2}a.$$Since we also know that $6y-9x=b$, we have\\n\\n$$-\\\\frac{3}{2}a=b\\\\Rightarrow\\\\frac{a}{b}=\\\\boxed{-\\\\frac{2}{3}}.$$\",\n",
    "        \"ground_truth_answer\": \"-\\\\frac{2}{3}\",\n",
    "        \"pre_generated_steps\": [\n",
    "            \"I notice that the coefficients of the system are multiples of 3, so I can divide both equations by 3 to simplify them.\",\n",
    "            \"\\\\begin{align*}\\n2x-\\\\frac{4}{3}y&=\\\\frac{a}{3},\\\\\\\\\\n2y-3x &=\\\\frac{b}{3}.\\n\\\\end{align*}\",\n",
    "            \"I also notice that the coefficients of $x$ and $y$ in the second equation are the negatives of the coefficients of $y$ and $x$ in the first equation, respectively.\",\n",
    "            \"This suggests that I can add the two equations to eliminate one of the variables.\",\n",
    "            \"\\\\begin{align*}\\n2x-\\\\frac{4}{3}y+\\\\left(2y-3x\\\\right)&=\\\\frac{a}{3}+\\\\frac{b}{3},\\\\\\\\\\n\\\\frac{2}{3}y- x &=\\\\frac{a+b}{3}.\\n\\\\end{align*}\",\n",
    "            \"Now I can solve for $y$ in terms of $x$ and the constants.\",\n",
    "            \"\\\\begin{align*}\\n\\\\frac{2}{3}y&= x + \\\\frac{a+b}{3},\\\\\\\\\\ny&= \\\\frac{3}{2}x + \\\\frac{a+b}{2}.\\n\\\\end{align*}\",\n",
    "            \"I can substitute this expression for $y$ into either of the original equations to get an equation involving only $x$ and the constants.\",\n",
    "            \"I choose the first equation for convenience.\",\n",
    "            \"\\\\begin{align*}\\n2x-\\\\frac{4}{3}\\\\left(\\\\frac{3}{2}x + \\\\frac{a+b}{2}\\\\right)&=\\\\frac{a}{3},\\\\\\\\\\n2x-2x - \\\\frac{2}{3}\\\\left(a+b\\\\right)&=\\\\frac{a}{3},\\\\\\\\\\n-\\\\frac{2}{3}\\\\left(a+b\\\\right)&=\\\\frac{a}{3},\\\\\\\\\\n-2\\\\left(a+b\\\\right)&=a,\\\\\\\\\\na&=-2b.\\n\\\\end{align*}\",\n",
    "            \"I have found a relationship between $a$ and $b$ that must hold for the system to have a nonzero solution.\",\n",
    "            \"I can use this to find the ratio $\\\\frac{a}{b}$ by dividing both sides by $b$.\",\n",
    "            \"\\\\begin{align*}\\n\\\\frac{a}{b}&=\\\\frac{-2b}{b},\\\\\\\\\\n\\\\frac{a}{b}&=-2.\\n\\\\end{align*}\",\n",
    "            \"This is the answer I was looking for.\",\n",
    "            \"# Answer\\n\\n-2\",\n",
    "        ],\n",
    "        \"pre_generated_answer\": \"-2\",\n",
    "        \"pre_generated_verifier_score\": 0.12514245681574954,\n",
    "    },\n",
    "    \"label\": {\n",
    "        \"steps\": [\n",
    "            {\n",
    "                \"completions\": [\n",
    "                    {\n",
    "                        \"text\": \"I notice that the coefficients of the system are multiples of 3, so I can divide both equations by 3 to simplify them.\",\n",
    "                        \"rating\": 0,\n",
    "                        \"flagged\": None,\n",
    "                    }\n",
    "                ],\n",
    "                \"human_completion\": None,\n",
    "                \"chosen_completion\": 0,\n",
    "            },\n",
    "            {\n",
    "                \"completions\": [\n",
    "                    {\n",
    "                        \"text\": \"\\\\begin{align*}\\n2x-\\\\frac{4}{3}y&=\\\\frac{a}{3},\\\\\\\\\\n2y-3x &=\\\\frac{b}{3}.\\n\\\\end{align*}\",\n",
    "                        \"rating\": 1,\n",
    "                        \"flagged\": None,\n",
    "                    }\n",
    "                ],\n",
    "                \"human_completion\": None,\n",
    "                \"chosen_completion\": 0,\n",
    "            },\n",
    "            {\n",
    "                \"completions\": [\n",
    "                    {\n",
    "                        \"text\": \"I also notice that the coefficients of $x$ and $y$ in the second equation are the negatives of the coefficients of $y$ and $x$ in the first equation, respectively.\",\n",
    "                        \"rating\": -1,\n",
    "                        \"flagged\": None,\n",
    "                    },\n",
    "                    {\n",
    "                        \"text\": \"To eliminate one of the variables, I can try to make the coefficients of $x$ or $y$ match in both equations. I see that multiplying the first equation by $\\\\frac{3}{4}$ and the second equation by $-\\\\frac{4}{3}$ will achieve this for $y$.\",\n",
    "                        \"rating\": -1,\n",
    "                        \"flagged\": False,\n",
    "                    },\n",
    "                    {\n",
    "                        \"text\": \"I want to eliminate one of the variables, so I multiply the first equation by $\\\\frac{3}{2}$ and the second equation by $x$ to get\",\n",
    "                        \"rating\": -1,\n",
    "                        \"flagged\": False,\n",
    "                    },\n",
    "                    {\n",
    "                        \"text\": \"I want to find a way to eliminate one of the variables and solve for the other, so I can use the substitution or elimination method.\",\n",
    "                        \"rating\": 1,\n",
    "                        \"flagged\": False,\n",
    "                    },\n",
    "                    {\n",
    "                        \"text\": \"I want to eliminate one of the variables, so I can multiply the first equation by $\\\\frac{3}{2}$ and add it to the second equation.\",\n",
    "                        \"rating\": -1,\n",
    "                        \"flagged\": False,\n",
    "                    },\n",
    "                ],\n",
    "                \"human_completion\": None,\n",
    "                \"chosen_completion\": None,\n",
    "            },\n",
    "        ],\n",
    "        \"total_time\": 418405,\n",
    "        \"finish_reason\": \"found_error\",\n",
    "    },\n",
    "}"
   ]
  },
  {
   "cell_type": "code",
   "execution_count": 18,
   "metadata": {},
   "outputs": [
    {
     "name": "stdout",
     "output_type": "stream",
     "text": [
      "{'problem': 'If the system of equations\\n\\n\\\\begin{align*}\\n6x-4y&=a,\\\\\\\\\\n6y-9x &=b.\\n\\\\end{align*}has a solution $(x, y)$ where $x$ and $y$ are both nonzero, find $\\\\frac{a}{b},$ assuming $b$ is nonzero.', 'step_ratings': [{'step': 'I notice that the coefficients of the system are multiples of 3, so I can divide both equations by 3 to simplify them.', 'rating': 0}, {'step': '\\\\begin{align*}\\n2x-\\\\frac{4}{3}y&=\\\\frac{a}{3},\\\\\\\\\\n2y-3x &=\\\\frac{b}{3}.\\n\\\\end{align*}', 'rating': 1}, {'step': 'I also notice that the coefficients of $x$ and $y$ in the second equation are the negatives of the coefficients of $y$ and $x$ in the first equation, respectively.', 'rating': -1}]}\n"
     ]
    }
   ],
   "source": [
    "# test\n",
    "reformatted_raw_dataset_example = reformat_prm800k_sample(raw_dataset_example)\n",
    "print(reformatted_raw_dataset_example)"
   ]
  },
  {
   "cell_type": "code",
   "execution_count": 14,
   "metadata": {},
   "outputs": [
    {
     "name": "stdout",
     "output_type": "stream",
     "text": [
      "0\n",
      "[1, 263, 13, 29890]\n"
     ]
    }
   ],
   "source": [
    "# debug\n",
    "newline_id = tokenizer.convert_tokens_to_ids(\"\\n\")\n",
    "print(newline_id)\n",
    "newline_in_sentence_ids = tokenizer.encode(\"a\\nb\")\n",
    "print(newline_in_sentence_ids)"
   ]
  },
  {
   "cell_type": "code",
   "execution_count": 119,
   "metadata": {},
   "outputs": [],
   "source": [
    "test = True\n",
    "test_for = {\"token_prefix\": True, \"equal\": True, \"common\": False}"
   ]
  },
  {
   "cell_type": "code",
   "execution_count": 91,
   "metadata": {},
   "outputs": [
    {
     "name": "stdout",
     "output_type": "stream",
     "text": [
      "reformatted_sample: \n",
      "{'problem': 'If the system of equations\\n\\n\\\\begin{align*}\\n6x-4y&=a,\\\\\\\\\\n6y-9x &=b.\\n\\\\end{align*}has a solution $(x, y)$ where $x$ and $y$ are both nonzero, find $\\\\frac{a}{b},$ assuming $b$ is nonzero.', 'step_ratings': [{'step': 'I notice that the coefficients of the system are multiples of 3, so I can divide both equations by 3 to simplify them.', 'rating': 0}, {'step': '\\\\begin{align*}\\n2x-\\\\frac{4}{3}y&=\\\\frac{a}{3},\\\\\\\\\\n2y-3x &=\\\\frac{b}{3}.\\n\\\\end{align*}', 'rating': 1}, {'step': 'I also notice that the coefficients of $x$ and $y$ in the second equation are the negatives of the coefficients of $y$ and $x$ in the first equation, respectively.', 'rating': -1}]}\n",
      "\n",
      "sample_text: \n",
      "If the system of equations\n",
      "\n",
      "\\begin{align*}\n",
      "6x-4y&=a,\\\\\n",
      "6y-9x &=b.\n",
      "\\end{align*}has a solution $(x, y)$ where $x$ and $y$ are both nonzero, find $\\frac{a}{b},$ assuming $b$ is nonzero.\n",
      "I notice that the coefficients of the system are multiples of 3, so I can divide both equations by 3 to simplify them.\n",
      "\\begin{align*}\n",
      "2x-\\frac{4}{3}y&=\\frac{a}{3},\\\\\n",
      "2y-3x &=\\frac{b}{3}.\n",
      "\\end{align*}\n",
      "I also notice that the coefficients of $x$ and $y$ in the second equation are the negatives of the coefficients of $y$ and $x$ in the first equation, respectively.\n",
      "\n",
      "tokenized_sample: \n",
      "{'input_ids': tensor([[    1,   960,   278,  1788,   310, 10693,    13,    13, 29905,   463,\n",
      "         29912,  2520,  4044,    13, 29953, 29916, 29899, 29946, 29891, 20644,\n",
      "         29874, 29892,  1966,    13, 29953, 29891, 29899, 29929, 29916,  7878,\n",
      "         29890, 29889,    13, 29905,   355, 29912,  2520,  4044,  5349,   263,\n",
      "          1650,  2427, 29916, 29892,   343,  1262,   988,   395, 29916, 29938,\n",
      "           322,   395, 29891, 29938,   526,  1716,  1661,  9171, 29892,  1284,\n",
      "           779,  1154, 29912, 29874,  1157, 29890,  1118, 29938, 10241,   395,\n",
      "         29890, 29938,   338,  1661,  9171, 29889,    13, 29902,  8369,   393,\n",
      "           278, 16127,   310,   278,  1788,   526,  2473,  2701,   310, 29871,\n",
      "         29941, 29892,   577,   306,   508, 16429,  1716, 10693,   491, 29871,\n",
      "         29941,   304, 21092,   963, 29889,    13, 29905,   463, 29912,  2520,\n",
      "          4044,    13, 29906, 29916,  2612,  1154, 29912, 29946,  1157, 29941,\n",
      "         29913, 29891, 29987,  2013,  1154, 29912, 29874,  1157, 29941,  1118,\n",
      "          1966,    13, 29906, 29891, 29899, 29941, 29916, 29072,  1154, 29912,\n",
      "         29890,  1157, 29941,  1836,    13, 29905,   355, 29912,  2520,  4044,\n",
      "            13, 29902,   884,  8369,   393,   278, 16127,   310,   395, 29916,\n",
      "         29938,   322,   395, 29891, 29938,   297,   278,  1473,  6306,   526,\n",
      "           278,  3480,  5056,   310,   278, 16127,   310,   395, 29891, 29938,\n",
      "           322,   395, 29916, 29938,   297,   278,   937,  6306, 29892,  8307,\n",
      "         29889]]), 'attention_mask': tensor([[1, 1, 1, 1, 1, 1, 1, 1, 1, 1, 1, 1, 1, 1, 1, 1, 1, 1, 1, 1, 1, 1, 1, 1,\n",
      "         1, 1, 1, 1, 1, 1, 1, 1, 1, 1, 1, 1, 1, 1, 1, 1, 1, 1, 1, 1, 1, 1, 1, 1,\n",
      "         1, 1, 1, 1, 1, 1, 1, 1, 1, 1, 1, 1, 1, 1, 1, 1, 1, 1, 1, 1, 1, 1, 1, 1,\n",
      "         1, 1, 1, 1, 1, 1, 1, 1, 1, 1, 1, 1, 1, 1, 1, 1, 1, 1, 1, 1, 1, 1, 1, 1,\n",
      "         1, 1, 1, 1, 1, 1, 1, 1, 1, 1, 1, 1, 1, 1, 1, 1, 1, 1, 1, 1, 1, 1, 1, 1,\n",
      "         1, 1, 1, 1, 1, 1, 1, 1, 1, 1, 1, 1, 1, 1, 1, 1, 1, 1, 1, 1, 1, 1, 1, 1,\n",
      "         1, 1, 1, 1, 1, 1, 1, 1, 1, 1, 1, 1, 1, 1, 1, 1, 1, 1, 1, 1, 1, 1, 1, 1,\n",
      "         1, 1, 1, 1, 1, 1, 1, 1, 1, 1, 1, 1, 1, 1, 1, 1, 1, 1, 1, 1, 1, 1, 1]])}\n",
      "\n"
     ]
    },
    {
     "ename": "AttributeError",
     "evalue": "'LlamaTokenizer' object has no attribute 'char_to_token'",
     "output_type": "error",
     "traceback": [
      "\u001b[0;31m---------------------------------------------------------------------------\u001b[0m",
      "\u001b[0;31mAttributeError\u001b[0m                            Traceback (most recent call last)",
      "Cell \u001b[0;32mIn[91], line 42\u001b[0m\n\u001b[1;32m     40\u001b[0m \u001b[39m# mask the non-rating part for avoiding loss\u001b[39;00m\n\u001b[1;32m     41\u001b[0m \u001b[39mfor\u001b[39;00m idx, input_id \u001b[39min\u001b[39;00m \u001b[39menumerate\u001b[39m(input_ids[\u001b[39m0\u001b[39m]):\n\u001b[0;32m---> 42\u001b[0m     \u001b[39mif\u001b[39;00m input_id \u001b[39m==\u001b[39m tokenizer\u001b[39m.\u001b[39;49mchar_to_token(\u001b[39m\"\u001b[39m\u001b[39m\\n\u001b[39;00m\u001b[39m\"\u001b[39m):\n\u001b[1;32m     43\u001b[0m         rating_idx \u001b[39m=\u001b[39m idx \u001b[39m+\u001b[39m \u001b[39m1\u001b[39m\n\u001b[1;32m     44\u001b[0m         labels[\u001b[39m0\u001b[39m][rating_idx] \u001b[39m=\u001b[39m input_ids[\u001b[39m0\u001b[39m][rating_idx]\n",
      "\u001b[0;31mAttributeError\u001b[0m: 'LlamaTokenizer' object has no attribute 'char_to_token'"
     ]
    }
   ],
   "source": [
    "reformatted_sample = reformatted_raw_dataset_example\n",
    "\n",
    "# function\n",
    "if test_for == True:\n",
    "    print(\"reformatted_sample: \", reformatted_sample, sep=\"\\n\", end=\"\\n\\n\")\n",
    "step_ratings = reformatted_sample[\"step_ratings\"]\n",
    "if len(step_ratings) == 0:\n",
    "    raise ValueError(\"step_ratings field is empty.\")\n",
    "\n",
    "rating2word = {1: \"positive\", -1: \"negative\", 0: \"neutral\"}\n",
    "rating2token_id = {\n",
    "    rating: tokenizer.convert_tokens_to_ids(tokenizer.tokenize(word))[0]\n",
    "    for rating, word in rating2word.items()\n",
    "}\n",
    "\n",
    "problem = reformatted_sample[\"problem\"].strip()\n",
    "problem_step_ratings_text = problem + \"\\n\"\n",
    "sample_input_ids = tokenizer(\n",
    "    problem + \"\\n\",\n",
    "    return_tensors=\"pt\",\n",
    "    padding=False,\n",
    "    truncation=False,\n",
    "    add_special_tokens=True,\n",
    "    return_attention_mask=False,\n",
    ")[\"input_ids\"]\n",
    "ignore_index = -100\n",
    "sample_labels = torch.ones_like(sample_input_ids) * ignore_index\n",
    "\n",
    "for step_rating in step_ratings:\n",
    "    step = step_rating[\"step\"].strip()\n",
    "\n",
    "    problem_step_ratings_text += step + \"\\n\"\n",
    "\n",
    "    step_input_ids = tokenizer(\n",
    "        \"\\n\" + step + \"\\n\",\n",
    "        return_tensors=\"pt\",\n",
    "        padding=False,\n",
    "        truncation=False,\n",
    "        # add_special_tokens=True,\n",
    "        add_special_tokens=False,\n",
    "        return_attention_mask=False,\n",
    "    )[\"input_ids\"]\n",
    "    step_input_ids = step_input_ids[:, 2:]  # remove \"\\n\"\n",
    "    sample_input_ids = torch.cat((sample_input_ids, step_input_ids), dim=1)\n",
    "\n",
    "    step_labels = torch.ones_like(step_input_ids) * ignore_index\n",
    "    step_labels[:, -2] = rating2token_id[\n",
    "        step_rating[\"rating\"]\n",
    "    ]  # set the label for the last token_id before \"\\n\"\n",
    "    sample_labels = torch.cat((sample_labels, step_labels), dim=1)\n",
    "\n",
    "sample_input_ids = sample_input_ids[:, :-1]\n",
    "sample_labels = sample_labels[:, :-1]\n",
    "problem_step_ratings_text = problem_step_ratings_text.strip()\n",
    "\n",
    "if test:\n",
    "    sample_input_ids_from_simple_call = tokenizer(\n",
    "        problem_step_ratings_text,\n",
    "        return_tensors=\"pt\",\n",
    "        padding=False,\n",
    "        truncation=False,\n",
    "        add_special_tokens=True,\n",
    "        return_attention_mask=False,\n",
    "    )[\"input_ids\"]\n",
    "    assert torch.equal(sample_input_ids, sample_input_ids_from_simple_call), (\n",
    "        sample_input_ids != sample_input_ids_from_simple_call\n",
    "    )\n",
    "\n",
    "attention_mask = torch.ones_like(sample_input_ids)\n",
    "encoded_sample = {\n",
    "    \"input_ids\": sample_input_ids.flatten(),\n",
    "    \"labels\": sample_labels.flatten(),\n",
    "    \"attention_mask\": attention_mask.flatten(),\n",
    "}"
   ]
  },
  {
   "cell_type": "code",
   "execution_count": 121,
   "metadata": {},
   "outputs": [
    {
     "name": "stdout",
     "output_type": "stream",
     "text": [
      "decoded_tokens:\n",
      "['I', '▁notice', '▁that', '▁the', '▁coefficients', '▁of', '▁the', '▁system', '▁are', '▁multi', 'ples', '▁of', '▁', '3', ',', '▁so', '▁I', '▁can', '▁divide', '▁both', '▁equations', '▁by', '▁', '3', '▁to', '▁simplify', '▁them', '.', '<0x0A>']\n",
      "\n",
      "decoded_tokens:\n",
      "['\\\\', 'begin', '{', 'align', '*}', '<0x0A>', '2', 'x', '-\\\\', 'frac', '{', '4', '}{', '3', '}', 'y', '&', '=\\\\', 'frac', '{', 'a', '}{', '3', '},', '\\\\\\\\', '<0x0A>', '2', 'y', '-', '3', 'x', '▁&=\\\\', 'frac', '{', 'b', '}{', '3', '}.', '<0x0A>', '\\\\', 'end', '{', 'align', '*}', '<0x0A>']\n",
      "\n",
      "decoded_tokens:\n",
      "['I', '▁also', '▁notice', '▁that', '▁the', '▁coefficients', '▁of', '▁$', 'x', '$', '▁and', '▁$', 'y', '$', '▁in', '▁the', '▁second', '▁equation', '▁are', '▁the', '▁neg', 'atives', '▁of', '▁the', '▁coefficients', '▁of', '▁$', 'y', '$', '▁and', '▁$', 'x', '$', '▁in', '▁the', '▁first', '▁equation', ',', '▁respectively', '.', '<0x0A>']\n",
      "\n",
      "decoded_tokens:\n",
      "['<s>', '▁If', '▁the', '▁system', '▁of', '▁equations', '<0x0A>', '<0x0A>', '\\\\', 'begin', '{', 'align', '*}', '<0x0A>', '6', 'x', '-', '4', 'y', '&=', 'a', ',', '\\\\\\\\', '<0x0A>', '6', 'y', '-', '9', 'x', '▁&=', 'b', '.', '<0x0A>', '\\\\', 'end', '{', 'align', '*}', 'has', '▁a', '▁solution', '▁$(', 'x', ',', '▁y', ')$', '▁where', '▁$', 'x', '$', '▁and', '▁$', 'y', '$', '▁are', '▁both', '▁non', 'zero', ',', '▁find', '▁$\\\\', 'frac', '{', 'a', '}{', 'b', '},', '$', '▁assuming', '▁$', 'b', '$', '▁is', '▁non', 'zero', '.', '<0x0A>', 'I', '▁notice', '▁that', '▁the', '▁coefficients', '▁of', '▁the', '▁system', '▁are', '▁multi', 'ples', '▁of', '▁', '3', ',', '▁so', '▁I', '▁can', '▁divide', '▁both', '▁equations', '▁by', '▁', '3', '▁to', '▁simplify', '▁them', '.', '<0x0A>', '\\\\', 'begin', '{', 'align', '*}', '<0x0A>', '2', 'x', '-\\\\', 'frac', '{', '4', '}{', '3', '}', 'y', '&', '=\\\\', 'frac', '{', 'a', '}{', '3', '},', '\\\\\\\\', '<0x0A>', '2', 'y', '-', '3', 'x', '▁&=\\\\', 'frac', '{', 'b', '}{', '3', '}.', '<0x0A>', '\\\\', 'end', '{', 'align', '*}', '<0x0A>', 'I', '▁also', '▁notice', '▁that', '▁the', '▁coefficients', '▁of', '▁$', 'x', '$', '▁and', '▁$', 'y', '$', '▁in', '▁the', '▁second', '▁equation', '▁are', '▁the', '▁neg', 'atives', '▁of', '▁the', '▁coefficients', '▁of', '▁$', 'y', '$', '▁and', '▁$', 'x', '$', '▁in', '▁the', '▁first', '▁equation', ',', '▁respectively', '.']\n",
      "\n",
      "sample_input_ids_from_simple_call:\n",
      "tensor([[    1,   960,   278,  1788,   310, 10693,    13,    13, 29905,   463,\n",
      "         29912,  2520,  4044,    13, 29953, 29916, 29899, 29946, 29891, 20644,\n",
      "         29874, 29892,  1966,    13, 29953, 29891, 29899, 29929, 29916,  7878,\n",
      "         29890, 29889,    13, 29905,   355, 29912,  2520,  4044,  5349,   263,\n",
      "          1650,  2427, 29916, 29892,   343,  1262,   988,   395, 29916, 29938,\n",
      "           322,   395, 29891, 29938,   526,  1716,  1661,  9171, 29892,  1284,\n",
      "           779,  1154, 29912, 29874,  1157, 29890,  1118, 29938, 10241,   395,\n",
      "         29890, 29938,   338,  1661,  9171, 29889,    13, 29902,  8369,   393,\n",
      "           278, 16127,   310,   278,  1788,   526,  2473,  2701,   310, 29871,\n",
      "         29941, 29892,   577,   306,   508, 16429,  1716, 10693,   491, 29871,\n",
      "         29941,   304, 21092,   963, 29889,    13, 29905,   463, 29912,  2520,\n",
      "          4044,    13, 29906, 29916,  2612,  1154, 29912, 29946,  1157, 29941,\n",
      "         29913, 29891, 29987,  2013,  1154, 29912, 29874,  1157, 29941,  1118,\n",
      "          1966,    13, 29906, 29891, 29899, 29941, 29916, 29072,  1154, 29912,\n",
      "         29890,  1157, 29941,  1836,    13, 29905,   355, 29912,  2520,  4044,\n",
      "            13, 29902,   884,  8369,   393,   278, 16127,   310,   395, 29916,\n",
      "         29938,   322,   395, 29891, 29938,   297,   278,  1473,  6306,   526,\n",
      "           278,  3480,  5056,   310,   278, 16127,   310,   395, 29891, 29938,\n",
      "           322,   395, 29916, 29938,   297,   278,   937,  6306, 29892,  8307,\n",
      "         29889]])\n",
      "\n",
      "tensor([[0, 0, 0, 0, 0, 0, 0, 0, 0, 0, 0, 0, 0, 0, 0, 0, 0, 0, 0, 0, 0, 0, 0, 0,\n",
      "         0, 0, 0, 0, 0, 0, 0, 0, 0, 0, 0, 0, 0, 0, 0, 0, 0, 0, 0, 0, 0, 0, 0, 0,\n",
      "         0, 0, 0, 0, 0, 0, 0, 0, 0, 0, 0, 0, 0, 0, 0, 0, 0, 0, 0, 0, 0, 0, 0, 0,\n",
      "         0, 0, 0, 0, 0, 0, 0, 0, 0, 0, 0, 0, 0, 0, 0, 0, 0, 0, 0, 0, 0, 0, 0, 0,\n",
      "         0, 0, 0, 0, 0, 0, 0, 0, 0, 0, 0, 0, 0, 0, 0, 0, 0, 0, 0, 0, 0, 0, 0, 0,\n",
      "         0, 0, 0, 0, 0, 0, 0, 0, 0, 0, 0, 0, 0, 0, 0, 0, 0, 0, 0, 0, 0, 0, 0, 0,\n",
      "         0, 0, 0, 0, 0, 0, 0, 0, 0, 0, 0, 0, 0, 0, 0, 0, 0, 0, 0, 0, 0, 0, 0, 0,\n",
      "         0, 0, 0, 0, 0, 0, 0, 0, 0, 0, 0, 0, 0, 0, 0, 0, 0, 0, 0, 0, 0, 0, 0]])\n",
      "['<unk>', '<unk>', '<unk>', '<unk>', '<unk>', '<unk>', '<unk>', '<unk>', '<unk>', '<unk>', '<unk>', '<unk>', '<unk>', '<unk>', '<unk>', '<unk>', '<unk>', '<unk>', '<unk>', '<unk>', '<unk>', '<unk>', '<unk>', '<unk>', '<unk>', '<unk>', '<unk>', '<unk>', '<unk>', '<unk>', '<unk>', '<unk>', '<unk>', '<unk>', '<unk>', '<unk>', '<unk>', '<unk>', '<unk>', '<unk>', '<unk>', '<unk>', '<unk>', '<unk>', '<unk>', '<unk>', '<unk>', '<unk>', '<unk>', '<unk>', '<unk>', '<unk>', '<unk>', '<unk>', '<unk>', '<unk>', '<unk>', '<unk>', '<unk>', '<unk>', '<unk>', '<unk>', '<unk>', '<unk>', '<unk>', '<unk>', '<unk>', '<unk>', '<unk>', '<unk>', '<unk>', '<unk>', '<unk>', '<unk>', '<unk>', '<unk>', '<unk>', '<unk>', '<unk>', '<unk>', '<unk>', '<unk>', '<unk>', '<unk>', '<unk>', '<unk>', '<unk>', '<unk>', '<unk>', '<unk>', '<unk>', '<unk>', '<unk>', '<unk>', '<unk>', '<unk>', '<unk>', '<unk>', '<unk>', '<unk>', '<unk>', '<unk>', '<unk>', '<unk>', '<unk>', '<unk>', '<unk>', '<unk>', '<unk>', '<unk>', '<unk>', '<unk>', '<unk>', '<unk>', '<unk>', '<unk>', '<unk>', '<unk>', '<unk>', '<unk>', '<unk>', '<unk>', '<unk>', '<unk>', '<unk>', '<unk>', '<unk>', '<unk>', '<unk>', '<unk>', '<unk>', '<unk>', '<unk>', '<unk>', '<unk>', '<unk>', '<unk>', '<unk>', '<unk>', '<unk>', '<unk>', '<unk>', '<unk>', '<unk>', '<unk>', '<unk>', '<unk>', '<unk>', '<unk>', '<unk>', '<unk>', '<unk>', '<unk>', '<unk>', '<unk>', '<unk>', '<unk>', '<unk>', '<unk>', '<unk>', '<unk>', '<unk>', '<unk>', '<unk>', '<unk>', '<unk>', '<unk>', '<unk>', '<unk>', '<unk>', '<unk>', '<unk>', '<unk>', '<unk>', '<unk>', '<unk>', '<unk>', '<unk>', '<unk>', '<unk>', '<unk>', '<unk>', '<unk>', '<unk>', '<unk>', '<unk>', '<unk>', '<unk>', '<unk>', '<unk>', '<unk>']\n",
      "tensor([[0, 0, 0, 0, 0, 0, 0, 0, 0, 0, 0, 0, 0, 0, 0, 0, 0, 0, 0, 0, 0, 0, 0, 0,\n",
      "         0, 0, 0, 0, 0, 0, 0, 0, 0, 0, 0, 0, 0, 0, 0, 0, 0, 0, 0, 0, 0, 0, 0, 0,\n",
      "         0, 0, 0, 0, 0, 0, 0, 0, 0, 0, 0, 0, 0, 0, 0, 0, 0, 0, 0, 0, 0, 0, 0, 0,\n",
      "         0, 0, 0, 0, 0, 0, 0, 0, 0, 0, 0, 0, 0, 0, 0, 0, 0, 0, 0, 0, 0, 0, 0, 0,\n",
      "         0, 0, 0, 0, 0, 0, 0, 0, 0, 0, 0, 0, 0, 0, 0, 0, 0, 0, 0, 0, 0, 0, 0, 0,\n",
      "         0, 0, 0, 0, 0, 0, 0, 0, 0, 0, 0, 0, 0, 0, 0, 0, 0, 0, 0, 0, 0, 0, 0, 0,\n",
      "         0, 0, 0, 0, 0, 0, 0, 0, 0, 0, 0, 0, 0, 0, 0, 0, 0, 0, 0, 0, 0, 0, 0, 0,\n",
      "         0, 0, 0, 0, 0, 0, 0, 0, 0, 0, 0, 0, 0, 0, 0, 0, 0, 0, 0, 0, 0, 0, 0]])\n",
      "['<unk>', '<unk>', '<unk>', '<unk>', '<unk>', '<unk>', '<unk>', '<unk>', '<unk>', '<unk>', '<unk>', '<unk>', '<unk>', '<unk>', '<unk>', '<unk>', '<unk>', '<unk>', '<unk>', '<unk>', '<unk>', '<unk>', '<unk>', '<unk>', '<unk>', '<unk>', '<unk>', '<unk>', '<unk>', '<unk>', '<unk>', '<unk>', '<unk>', '<unk>', '<unk>', '<unk>', '<unk>', '<unk>', '<unk>', '<unk>', '<unk>', '<unk>', '<unk>', '<unk>', '<unk>', '<unk>', '<unk>', '<unk>', '<unk>', '<unk>', '<unk>', '<unk>', '<unk>', '<unk>', '<unk>', '<unk>', '<unk>', '<unk>', '<unk>', '<unk>', '<unk>', '<unk>', '<unk>', '<unk>', '<unk>', '<unk>', '<unk>', '<unk>', '<unk>', '<unk>', '<unk>', '<unk>', '<unk>', '<unk>', '<unk>', '<unk>', '<unk>', '<unk>', '<unk>', '<unk>', '<unk>', '<unk>', '<unk>', '<unk>', '<unk>', '<unk>', '<unk>', '<unk>', '<unk>', '<unk>', '<unk>', '<unk>', '<unk>', '<unk>', '<unk>', '<unk>', '<unk>', '<unk>', '<unk>', '<unk>', '<unk>', '<unk>', '<unk>', '<unk>', '<unk>', '<unk>', '<unk>', '<unk>', '<unk>', '<unk>', '<unk>', '<unk>', '<unk>', '<unk>', '<unk>', '<unk>', '<unk>', '<unk>', '<unk>', '<unk>', '<unk>', '<unk>', '<unk>', '<unk>', '<unk>', '<unk>', '<unk>', '<unk>', '<unk>', '<unk>', '<unk>', '<unk>', '<unk>', '<unk>', '<unk>', '<unk>', '<unk>', '<unk>', '<unk>', '<unk>', '<unk>', '<unk>', '<unk>', '<unk>', '<unk>', '<unk>', '<unk>', '<unk>', '<unk>', '<unk>', '<unk>', '<unk>', '<unk>', '<unk>', '<unk>', '<unk>', '<unk>', '<unk>', '<unk>', '<unk>', '<unk>', '<unk>', '<unk>', '<unk>', '<unk>', '<unk>', '<unk>', '<unk>', '<unk>', '<unk>', '<unk>', '<unk>', '<unk>', '<unk>', '<unk>', '<unk>', '<unk>', '<unk>', '<unk>', '<unk>', '<unk>', '<unk>', '<unk>', '<unk>', '<unk>', '<unk>', '<unk>', '<unk>', '<unk>', '<unk>', '<unk>']\n"
     ]
    }
   ],
   "source": [
    "# debug\n",
    "def simple_text2token_ids(tokenizer, text, **kwargs):\n",
    "    return tokenizer(\n",
    "        text, return_tensors=\"pt\", padding=False, truncation=False, **kwargs\n",
    "    )[\"input_ids\"]\n",
    "\n",
    "\n",
    "def print_decoded_tokens(input_ids):\n",
    "    decoded_tokens = tokenizer.convert_ids_to_tokens(input_ids[0])\n",
    "    print(\n",
    "        \"decoded_tokens:\",\n",
    "        decoded_tokens,\n",
    "        sep=\"\\n\",\n",
    "        end=\"\\n\\n\",\n",
    "    )\n",
    "\n",
    "\n",
    "def print_tokenization(tokenizer, text):\n",
    "    # print(\n",
    "    #     f'text:\\n\"\"\"{text}\"\"\"',\n",
    "    #     end=\"\\n\\n\",\n",
    "    # )\n",
    "    # text_prepared_for_tokenization = tokenizer.prepare_for_tokenization(text)\n",
    "    # print(\n",
    "    #     \"text_prepared_for_tokenizations:\",\n",
    "    #     text_prepared_for_tokenization,\n",
    "    #     sep=\"\\n\",\n",
    "    #     end=\"\\n\\n\",\n",
    "    # )\n",
    "    # tokens = tokenizer.tokenize(text, **text_prepared_for_tokenization[-1])\n",
    "    # print(\n",
    "    #     \"tokens:\",\n",
    "    #     tokens,\n",
    "    #     sep=\"\\n\",\n",
    "    #     end=\"\\n\\n\",\n",
    "    # )\n",
    "    # input_ids = tokenizer.convert_tokens_to_ids(tokens)\n",
    "    # print(\n",
    "    #     \"input_ids:\",\n",
    "    #     input_ids,\n",
    "    #     sep=\"\\n\",\n",
    "    #     end=\"\\n\\n\",\n",
    "    # )\n",
    "    # input_ids_from_call_wo_special_tokens = simple_text2token_ids(\n",
    "    #     tokenizer, text, add_special_tokens=False\n",
    "    # )\n",
    "    # print(\n",
    "    #     \"input_ids_from_call_wo_special_tokens:\",\n",
    "    #     input_ids_from_call_wo_special_tokens[0],\n",
    "    #     sep=\"\\n\",\n",
    "    #     end=\"\\n\\n\",\n",
    "    # )\n",
    "    input_ids_from_simple_call = simple_text2token_ids(tokenizer, text)\n",
    "    print(\n",
    "        \"input_ids_from_simple_call:\",\n",
    "        input_ids_from_simple_call[0],\n",
    "        sep=\"\\n\",\n",
    "        end=\"\\n\\n\",\n",
    "    )\n",
    "\n",
    "    print_decoded_tokens(input_ids_from_simple_call)\n",
    "\n",
    "\n",
    "rating2word = {1: \"positive\", -1: \"negative\", 0: \"neutral\"}\n",
    "rating2token_id = {\n",
    "    rating: tokenizer.convert_tokens_to_ids(tokenizer.tokenize(word))[0]\n",
    "    for rating, word in rating2word.items()\n",
    "}\n",
    "\n",
    "problem = reformatted_sample[\"problem\"].strip()\n",
    "problem_step_ratings_text = problem + \"\\n\"\n",
    "sample_input_ids = tokenizer(\n",
    "    problem + \"\\n\",\n",
    "    return_tensors=\"pt\",\n",
    "    padding=False,\n",
    "    truncation=False,\n",
    "    add_special_tokens=True,\n",
    "    return_attention_mask=False,\n",
    ")[\"input_ids\"]\n",
    "ignore_index = -100\n",
    "sample_labels = torch.ones_like(sample_input_ids) * ignore_index\n",
    "\n",
    "if test:\n",
    "    if test_for[\"common\"]:\n",
    "        print_tokenization(tokenizer, problem_step_ratings_text)\n",
    "        print(\n",
    "            \"sample_labels:\",\n",
    "            sample_labels,\n",
    "            sep=\"\\n\",\n",
    "            end=\"\\n\\n\",\n",
    "        )\n",
    "\n",
    "\n",
    "for step_rating in step_ratings:\n",
    "    step = step_rating[\"step\"].strip()\n",
    "\n",
    "    problem_step_ratings_text += step + \"\\n\"\n",
    "\n",
    "    step_input_ids = tokenizer(\n",
    "        \"\\n\" + step + \"\\n\",\n",
    "        return_tensors=\"pt\",\n",
    "        padding=False,\n",
    "        truncation=False,\n",
    "        # add_special_tokens=True,\n",
    "        add_special_tokens=False,\n",
    "        return_attention_mask=False,\n",
    "    )[\"input_ids\"]\n",
    "    step_input_ids = step_input_ids[:, 2:]  # remove \"\\n\"\n",
    "    sample_input_ids = torch.cat((sample_input_ids, step_input_ids), dim=1)\n",
    "\n",
    "    step_labels = torch.ones_like(step_input_ids) * ignore_index\n",
    "    step_labels[:, -2] = rating2token_id[\n",
    "        step_rating[\"rating\"]\n",
    "    ]  # set the label for the last token_id before \"\\n\"\n",
    "    sample_labels = torch.cat((sample_labels, step_labels), dim=1)\n",
    "\n",
    "    if test:\n",
    "        if test_for[\"common\"]:\n",
    "            print_tokenization(tokenizer, problem_step_ratings_text)\n",
    "            print(\n",
    "                \"sample_labels:\",\n",
    "                sample_labels,\n",
    "                sep=\"\\n\",\n",
    "                end=\"\\n\\n\",\n",
    "            )\n",
    "        if test_for[\"token_prefix\"]:\n",
    "            print_decoded_tokens(step_input_ids)\n",
    "\n",
    "\n",
    "sample_input_ids = sample_input_ids[:, :-1]\n",
    "sample_labels = sample_labels[:, :-1]\n",
    "problem_step_ratings_text = problem_step_ratings_text.strip()\n",
    "\n",
    "sample_input_ids_from_simple_call = tokenizer(\n",
    "    problem_step_ratings_text,\n",
    "    return_tensors=\"pt\",\n",
    "    padding=False,\n",
    "    truncation=False,\n",
    "    add_special_tokens=True,\n",
    "    return_attention_mask=False,\n",
    ")[\"input_ids\"]\n",
    "\n",
    "\n",
    "if test:\n",
    "    if test_for[\"token_prefix\"]:\n",
    "        sample_input_ids_from_simple_call = tokenizer(\n",
    "            problem_step_ratings_text,\n",
    "            return_tensors=\"pt\",\n",
    "            padding=False,\n",
    "            truncation=False,\n",
    "            add_special_tokens=True,\n",
    "            return_attention_mask=False,\n",
    "        )[\"input_ids\"]\n",
    "        print_decoded_tokens(sample_input_ids_from_simple_call)\n",
    "    if test_for[\"common\"]:\n",
    "        print(\n",
    "            \"sample_input_ids:\",\n",
    "            sample_input_ids,\n",
    "            sep=\"\\n\",\n",
    "            end=\"\\n\\n\",\n",
    "        )\n",
    "        print(\n",
    "            \"sample_labels:\",\n",
    "            sample_labels,\n",
    "            sep=\"\\n\",\n",
    "            end=\"\\n\\n\",\n",
    "        )\n",
    "    if test_for[\"equal\"]:\n",
    "        print(\n",
    "            \"sample_input_ids_from_simple_call:\",\n",
    "            sample_input_ids_from_simple_call,\n",
    "            sep=\"\\n\",\n",
    "            end=\"\\n\\n\",\n",
    "        )\n",
    "\n",
    "        def print_difference(input_ids, different_mask):\n",
    "            difference = input_ids * different_mask\n",
    "            print(difference)\n",
    "            print(tokenizer.convert_ids_to_tokens(difference[0]))\n",
    "\n",
    "        def print_difference_between(input_ids_pair):\n",
    "            different_mask = input_ids_pair[0] != input_ids_pair[1]\n",
    "            for input_ids in input_ids_pair:\n",
    "                print_difference(input_ids, different_mask)\n",
    "\n",
    "        print_difference_between((sample_input_ids, sample_input_ids_from_simple_call))\n",
    "\n",
    "        assert torch.equal(sample_input_ids, sample_input_ids_from_simple_call)"
   ]
  },
  {
   "cell_type": "code",
   "execution_count": 88,
   "metadata": {},
   "outputs": [
    {
     "name": "stdout",
     "output_type": "stream",
     "text": [
      "['▁positive']\n",
      "0\n",
      "['▁negative']\n",
      "22198\n",
      "['▁neutral']\n",
      "0\n"
     ]
    }
   ],
   "source": [
    "# debug: rating tokens\n",
    "for rating_token in rating2token.values():\n",
    "    print(tokenizer.tokenize(rating_token))\n",
    "    print(tokenizer.convert_tokens_to_ids(rating_token))"
   ]
  },
  {
   "cell_type": "code",
   "execution_count": 78,
   "metadata": {},
   "outputs": [
    {
     "data": {
      "text/plain": [
       "{'input_ids': tensor([[    1,   960,   278,  1788,   310, 10693,    13,    13, 29905,   463,\n",
       "         29912,  2520,  4044,    13, 29953, 29916, 29899, 29946, 29891, 20644,\n",
       "         29874, 29892,  1966,    13, 29953, 29891, 29899, 29929, 29916,  7878,\n",
       "         29890, 29889,    13, 29905,   355, 29912,  2520,  4044,  5349,   263,\n",
       "          1650,  2427, 29916, 29892,   343,  1262,   988,   395, 29916, 29938,\n",
       "           322,   395, 29891, 29938,   526,  1716,  1661,  9171, 29892,  1284,\n",
       "           779,  1154, 29912, 29874,  1157, 29890,  1118, 29938, 10241,   395,\n",
       "         29890, 29938,   338,  1661,  9171, 29889,    13, 29902,  8369,   393,\n",
       "           278, 16127,   310,   278,  1788,   526,  2473,  2701,   310, 29871,\n",
       "         29941, 29892,   577,   306,   508, 16429,  1716, 10693,   491, 29871,\n",
       "         29941,   304, 21092,   963, 29889,    13, 29905,   463, 29912,  2520,\n",
       "          4044,    13, 29906, 29916,  2612,  1154, 29912, 29946,  1157, 29941,\n",
       "         29913, 29891, 29987,  2013,  1154, 29912, 29874,  1157, 29941,  1118,\n",
       "          1966,    13, 29906, 29891, 29899, 29941, 29916, 29072,  1154, 29912,\n",
       "         29890,  1157, 29941,  1836,    13, 29905,   355, 29912,  2520,  4044,\n",
       "            13, 29902,   884,  8369,   393,   278, 16127,   310,   395, 29916,\n",
       "         29938,   322,   395, 29891, 29938,   297,   278,  1473,  6306,   526,\n",
       "           278,  3480,  5056,   310,   278, 16127,   310,   395, 29891, 29938,\n",
       "           322,   395, 29916, 29938,   297,   278,   937,  6306, 29892,  8307,\n",
       "         29889,    13]])}"
      ]
     },
     "execution_count": 78,
     "metadata": {},
     "output_type": "execute_result"
    }
   ],
   "source": [
    "# debug: return\n",
    "tokenizer(\n",
    "    problem_step_ratings_text,\n",
    "    return_tensors=\"pt\",\n",
    "    padding=False,\n",
    "    truncation=False,\n",
    "    add_special_tokens=True,\n",
    "    return_attention_mask=False,\n",
    ")"
   ]
  },
  {
   "cell_type": "code",
   "execution_count": 64,
   "metadata": {},
   "outputs": [
    {
     "name": "stdout",
     "output_type": "stream",
     "text": [
      "['▁If', '▁the', '▁system', '▁of', '▁equations', '<0x0A>', '<0x0A>', '\\\\', 'begin', '{', 'align', '*}', '<0x0A>', '6', 'x', '-', '4', 'y', '&=', 'a', ',', '\\\\\\\\', '<0x0A>', '6', 'y', '-', '9', 'x', '▁&=', 'b', '.', '<0x0A>', '\\\\', 'end', '{', 'align', '*}', 'has', '▁a', '▁solution', '▁$(', 'x', ',', '▁y', ')$', '▁where', '▁$', 'x', '$', '▁and', '▁$', 'y', '$', '▁are', '▁both', '▁non', 'zero', ',', '▁find', '▁$\\\\', 'frac', '{', 'a', '}{', 'b', '},', '$', '▁assuming', '▁$', 'b', '$', '▁is', '▁non', 'zero', '.']\n",
      "['▁rating']\n",
      "['▁something', '<0x0A>']\n",
      "<0x0A>\n"
     ]
    },
    {
     "ename": "KeyError",
     "evalue": "'Invalid key. Only three types of key are available: (1) string, (2) integers for backend Encoding, and (3) slices for data subsetting.'",
     "output_type": "error",
     "traceback": [
      "\u001b[0;31m---------------------------------------------------------------------------\u001b[0m",
      "\u001b[0;31mKeyError\u001b[0m                                  Traceback (most recent call last)",
      "Cell \u001b[0;32mIn[64], line 11\u001b[0m\n\u001b[1;32m      9\u001b[0m \u001b[39mprint\u001b[39m(tokenizer\u001b[39m.\u001b[39mtokenize(\u001b[39m\"\u001b[39m\u001b[39msomething\u001b[39m\u001b[39m\\n\u001b[39;00m\u001b[39m\"\u001b[39m))\n\u001b[1;32m     10\u001b[0m \u001b[39mprint\u001b[39m(tokenizer\u001b[39m.\u001b[39mtokenize(\u001b[39m\"\u001b[39m\u001b[39msomething\u001b[39m\u001b[39m\\n\u001b[39;00m\u001b[39m\"\u001b[39m)[\u001b[39m-\u001b[39m\u001b[39m1\u001b[39m])  \u001b[39m# ['▁something', '<0x0A>']\u001b[39;00m\n\u001b[0;32m---> 11\u001b[0m \u001b[39mprint\u001b[39m(tokenizer(\u001b[39m\"\u001b[39;49m\u001b[39msomething\u001b[39;49m\u001b[39m\\n\u001b[39;49;00m\u001b[39m\"\u001b[39;49m)[\u001b[39m-\u001b[39;49m\u001b[39m1\u001b[39;49m])  \u001b[39m# ['▁something', '<0x0A>']\u001b[39;00m\n",
      "File \u001b[0;32m/data/tongyx361/miniconda3/envs/nlp/lib/python3.10/site-packages/transformers/tokenization_utils_base.py:247\u001b[0m, in \u001b[0;36mBatchEncoding.__getitem__\u001b[0;34m(self, item)\u001b[0m\n\u001b[1;32m    245\u001b[0m     \u001b[39mreturn\u001b[39;00m {key: \u001b[39mself\u001b[39m\u001b[39m.\u001b[39mdata[key][item] \u001b[39mfor\u001b[39;00m key \u001b[39min\u001b[39;00m \u001b[39mself\u001b[39m\u001b[39m.\u001b[39mdata\u001b[39m.\u001b[39mkeys()}\n\u001b[1;32m    246\u001b[0m \u001b[39melse\u001b[39;00m:\n\u001b[0;32m--> 247\u001b[0m     \u001b[39mraise\u001b[39;00m \u001b[39mKeyError\u001b[39;00m(\n\u001b[1;32m    248\u001b[0m         \u001b[39m\"\u001b[39m\u001b[39mInvalid key. Only three types of key are available: \u001b[39m\u001b[39m\"\u001b[39m\n\u001b[1;32m    249\u001b[0m         \u001b[39m\"\u001b[39m\u001b[39m(1) string, (2) integers for backend Encoding, and (3) slices for data subsetting.\u001b[39m\u001b[39m\"\u001b[39m\n\u001b[1;32m    250\u001b[0m     )\n",
      "\u001b[0;31mKeyError\u001b[0m: 'Invalid key. Only three types of key are available: (1) string, (2) integers for backend Encoding, and (3) slices for data subsetting.'"
     ]
    }
   ],
   "source": [
    "# debug\n",
    "\n",
    "print(\n",
    "    tokenizer.tokenize(\n",
    "        \"If the system of equations\\n\\n\\\\begin{align*}\\n6x-4y&=a,\\\\\\\\\\n6y-9x &=b.\\n\\\\end{align*}has a solution $(x, y)$ where $x$ and $y$ are both nonzero, find $\\\\frac{a}{b},$ assuming $b$ is nonzero.\"\n",
    "    )\n",
    ")\n",
    "\n",
    "print(tokenizer.tokenize(\"rating\"))\n",
    "print(tokenizer.tokenize(\"something\\n\"))\n",
    "print(tokenizer.tokenize(\"something\\n\")[-1])  # ['▁something', '<0x0A>']\n",
    "print(tokenizer(\"something\\n\")[] [-1])  # ['▁something', '<0x0A>']"
   ]
  },
  {
   "cell_type": "code",
   "execution_count": 69,
   "metadata": {},
   "outputs": [
    {
     "name": "stdout",
     "output_type": "stream",
     "text": [
      "text:\n",
      "\"\"\"If the system of equations\n",
      "\n",
      "\\begin{align*}\n",
      "6x-4y&=a,\\\\\n",
      "6y-9x &=b.\n",
      "\\end{align*}has a solution $(x, y)$ where $x$ and $y$ are both nonzero, find $\\frac{a}{b},$ assuming $b$ is nonzero.\n",
      "\"\"\"\n",
      "\n",
      "input_ids:\n",
      "tensor([    1,   960,   278,  1788,   310, 10693,    13,    13, 29905,   463,\n",
      "        29912,  2520,  4044,    13, 29953, 29916, 29899, 29946, 29891, 20644,\n",
      "        29874, 29892,  1966,    13, 29953, 29891, 29899, 29929, 29916,  7878,\n",
      "        29890, 29889,    13, 29905,   355, 29912,  2520,  4044,  5349,   263,\n",
      "         1650,  2427, 29916, 29892,   343,  1262,   988,   395, 29916, 29938,\n",
      "          322,   395, 29891, 29938,   526,  1716,  1661,  9171, 29892,  1284,\n",
      "          779,  1154, 29912, 29874,  1157, 29890,  1118, 29938, 10241,   395,\n",
      "        29890, 29938,   338,  1661,  9171, 29889,    13])\n",
      "\n",
      "tokens:\n",
      "['<s>', '▁If', '▁the', '▁system', '▁of', '▁equations', '<0x0A>', '<0x0A>', '\\\\', 'begin', '{', 'align', '*}', '<0x0A>', '6', 'x', '-', '4', 'y', '&=', 'a', ',', '\\\\\\\\', '<0x0A>', '6', 'y', '-', '9', 'x', '▁&=', 'b', '.', '<0x0A>', '\\\\', 'end', '{', 'align', '*}', 'has', '▁a', '▁solution', '▁$(', 'x', ',', '▁y', ')$', '▁where', '▁$', 'x', '$', '▁and', '▁$', 'y', '$', '▁are', '▁both', '▁non', 'zero', ',', '▁find', '▁$\\\\', 'frac', '{', 'a', '}{', 'b', '},', '$', '▁assuming', '▁$', 'b', '$', '▁is', '▁non', 'zero', '.', '<0x0A>']\n",
      "\n",
      "text:\n",
      "\"\"\"If the system of equations\n",
      "\n",
      "\\begin{align*}\n",
      "6x-4y&=a,\\\\\n",
      "6y-9x &=b.\n",
      "\\end{align*}has a solution $(x, y)$ where $x$ and $y$ are both nonzero, find $\\frac{a}{b},$ assuming $b$ is nonzero.\n",
      "I notice that the coefficients of the system are multiples of 3, so I can divide both equations by 3 to simplify them.\n",
      "\\begin{align*}\n",
      "2x-\\frac{4}{3}y&=\\frac{a}{3},\\\\\n",
      "2y-3x &=\\frac{b}{3}.\n",
      "\\end{align*}\n",
      "I also notice that the coefficients of $x$ and $y$ in the second equation are the negatives of the coefficients of $y$ and $x$ in the first equation, respectively.\n",
      "\"\"\"\n",
      "\n",
      "input_ids:\n",
      "tensor([    1,   960,   278,  1788,   310, 10693,    13,    13, 29905,   463,\n",
      "        29912,  2520,  4044,    13, 29953, 29916, 29899, 29946, 29891, 20644,\n",
      "        29874, 29892,  1966,    13, 29953, 29891, 29899, 29929, 29916,  7878,\n",
      "        29890, 29889,    13, 29905,   355, 29912,  2520,  4044,  5349,   263,\n",
      "         1650,  2427, 29916, 29892,   343,  1262,   988,   395, 29916, 29938,\n",
      "          322,   395, 29891, 29938,   526,  1716,  1661,  9171, 29892,  1284,\n",
      "          779,  1154, 29912, 29874,  1157, 29890,  1118, 29938, 10241,   395,\n",
      "        29890, 29938,   338,  1661,  9171, 29889,    13, 29902,  8369,   393,\n",
      "          278, 16127,   310,   278,  1788,   526,  2473,  2701,   310, 29871,\n",
      "        29941, 29892,   577,   306,   508, 16429,  1716, 10693,   491, 29871,\n",
      "        29941,   304, 21092,   963, 29889,    13, 29905,   463, 29912,  2520,\n",
      "         4044,    13, 29906, 29916,  2612,  1154, 29912, 29946,  1157, 29941,\n",
      "        29913, 29891, 29987,  2013,  1154, 29912, 29874,  1157, 29941,  1118,\n",
      "         1966,    13, 29906, 29891, 29899, 29941, 29916, 29072,  1154, 29912,\n",
      "        29890,  1157, 29941,  1836,    13, 29905,   355, 29912,  2520,  4044,\n",
      "           13, 29902,   884,  8369,   393,   278, 16127,   310,   395, 29916,\n",
      "        29938,   322,   395, 29891, 29938,   297,   278,  1473,  6306,   526,\n",
      "          278,  3480,  5056,   310,   278, 16127,   310,   395, 29891, 29938,\n",
      "          322,   395, 29916, 29938,   297,   278,   937,  6306, 29892,  8307,\n",
      "        29889,    13])\n",
      "\n",
      "tokens:\n",
      "['<s>', '▁If', '▁the', '▁system', '▁of', '▁equations', '<0x0A>', '<0x0A>', '\\\\', 'begin', '{', 'align', '*}', '<0x0A>', '6', 'x', '-', '4', 'y', '&=', 'a', ',', '\\\\\\\\', '<0x0A>', '6', 'y', '-', '9', 'x', '▁&=', 'b', '.', '<0x0A>', '\\\\', 'end', '{', 'align', '*}', 'has', '▁a', '▁solution', '▁$(', 'x', ',', '▁y', ')$', '▁where', '▁$', 'x', '$', '▁and', '▁$', 'y', '$', '▁are', '▁both', '▁non', 'zero', ',', '▁find', '▁$\\\\', 'frac', '{', 'a', '}{', 'b', '},', '$', '▁assuming', '▁$', 'b', '$', '▁is', '▁non', 'zero', '.', '<0x0A>', 'I', '▁notice', '▁that', '▁the', '▁coefficients', '▁of', '▁the', '▁system', '▁are', '▁multi', 'ples', '▁of', '▁', '3', ',', '▁so', '▁I', '▁can', '▁divide', '▁both', '▁equations', '▁by', '▁', '3', '▁to', '▁simplify', '▁them', '.', '<0x0A>', '\\\\', 'begin', '{', 'align', '*}', '<0x0A>', '2', 'x', '-\\\\', 'frac', '{', '4', '}{', '3', '}', 'y', '&', '=\\\\', 'frac', '{', 'a', '}{', '3', '},', '\\\\\\\\', '<0x0A>', '2', 'y', '-', '3', 'x', '▁&=\\\\', 'frac', '{', 'b', '}{', '3', '}.', '<0x0A>', '\\\\', 'end', '{', 'align', '*}', '<0x0A>', 'I', '▁also', '▁notice', '▁that', '▁the', '▁coefficients', '▁of', '▁$', 'x', '$', '▁and', '▁$', 'y', '$', '▁in', '▁the', '▁second', '▁equation', '▁are', '▁the', '▁neg', 'atives', '▁of', '▁the', '▁coefficients', '▁of', '▁$', 'y', '$', '▁and', '▁$', 'x', '$', '▁in', '▁the', '▁first', '▁equation', ',', '▁respectively', '.', '<0x0A>']\n",
      "\n"
     ]
    }
   ],
   "source": [
    "# debug: whether concatenated token_ids equals to the original token_ids\n",
    "\n",
    "\n",
    "problem = reformatted_sample[\"problem\"].strip()\n",
    "problem_step_ratings_text = problem + \"\\n\"\n",
    "sample_input_ids = simple_text2token_ids(tokenizer, problem_step_ratings_text)\n",
    "sample_rating_idx = []\n",
    "\n",
    "if test:\n",
    "    print_tokenization(tokenizer, problem_step_ratings_text)\n",
    "\n",
    "for step_rating in step_ratings:\n",
    "    step = step_rating[\"step\"].strip()\n",
    "    step\n",
    "\n",
    "    problem_step_ratings_text += step + \"\\n\"\n",
    "\n",
    "\n",
    "sample_input_ids = simple_text2token_ids(tokenizer, problem_step_ratings_text)\n",
    "if test:\n",
    "    print_tokenization(tokenizer, problem_step_ratings_text)"
   ]
  },
  {
   "cell_type": "code",
   "execution_count": 58,
   "metadata": {},
   "outputs": [
    {
     "name": "stdout",
     "output_type": "stream",
     "text": [
      "text:\n",
      "\"\"\"\n",
      "a\n",
      "a\n",
      "\n",
      "a\n",
      "\"\"\"\n",
      "\n",
      "input_ids:\n",
      "tensor([    1, 29871,    13, 29874,    13, 29874,    13,    13, 29874,    13])\n",
      "\n",
      "tokens:\n",
      "['<s>', '▁', '<0x0A>', 'a', '<0x0A>', 'a', '<0x0A>', '<0x0A>', 'a', '<0x0A>']\n",
      "\n"
     ]
    }
   ],
   "source": [
    "# dehug: whether newline at the beginning will be removed\n",
    "text = \"a\"\n",
    "text_in_newline = \"\\n\" + text + \"\\n\" + text + \"\\n\\n\" + text + \"\\n\"\n",
    "sample_input_ids = simple_text2token_ids(tokenizer, text_in_newline)\n",
    "sample_rating_idx = []\n",
    "\n",
    "if test:\n",
    "    print_tokenization(text_in_newline, sample_input_ids)"
   ]
  },
  {
   "cell_type": "code",
   "execution_count": null,
   "metadata": {},
   "outputs": [],
   "source": [
    "# test"
   ]
  },
  {
   "cell_type": "code",
   "execution_count": null,
   "metadata": {},
   "outputs": [],
   "source": [
    "def prepare_dataset_for_collator(raw_dataset_json_path):\n",
    "    # load\n",
    "    # if list\n",
    "    \n",
    "    \n",
    "    # filter\n",
    "    \n",
    "    # reformat\n",
    "    \n",
    "    # encode\n",
    "    \n",
    "    # sample check"
   ]
  }
 ],
 "metadata": {
  "kernelspec": {
   "display_name": "nlp",
   "language": "python",
   "name": "python3"
  },
  "language_info": {
   "codemirror_mode": {
    "name": "ipython",
    "version": 3
   },
   "file_extension": ".py",
   "mimetype": "text/x-python",
   "name": "python",
   "nbconvert_exporter": "python",
   "pygments_lexer": "ipython3",
   "version": "3.10.12"
  },
  "orig_nbformat": 4
 },
 "nbformat": 4,
 "nbformat_minor": 2
}
