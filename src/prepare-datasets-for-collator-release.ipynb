{
 "cells": [
  {
   "cell_type": "code",
   "execution_count": null,
   "metadata": {},
   "outputs": [],
   "source": [
    "import torch\n",
    "import random\n",
    "from typing import Dict, List\n",
    "from functools import partial\n",
    "import datasets\n",
    "from transformers import (\n",
    "    AutoTokenizer,\n",
    "    GPT2Tokenizer,\n",
    "    GPTNeoXTokenizerFast,\n",
    "    LlamaTokenizer,\n",
    "    OPTForCausalLM,\n",
    ")"
   ]
  },
  {
   "cell_type": "code",
   "execution_count": null,
   "metadata": {},
   "outputs": [],
   "source": [
    "class MockArgs:\n",
    "    raw_dataset_json_path = [\n",
    "        \"/data/tongyx361/reward-by-prm800k/prm800k-main/prm800k/data/phase1_train.jsonl\",\n",
    "        \"/data/tongyx361/reward-by-prm800k/prm800k-main/prm800k/data/phase2_train.jsonl\",\n",
    "    ]\n",
    "    encoded_dataset_output_dirpath = (\n",
    "        \"/data/tongyx361/reward-by-prm800k/datasets/encoded-datasets-pure-prediction\"\n",
    "    )\n",
    "    preprocessing_num_workers = 16\n",
    "    overwrite_cache = False\n",
    "    model_name_or_path = \"meta-llama/Llama-2-7b-hf\"\n",
    "    tokenizer_name = \"meta-llama/Llama-2-7b-hf\"\n",
    "    use_slow_tokenizer = True\n",
    "    max_seq_length = None\n",
    "\n",
    "\n",
    "args = MockArgs()"
   ]
  }
 ],
 "metadata": {
  "language_info": {
   "name": "python"
  },
  "orig_nbformat": 4
 },
 "nbformat": 4,
 "nbformat_minor": 2
}
