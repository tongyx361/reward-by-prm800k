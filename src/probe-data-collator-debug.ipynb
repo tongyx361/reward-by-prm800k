{
 "cells": [
  {
   "cell_type": "code",
   "execution_count": null,
   "metadata": {},
   "outputs": [],
   "source": [
    "import transformers\n",
    "import torch"
   ]
  },
  {
   "cell_type": "code",
   "execution_count": null,
   "metadata": {},
   "outputs": [],
   "source": [
    "class MockArgs:\n",
    "    debug = True\n",
    "\n",
    "\n",
    "args = MockArgs()"
   ]
  },
  {
   "cell_type": "code",
   "execution_count": null,
   "metadata": {},
   "outputs": [],
   "source": [
    "if args.debug:\n",
    "    padding_strategy = transformers.utils.PaddingStrategy.MAX_LENGTH\n",
    "else:\n",
    "    padding_strategy = transformers.utils.PaddingStrategy.LONGEST\n",
    "\n",
    "train_dataloader = torch.utils.data.DataLoader(\n",
    "    train_dataset,\n",
    "    shuffle=True,\n",
    "    collate_fn=transformers.DataCollatorForSeq2Seq(\n",
    "        tokenizer=tokenizer, model=model, padding=padding_strategy, max_length=args.max_seq_length\n",
    "    ),\n",
    "    batch_size=args.per_device_train_batch_size,\n",
    ")"
   ]
  }
 ],
 "metadata": {
  "language_info": {
   "name": "python"
  },
  "orig_nbformat": 4
 },
 "nbformat": 4,
 "nbformat_minor": 2
}
