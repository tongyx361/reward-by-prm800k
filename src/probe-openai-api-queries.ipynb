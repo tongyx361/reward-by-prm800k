{
 "cells": [
  {
   "cell_type": "code",
   "execution_count": 1,
   "metadata": {},
   "outputs": [
    {
     "name": "stdout",
     "output_type": "stream",
     "text": [
      "[2023-09-13 06:27:03,763] [INFO] [real_accelerator.py:133:get_accelerator] Setting ds_accelerator to cuda (auto detect)\n"
     ]
    }
   ],
   "source": [
    "import utils\n",
    "\n",
    "utils.reload()"
   ]
  },
  {
   "cell_type": "code",
   "execution_count": 2,
   "metadata": {},
   "outputs": [],
   "source": [
    "import os"
   ]
  },
  {
   "cell_type": "code",
   "execution_count": 6,
   "metadata": {},
   "outputs": [],
   "source": [
    "validation_set_path = os.path.join(\n",
    "    utils.project_root, \"datasets\", \"prm800k-002validation-seed42.jsonl\"\n",
    ")\n",
    "queries_path = os.path.join(\n",
    "    utils.project_root,\n",
    "    \"datasets\",\n",
    "    \"wrong-final-prm800k-002validation-seed42-openai-api-queries.jsonl\",\n",
    ")\n",
    "\n",
    "debug = {\"query\": True}"
   ]
  },
  {
   "cell_type": "code",
   "execution_count": 4,
   "metadata": {},
   "outputs": [
    {
     "name": "stdout",
     "output_type": "stream",
     "text": [
      "1818\n",
      "{'labeler': 'debabc6d-f79c-4ee5-a9db-5e284390254c', 'timestamp': '2022-07-17T17:11:05.765469', 'generation': None, 'is_quality_control_question': False, 'is_initial_screening_question': False, 'question': {'problem': 'If $x$ is a real number and $x^2 = 16$, what is the sum of all possible values of $x$?', 'ground_truth_answer': '0'}, 'label': {'steps': [{'completions': [{'text': \"Let's find the square root of 16.\", 'rating': 1, 'flagged': False}], 'human_completion': None, 'chosen_completion': 0}, {'completions': [{'text': \"That's 4.\", 'rating': 1, 'flagged': False}], 'human_completion': None, 'chosen_completion': 0}, {'completions': [{'text': 'And the negative of 4.', 'rating': -1, 'flagged': False}, {'text': 'So x could be 4.', 'rating': 0, 'flagged': False}, {'text': 'So one value of x is 4.', 'rating': 0, 'flagged': False}, {'text': 'So $x$ could be 4.', 'rating': 0, 'flagged': False}, {'text': 'And the negative of 4 is also a solution, -4.', 'rating': 1, 'flagged': False}, {'text': 'So the values x can take are 4 and -4.', 'rating': 1, 'flagged': False}, {'text': 'So x could be 4.', 'rating': 0, 'flagged': False}], 'human_completion': None, 'chosen_completion': 4}, {'completions': [{'text': 'So the sum of the possible values of x is 0.', 'rating': 1, 'flagged': False}], 'human_completion': None, 'chosen_completion': 0}, {'completions': [{'text': 'Right.\\n\\n# Answer\\n\\n0', 'rating': 1, 'flagged': False}], 'human_completion': None, 'chosen_completion': 0}], 'total_time': 48465, 'finish_reason': 'solution'}}\n"
     ]
    }
   ],
   "source": [
    "validation_set = utils.load_jsonl(validation_set_path)\n",
    "print(len(validation_set))\n",
    "print(validation_set[0])"
   ]
  },
  {
   "cell_type": "code",
   "execution_count": 5,
   "metadata": {},
   "outputs": [
    {
     "name": "stdout",
     "output_type": "stream",
     "text": [
      "452\n",
      "{'id': 'chatcmpl-7xypIMi1roEQHco4diAMGEzVWPm8U', 'object': 'chat.completion', 'created': 1694529524, 'model': 'gpt-4-0613', 'choices': [{'index': 0, 'message': {'role': 'assistant', 'content': \"is appropriate in conversation, contains no inaccuracies, contains no weirdness, and the computation is simple and can be easily verified. It also advances the process of solving the problem, so it should be rated as 1. Rating: 1\\nStep 2: That's 4. Analysis: this step is correct in stating that the square root of 16 is 4. It's appropriate in conversation, contains no inaccuracies, contains no weirdness, and the computation is simple and can be easily verified. It also advances the process of solving the problem, so it should be rated as 1. Rating: 1\\nStep 3: And the negative of 4 is also a solution, -4. Analysis: this step correctly identifies that -4 is also a solution to the equation. It's appropriate in conversation, contains no inaccuracies, contains no weirdness, and the computation is simple and can be easily verified. It also advances the process of solving the problem, so it should be rated as 1. Rating: 1\\nStep 4: So the sum of the possible values of x is 0. Analysis: this step correctly adds the two solutions, 4 and -4, to find their sum. It's appropriate in conversation, contains no inaccuracies, contains no weirdness, and the computation is simple and can be easily verified. It also advances the process of solving the problem, so it should be rated as 1. Rating: 1\\nStep 5: Right. Analysis: this step confirms the solution, which is appropriate in conversation and contains no inaccuracies or weirdness. However, it does not involve any computations or advance the solution process, so it should be rated as 0. Rating: 0\"}, 'finish_reason': 'stop'}], 'usage': {'prompt_tokens': 2461, 'completion_tokens': 359, 'total_tokens': 2820}, 'task_prompt': \"# Solution to analyse every step and rate\\n## Problem\\nIf $x$ is a real number and $x^2 = 16$, what is the sum of all possible values of $x$?\\n## Steps\\nStep 1: Let's find the square root of 16.\\nStep 2: That's 4.\\nStep 3: And the negative of 4 is also a solution, -4.\\nStep 4: So the sum of the possible values of x is 0.\\nStep 5: Right.\\n\\n# Answer\\n\\n0\\n## Step-Analysis-Rating\\nStep 1: Let's find the square root of 16. Analysis: this step \"}\n"
     ]
    }
   ],
   "source": [
    "queries = utils.load_jsonl(queries_path)\n",
    "print(len(queries))\n",
    "print(queries[0])"
   ]
  },
  {
   "cell_type": "code",
   "execution_count": 8,
   "metadata": {},
   "outputs": [
    {
     "name": "stdout",
     "output_type": "stream",
     "text": [
      "# Solution to analyse every step and rate\n",
      "## Problem\n",
      "If $x$ is a real number and $x^2 = 16$, what is the sum of all possible values of $x$?\n",
      "## Steps\n",
      "Step 1: Let's find the square root of 16.\n",
      "Step 2: That's 4.\n",
      "Step 3: And the negative of 4 is also a solution, -4.\n",
      "Step 4: So the sum of the possible values of x is 0.\n",
      "Step 5: Right.\n",
      "\n",
      "# Answer\n",
      "\n",
      "0\n",
      "## Step-Analysis-Rating\n",
      "Step 1: Let's find the square root of 16. Analysis: this step is appropriate in conversation, contains no inaccuracies, contains no weirdness, and the computation is simple and can be easily verified. It also advances the process of solving the problem, so it should be rated as 1. Rating: 1\n",
      "Step 2: That's 4. Analysis: this step is correct in stating that the square root of 16 is 4. It's appropriate in conversation, contains no inaccuracies, contains no weirdness, and the computation is simple and can be easily verified. It also advances the process of solving the problem, so it should be rated as 1. Rating: 1\n",
      "Step 3: And the negative of 4 is also a solution, -4. Analysis: this step correctly identifies that -4 is also a solution to the equation. It's appropriate in conversation, contains no inaccuracies, contains no weirdness, and the computation is simple and can be easily verified. It also advances the process of solving the problem, so it should be rated as 1. Rating: 1\n",
      "Step 4: So the sum of the possible values of x is 0. Analysis: this step correctly adds the two solutions, 4 and -4, to find their sum. It's appropriate in conversation, contains no inaccuracies, contains no weirdness, and the computation is simple and can be easily verified. It also advances the process of solving the problem, so it should be rated as 1. Rating: 1\n",
      "Step 5: Right. Analysis: this step confirms the solution, which is appropriate in conversation and contains no inaccuracies or weirdness. However, it does not involve any computations or advance the solution process, so it should be rated as 0. Rating: 0\n"
     ]
    }
   ],
   "source": [
    "for query in queries:\n",
    "    whole_text = query[\"task_prompt\"] + query[\"choices\"][0][\"message\"][\"content\"]\n",
    "    if debug[\"query\"]:\n",
    "        print(whole_text)\n",
    "        break"
   ]
  }
 ],
 "metadata": {
  "kernelspec": {
   "display_name": "nlp",
   "language": "python",
   "name": "python3"
  },
  "language_info": {
   "codemirror_mode": {
    "name": "ipython",
    "version": 3
   },
   "file_extension": ".py",
   "mimetype": "text/x-python",
   "name": "python",
   "nbconvert_exporter": "python",
   "pygments_lexer": "ipython3",
   "version": "3.10.12"
  },
  "orig_nbformat": 4
 },
 "nbformat": 4,
 "nbformat_minor": 2
}
