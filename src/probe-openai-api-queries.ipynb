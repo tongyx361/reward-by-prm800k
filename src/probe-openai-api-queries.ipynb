{
 "cells": [
  {
   "cell_type": "code",
   "execution_count": 1,
   "metadata": {},
   "outputs": [
    {
     "name": "stdout",
     "output_type": "stream",
     "text": [
      "[2023-09-13 17:00:42,418] [INFO] [real_accelerator.py:133:get_accelerator] Setting ds_accelerator to cuda (auto detect)\n"
     ]
    },
    {
     "data": {
      "text/plain": [
       "<module 'utils' from '/data/tongyx361/reward-by-prm800k/src/utils.py'>"
      ]
     },
     "execution_count": 1,
     "metadata": {},
     "output_type": "execute_result"
    }
   ],
   "source": [
    "import utils\n",
    "\n",
    "import importlib\n",
    "\n",
    "importlib.reload(utils)"
   ]
  },
  {
   "cell_type": "code",
   "execution_count": 2,
   "metadata": {},
   "outputs": [],
   "source": [
    "import os\n",
    "import evaluate\n",
    "from utils import CLF_METRIC_NAMES"
   ]
  },
  {
   "cell_type": "code",
   "execution_count": 3,
   "metadata": {},
   "outputs": [
    {
     "name": "stdout",
     "output_type": "stream",
     "text": [
      "<Logger __main__ (INFO)>\n"
     ]
    }
   ],
   "source": [
    "logger = utils.get_logger(__name__)\n",
    "\n",
    "validation_set_path = os.path.join(\n",
    "    utils.project_root, \"datasets\", \"prm800k-002validation-seed42.jsonl\"\n",
    ")\n",
    "queries_path = os.path.join(\n",
    "    utils.project_root,\n",
    "    \"datasets\",\n",
    "    # \"wrong-final-prm800k-002validation-seed42-openai-api-queries.jsonl\",\n",
    "    \"prm800k-002validation-seed42-openai-api-queries.jsonl\",\n",
    ")\n",
    "\n",
    "debug = {\"query\": False, \"response\": False}"
   ]
  },
  {
   "cell_type": "code",
   "execution_count": 4,
   "metadata": {},
   "outputs": [
    {
     "name": "stdout",
     "output_type": "stream",
     "text": [
      "1818\n",
      "{'labeler': 'debabc6d-f79c-4ee5-a9db-5e284390254c', 'timestamp': '2022-07-17T17:11:05.765469', 'generation': None, 'is_quality_control_question': False, 'is_initial_screening_question': False, 'question': {'problem': 'If $x$ is a real number and $x^2 = 16$, what is the sum of all possible values of $x$?', 'ground_truth_answer': '0'}, 'label': {'steps': [{'completions': [{'text': \"Let's find the square root of 16.\", 'rating': 1, 'flagged': False}], 'human_completion': None, 'chosen_completion': 0}, {'completions': [{'text': \"That's 4.\", 'rating': 1, 'flagged': False}], 'human_completion': None, 'chosen_completion': 0}, {'completions': [{'text': 'And the negative of 4.', 'rating': -1, 'flagged': False}, {'text': 'So x could be 4.', 'rating': 0, 'flagged': False}, {'text': 'So one value of x is 4.', 'rating': 0, 'flagged': False}, {'text': 'So $x$ could be 4.', 'rating': 0, 'flagged': False}, {'text': 'And the negative of 4 is also a solution, -4.', 'rating': 1, 'flagged': False}, {'text': 'So the values x can take are 4 and -4.', 'rating': 1, 'flagged': False}, {'text': 'So x could be 4.', 'rating': 0, 'flagged': False}], 'human_completion': None, 'chosen_completion': 4}, {'completions': [{'text': 'So the sum of the possible values of x is 0.', 'rating': 1, 'flagged': False}], 'human_completion': None, 'chosen_completion': 0}, {'completions': [{'text': 'Right.\\n\\n# Answer\\n\\n0', 'rating': 1, 'flagged': False}], 'human_completion': None, 'chosen_completion': 0}], 'total_time': 48465, 'finish_reason': 'solution'}}\n"
     ]
    }
   ],
   "source": [
    "validation_set = utils.load_jsonl(validation_set_path)\n",
    "print(len(validation_set))\n",
    "print(validation_set[0])"
   ]
  },
  {
   "cell_type": "code",
   "execution_count": 5,
   "metadata": {},
   "outputs": [
    {
     "name": "stdout",
     "output_type": "stream",
     "text": [
      "71\n",
      "{'id': 'chatcmpl-7yF6YRIdT2ILjyv16yVGfmg3CRjRq', 'object': 'chat.completion', 'created': 1694592098, 'model': 'gpt-4-0613', 'choices': [{'index': 0, 'message': {'role': 'assistant', 'content': 'is appropriate in conversation, contains no inaccuracies or weirdness, and while there\\'s no computation, it does advance the solution process, so it should be rated as 1. Rating: 1\\nStep 2: \"\"\"That\\'s 4.\"\"\" Analysis: this step correctly identifies the square root of 16. It\\'s appropriate in conversation, contains no inaccuracies or weirdness, and the computation is correct and can be verified, so it advances the solution process and should be rated as 1. Rating: 1\\nStep 3: \"\"\"And the negative of 4 is also a solution, -4.\"\"\" Analysis: this step correctly identifies that -4 is also a solution to the equation $x^2 = 16$. It\\'s appropriate in conversation, contains no inaccuracies or weirdness, and the computation is correct and can be verified, so it advances the solution process and should be rated as 1. Rating: 1\\nStep 4: \"\"\"So the sum of the possible values of x is 0.\"\"\" Analysis: this step correctly adds the two solutions, 4 and -4, to get a sum of 0. It\\'s appropriate in conversation, contains no inaccuracies or weirdness, and the computation is correct and can be verified, so it advances the solution process and should be rated as 1. Rating: 1\\nStep 5: \"\"\"Right. 0\"\"\" Analysis: this step confirms the result obtained in the previous step. It\\'s appropriate in conversation, contains no inaccuracies or weirdness, and while there\\'s no computation, it does not advance the solution process, hence it\\'s rated as 0. Rating: 0'}, 'finish_reason': 'stop'}], 'usage': {'prompt_tokens': 2468, 'completion_tokens': 342, 'total_tokens': 2810}, 'task_prompt': '# Solution to analyse every step and rate\\n## Problem\\nIf $x$ is a real number and $x^2 = 16$, what is the sum of all possible values of $x$?\\n## Steps\\nStep 1: \"\"\"Let\\'s find the square root of 16.\"\"\"\\nStep 2: \"\"\"That\\'s 4.\"\"\"\\nStep 3: \"\"\"And the negative of 4 is also a solution, -4.\"\"\"\\nStep 4: \"\"\"So the sum of the possible values of x is 0.\"\"\"\\nStep 5: \"\"\"Right.\\n\\n# Answer\\n\\n0\"\"\"\\n## Step-Analysis-Rating\\nStep 1: \"\"\"Let\\'s find the square root of 16. \"\"\" Analysis: this step '}\n"
     ]
    }
   ],
   "source": [
    "queries = utils.load_jsonl(queries_path)\n",
    "print(len(queries))\n",
    "print(queries[0])"
   ]
  },
  {
   "cell_type": "code",
   "execution_count": 6,
   "metadata": {},
   "outputs": [],
   "source": [
    "# assert\n",
    "prompts = [q[\"task_prompt\"] for q in queries]\n",
    "# assert len(prompts) == len(\n",
    "#     set(prompts)\n",
    "# ), f\"len(prompts) = {len(prompts)} != len(set(prompts)) = {len(set(prompts))}\""
   ]
  },
  {
   "cell_type": "code",
   "execution_count": 7,
   "metadata": {},
   "outputs": [],
   "source": [
    "clf_metrics = [evaluate.load(name) for name in CLF_METRIC_NAMES] + [\n",
    "    evaluate.load(\"roc_auc\", \"multiclass\")\n",
    "]"
   ]
  },
  {
   "cell_type": "code",
   "execution_count": 8,
   "metadata": {},
   "outputs": [
    {
     "name": "stderr",
     "output_type": "stream",
     "text": [
      "2023-09-13 17:00:55.208 [INFO] num_queries = 71\n",
      "2023-09-13 17:00:55.212 [WARNING] sample_idx 5: 19 < 59\n",
      "2023-09-13 17:00:55.214 [WARNING] sample_idx 6: steps[4] != step_rating[\"step\"]\n",
      "2023-09-13 17:00:55.215 [WARNING] sample_idx 10: 6 < 7\n",
      "2023-09-13 17:00:55.217 [WARNING] sample_idx 14: 4 < 5\n",
      "2023-09-13 17:00:55.219 [WARNING] sample_idx 18: steps[8] != step_rating[\"step\"]\n",
      "2023-09-13 17:00:55.221 [WARNING] sample_idx 26: steps[2] != step_rating[\"step\"]\n",
      "2023-09-13 17:00:55.222 [WARNING] sample_idx 33: 1 < 14\n",
      "2023-09-13 17:00:55.225 [WARNING] sample_idx 53: steps[4] != step_rating[\"step\"]\n",
      "2023-09-13 17:00:55.226 [WARNING] sample_idx 58: steps[2] != step_rating[\"step\"]\n",
      "2023-09-13 17:00:55.228 [WARNING] sample_idx 65: 1 < 12\n",
      "2023-09-13 17:00:55.229 [INFO] num_validation_sample = 66\n",
      "2023-09-13 17:00:55.230 [INFO] flat_preds = [1, 1, 1, 1, 0, 0, 1, 1, 1, 1, 1, 1, 1, 1, 1, 1, 1, 1, 1, 1, 1, 0, 1, 1, 0, 1, 1, 1, 1, 0, 1, 1, 1, -1, 1, 1, 1, 1, 1, 1, 1, 1, 1, 1, 0, 1, 1, 1, 1, 1, 1, 1, 1, 1, 1, -1, 1, 1, 0, 0, 1, 1, 1, 1, 1, 0, 1, 0, 1, 1, 1, 1, 0, 1, 1, 1, 1, 1, 1, 1, 1, 1, 0, 1, 1, 1, 1, 1, 1, 1, 1, 1, 1, 1, 1, 1, 1, -1, 1, 1, 0, 1, 1, 1, 1, 1, 1, 0, 1, 0, 1, 1, 1, 1, 1, 1, 0, 1, 1, 1, 0, 1, 1, 1, 1, 1, 1, 1, 1, -1, -1, 1, -1, 0, 1, -1, 0, 1, 1, 0, 0, 1, 1, 1, 1, -1, 1, 0, -1, 0, 1, 1, 1, 1, 1, 1, 1, -1, -1, -1, -1, 0, 1, 1, 1, 1, 1, 1, 1, 1, 1, 1, 1, 1, 1, 0, 1, 1, 1, 1, 0, 1, 1, 1, 1, 1, 1, 1, 1, 1, 1, 1, 1, 1, 1, 1, 1, 1, 1, 1, 1, 1, 1, 1, 1, 1, 1, 1, 1, 1, 1, 1, 1, 0, 0, 1, 1, 1, 1, 1, 1, 1, 1, 1, 1, 1, -1, 1, 1, 1, 1, 1, 1, 1, 1, 1, 1, 1, 1, 1, 1, 1, 1, 1, 1, 1, 1, 1, 1, 1, 1, 1, 0, 1, -1, -1, 1, 1, -1, -1, -1, 1, 1, 0, 1, -1, -1, -1, 1, 1, 1, 1, 1, 1, 1, 1, 1, 1, 1, 1, 0, 1, 1, 1, 1, 1, 1, 1, 1, 1, 1, 1, 1, 1, 1, 1, 1, 1, 1, 1, 1, 1, 1, 1, 1, 1, 1, 1, 1, 1, 1, 1, 1, 1, 1, 1, 0, 0, 1, 1, 1, 1, 1, 1, 1, 1, 0, 1, 1, 1, 1, 1, -1, 1, -1, 1, 1, 1, 1, 1, 1, 1, 1, 1, 1, 1, 0, 1, 1, 0, 1, 1, 1, 1, 1, 1, 1, 1, 1, 1, 1, 1, 0, 1, 0, 1, 1, 1, 1, 1, 1, 1, 1, 1, 1, 1, 1, 0, 1, 1, 1, 1, 1, 1, 1, 1, 1, 1, 1, 1, 1, 1, 1, 1, 1, 1, 1, 1, 1, 1, 1, 1, 1, 1, 1, 1, 1, 0, 1, 1, 1, 1, 1, 1, 1, 1, 1, 1, 1, 1, 1, 1, 1, 1, 1, 1, 1, 1, 1, 1, 1, 1, 0, 1, 1, 1, 1, -1, -1, -1, 1, 1, 1, -1, 1, -1, 1, 1, 1, 1, 1, 1, 1, 1, 0, 1, 1, 1, -1, 1, -1, -1, 1, 1, 1, 1, 1, 1, 1, 0, 0, 1, 1, 1, 0, 1, 1, 1, 1, 1, 1, 1, 1, 1, 1, 1, 1, 1, 1, 1, 1, 1, 1, 1, 1, 1, 1, 1, -1, -1, -1, 0, 1, 1, 1, 1, 1, 1, 1, 1, 0, 0, 0, 1, 1, 1, 1, 1, 1, 1, 1, 1, 1, 1, 1, 1, 1, 1, 1, 1, 1, 0, 1, 1, 1, 1, 1, 0, 1, 1, 0, 0, 0, 1, 1, 1, 1, 1, 1, 0, 1, 1, 1, 1, 1, 1, 1, 1, 1, 1, 1, 1, 1, 1, 1, 1, 1, 1, 0, 1, 1, 1, 1, 1, 1, 1, 1, 1, 1, 1, 1, 0, 0, 1, 1, 1, -1, 1, 0, 0, 1, 1, 1, 1, 1, 1, 1, 1, 1, 1, 1, 1, 1, 1, 1, 1, 1, 1, 1, 1, 1, 1, 1, 1, 1, 1, 1, 1, 1, 1, 0, 1, 1, 1, 1, 1, 1, 1, 1, 1, 1, 1, 1, 1, 1, 1, 1, 1, 0, 1, 1, 1, 1, 1, 1, 1, 1, 1, 1, 1, 1, 1, 1, 1, 1, 0, 1, 1, 1, 1, 1, 1, 1, 1, 1, 1, 1, 1, 1, 0, 1, 1, 1, 1, 1, 1, 1, 1, 1, 1, 1, 1, 1, 0, 1, 1, 1, 1, 1, -1, -1, -1, -1, -1, 0, 1, 1, 1, 1, 1, 1, 1, 1, 1, 1, 1, 1, 0, 0, 1, 1, 1, 1, 1, 1, 1, 1, 1, 1, 1, 0, 1, 1, 1, 1, 1, 1, 1, 1, 1, 1, 1, 1, 1, 1, 1, 1, 1, 1, 1, 1, 1, 1, 1, 1, 1, 1, 1, 1, 1, 1, 1, 1, 1, 1, 1, 1, 1, 1, 1, 1, 1, 1, 1, 1, 1, 1, 1, 1, 1, 1, 1, 0, 1, 1, 1, 1, 1, 0, 0, 1, 1, 0, 1, 1, 1, 1, 1, 1, 1, 1, 1, 1, 1, 1, 1, 0, 1, 1, 1, 1, 1, 1, 1, 1, 1, 1, 1, 1]\n",
      "2023-09-13 17:00:55.231 [INFO] flat_refs  = [1, 1, 1, 1, 1, 1, 1, 1, 1, 1, 1, 1, 1, 1, 1, 1, 1, 1, 1, 1, 1, 1, 1, 1, 1, 1, 1, 1, 1, 1, 1, 1, 1, 1, 1, 1, 1, 1, 1, 1, 1, 1, 1, 1, 1, 1, 1, 1, 1, 1, 1, 1, 1, 1, 1, 1, 1, 1, 1, 1, 1, 1, 1, 1, 1, 1, 1, 1, 1, 1, 1, 1, 1, 1, 1, 1, 1, 1, 1, 1, 1, 1, 1, 1, 1, 1, 1, 1, 1, 1, 1, 1, 1, 1, 1, 1, 1, 1, 1, 1, 1, 1, 1, 1, 1, 1, 1, 1, 1, 1, 1, 1, 1, 1, 1, 1, 1, 1, 1, 1, 1, 1, 1, 1, 1, 1, 1, 0, 0, 1, 1, 1, -1, 1, 0, -1, 1, 0, -1, 0, 0, 0, 0, 0, 0, 0, 0, 0, -1, 0, 1, 1, 1, 1, 1, 1, 0, 1, 1, 1, -1, 1, 1, 1, 1, 1, 1, 1, 1, 1, 1, 1, 1, 1, 1, 1, 0, 0, 0, 0, 1, 0, -1, 1, 1, 1, 1, 1, 1, 1, 1, 1, 1, 1, 1, 1, 1, 1, 1, 1, 1, 1, 1, 1, 1, 1, 1, 1, 1, 1, 1, 1, 1, 0, 1, 1, 1, 1, 1, 1, 1, 1, -1, 1, 1, 1, -1, 1, 1, 1, 1, 1, 1, 1, 1, 1, 1, 1, 1, 1, 1, 1, 1, 1, 1, 1, 1, 1, 1, 1, 1, 1, 1, 0, 1, 1, 1, 1, 1, 1, 1, 1, 1, 1, 1, 1, 1, 1, 1, 1, 1, 1, 1, 1, 1, 1, 1, 1, 1, 1, 1, 1, 1, 1, 1, 1, 1, 1, 1, 1, 1, 1, 1, 1, 1, 1, 1, 1, 1, 1, 1, 1, 1, 1, 1, 1, 1, 1, 1, 1, 1, 1, 1, 1, 1, 1, 1, 1, 1, 1, 1, 1, 1, 1, 1, -1, 1, 1, 1, 1, 1, 1, -1, 1, -1, 1, 1, 1, 1, 1, 1, 1, 1, 1, 1, 1, 1, 1, 1, 1, 1, 1, 1, 1, 1, 1, 1, 1, 1, 1, 1, 1, 1, 0, 1, 1, 1, 1, 1, 1, 1, 1, 1, 1, 1, 1, 1, 1, 1, 1, 1, 1, 1, 1, 1, 1, -1, 1, 1, 1, 1, 0, 1, 1, 1, 1, 1, 1, 1, 1, 1, 1, 1, 1, 1, 1, -1, 1, 1, 1, 1, 1, 1, 1, 1, 1, 1, 1, 1, 1, 1, 1, 1, 1, 1, 1, 1, 1, 1, 1, 1, 1, 1, 1, 1, 1, 1, 0, 1, 1, 1, 1, 1, 1, 1, 1, 1, 1, 1, 1, 1, 1, 1, 1, 1, 1, 1, 1, 1, 1, 1, 1, 1, 1, 1, 1, 1, 1, 1, 1, 1, 1, 1, 1, 1, 1, 1, 1, 1, 1, 1, 1, 1, 1, 1, 1, 1, 1, 1, 1, 1, 1, 1, 1, 1, 1, 1, 1, 1, 1, 1, 1, 1, 1, 1, 1, 1, 1, 1, 1, 1, 1, 1, 1, 1, 1, 1, 1, 1, 1, 1, 1, 1, 1, 1, 1, 1, 1, 1, 1, 1, 1, 1, 1, 1, 1, 1, 1, 1, 1, 1, 0, 1, 1, 1, 1, 1, 0, 1, 0, 1, 1, 1, 1, 1, 1, 1, 1, 1, 1, 1, 1, 1, 1, 1, 1, 1, 1, 0, 1, 1, 1, 1, 1, 1, 1, 1, 1, 1, 1, 1, 0, 1, 1, 1, 1, 1, 1, 1, 1, 1, 1, 1, 1, 1, 1, 1, 1, 1, 1, 1, 1, 1, 1, 1, 1, 1, 1, 1, 1, 1, 1, 1, 1, 1, 1, 1, 1, 1, 1, 1, 1, 1, 1, 1, 1, 1, 1, 1, 1, 1, 1, 1, 1, 1, 1, 1, 1, 0, 1, 1, 1, 1, 1, 1, 1, 1, 1, 1, 1, 1, 1, 1, 1, -1, 1, 1, 1, 1, 1, 1, 1, 1, 1, 1, 1, 1, 1, 1, 1, 1, 1, 1, 1, 1, 1, 1, 1, 1, 1, 1, 1, 1, 1, 1, 1, 1, 1, 1, 1, 1, 1, 1, 1, 0, 1, 1, 1, 1, 1, 1, 1, 1, 1, 1, 1, 1, 1, 1, 1, 1, 0, 1, 1, 1, 1, 1, 1, 1, 1, 1, 1, 1, 1, 1, 1, 1, 1, 1, 1, 1, 1, 1, 1, 1, 1, 1, 1, 1, 1, 1, 1, 1, 1, 1, 1, 1, 1, 1, 1, 1, 1, 1, 1, 1, 1, 1, 1, 1, 1, 1, 1, 1, 1, 1, 1, 1, 1, 1, 1, 1, 1, 1, 1, 1, 1, 1, 1, 1, 1, 1, 1, 1, 1, 1, 1, 1, 1, 1, 1, 1, 1, 1, 1, 1, 1, 1, 1, 1, 1, 1, 1, 1, 1, 1, 1, 1, 1, 1]\n"
     ]
    }
   ],
   "source": [
    "flat_preds = []\n",
    "flat_refs = []\n",
    "num_validation_sample = 0\n",
    "\n",
    "num_queries = len(queries)\n",
    "\n",
    "logger.info(f\"num_queries = {num_queries}\")\n",
    "\n",
    "validation_subset = validation_set[:num_queries]\n",
    "for sample_idx, (query, sample) in enumerate(zip(queries, validation_subset)):\n",
    "    whole_text = query[\"task_prompt\"] + query[\"choices\"][0][\"message\"][\"content\"]\n",
    "\n",
    "    steps, ratings, _ = utils.prm800k_extract_synthesized_analysis(\n",
    "        whole_text,\n",
    "        query_type=\"sar\",\n",
    "        # debug={\"search\": True}\n",
    "    )\n",
    "\n",
    "    reformatted_sample = utils.reformat_prm800k_sample(sample)\n",
    "    step_ratings = reformatted_sample[\"step_ratings\"]\n",
    "\n",
    "    len_label = len(reformatted_sample[\"step_ratings\"])\n",
    "    if len(steps) < len_label:\n",
    "        logger.warning(\n",
    "            f\"sample_idx {sample_idx}: {len(steps)} < {len(reformatted_sample['step_ratings'])}\"\n",
    "        )\n",
    "        detail = f\"reformatted_sample['step_ratings'] = {reformatted_sample['step_ratings']}\\n\\nsteps = {steps}\\nratings = {ratings}\\n\\nwhole_text = {whole_text}\"\n",
    "        logger.debug(detail)\n",
    "        # if len(steps) == len_label - 1:\n",
    "        #     logger.info(detail)\n",
    "        continue\n",
    "    elif len(steps) > len_label:\n",
    "        # truncate\n",
    "        steps = steps[:len_label]\n",
    "        ratings = ratings[:len_label]\n",
    "        # step_ratings = step_ratings[:len_label]\n",
    "\n",
    "    num_validation_sample += 1\n",
    "    flat_preds.extend([int(r) for r in ratings])\n",
    "    flat_refs.extend([sr[\"rating\"] for sr in step_ratings])\n",
    "\n",
    "    for step_idx, step_rating in enumerate(\n",
    "        reformatted_sample[\"step_ratings\"][:-1]\n",
    "    ):  # ignore the last step\n",
    "        # assert (\n",
    "        #     steps[step_idx] == step_rating[\"step\"]\n",
    "        # ), f'steps[{step_idx}] != step_rating[\"step\"]\\n\\nwhole_text = \\n```\\n{whole_text}\\n```\\n\\nsteps[idx] = {steps[idx]}\\n\\nstep_rating[\"step\"] = {step_rating[\"step\"]}'\n",
    "        if steps[step_idx] != step_rating[\"step\"]:\n",
    "            logger.warning(\n",
    "                f'sample_idx {sample_idx}: steps[{step_idx}] != step_rating[\"step\"]'\n",
    "            )\n",
    "            logger.debug(\n",
    "                f'step_rating[\"step\"] = {step_rating[\"step\"]}\\n\\nsteps[idx] = {steps[step_idx]}\\n\\nwhole_text = \\n```\\n{whole_text}\\n```'\n",
    "            )\n",
    "\n",
    "    if any(debug.values()):\n",
    "        if debug.get(\"query\"):\n",
    "            print(whole_text)\n",
    "        if debug.get(\"response\"):\n",
    "            print(steps)\n",
    "            print(ratings)\n",
    "            # print(analyses)\n",
    "        break\n",
    "\n",
    "assert len(flat_preds) == len(flat_refs)\n",
    "logger.info(f\"num_validation_sample = {num_validation_sample}\")\n",
    "logger.info(f\"flat_preds = {flat_preds}\")\n",
    "logger.info(f\"flat_refs  = {flat_refs}\")"
   ]
  },
  {
   "cell_type": "code",
   "execution_count": 9,
   "metadata": {},
   "outputs": [
    {
     "name": "stdout",
     "output_type": "stream",
     "text": [
      "pred_-1_num: 14.0000\n",
      "ref_-1_num: 41.0000\n",
      "f1_-1: 0.2545\n",
      "precision_-1: 0.5000\n",
      "recall_-1: 0.1707\n"
     ]
    }
   ],
   "source": [
    "eval_metrics = utils.evaluate_clf_metrics_compute(\n",
    "    clf_metrics, flat_refs, flat_preds, labels=[-1, 0, 1]\n",
    ")\n",
    "# print(eval_metrics)\n",
    "for k, v in eval_metrics.items():\n",
    "    if \"-1\" not in k:\n",
    "        continue\n",
    "    print(f\"{k}: {v:.4f}\")"
   ]
  }
 ],
 "metadata": {
  "kernelspec": {
   "display_name": "nlp",
   "language": "python",
   "name": "python3"
  },
  "language_info": {
   "codemirror_mode": {
    "name": "ipython",
    "version": 3
   },
   "file_extension": ".py",
   "mimetype": "text/x-python",
   "name": "python",
   "nbconvert_exporter": "python",
   "pygments_lexer": "ipython3",
   "version": "3.10.12"
  },
  "orig_nbformat": 4
 },
 "nbformat": 4,
 "nbformat_minor": 2
}
