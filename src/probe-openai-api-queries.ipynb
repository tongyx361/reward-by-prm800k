{
 "cells": [
  {
   "cell_type": "code",
   "execution_count": 1,
   "metadata": {},
   "outputs": [
    {
     "name": "stdout",
     "output_type": "stream",
     "text": [
      "[2023-09-16 12:44:29,587] [INFO] [real_accelerator.py:133:get_accelerator] Setting ds_accelerator to cuda (auto detect)\n"
     ]
    },
    {
     "data": {
      "text/plain": [
       "<module 'utils' from '/data/tongyx361/reward-by-prm800k/src/utils.py'>"
      ]
     },
     "execution_count": 1,
     "metadata": {},
     "output_type": "execute_result"
    }
   ],
   "source": [
    "import utils\n",
    "\n",
    "import importlib\n",
    "\n",
    "importlib.reload(utils)"
   ]
  },
  {
   "cell_type": "code",
   "execution_count": 2,
   "metadata": {},
   "outputs": [],
   "source": [
    "import os\n",
    "import evaluate\n",
    "from utils import CLF_METRIC_NAMES"
   ]
  },
  {
   "cell_type": "code",
   "execution_count": 3,
   "metadata": {},
   "outputs": [
    {
     "name": "stdout",
     "output_type": "stream",
     "text": [
      "<Logger __main__ (INFO)>\n"
     ]
    }
   ],
   "source": [
    "clf_metrics = [evaluate.load(name) for name in CLF_METRIC_NAMES] + [\n",
    "    evaluate.load(\"roc_auc\", \"multiclass\")\n",
    "]\n",
    "\n",
    "logger = utils.get_logger(__name__)"
   ]
  },
  {
   "cell_type": "code",
   "execution_count": 4,
   "metadata": {},
   "outputs": [],
   "source": [
    "validation_set_path = os.path.join(\n",
    "    utils.project_root, \"datasets\", \"prm800k-002validation-seed42.jsonl\"\n",
    ")\n",
    "queries_path = os.path.join(\n",
    "    utils.project_root,\n",
    "    \"datasets\",\n",
    "    \"prm800k-002validation-seed42-openai-api-queries.jsonl\",\n",
    ")\n",
    "\n",
    "debug = {\"query\": False, \"response\": False}"
   ]
  },
  {
   "cell_type": "code",
   "execution_count": 5,
   "metadata": {},
   "outputs": [
    {
     "name": "stdout",
     "output_type": "stream",
     "text": [
      "1818\n",
      "{'labeler': 'debabc6d-f79c-4ee5-a9db-5e284390254c', 'timestamp': '2022-07-17T17:11:05.765469', 'generation': None, 'is_quality_control_question': False, 'is_initial_screening_question': False, 'question': {'problem': 'If $x$ is a real number and $x^2 = 16$, what is the sum of all possible values of $x$?', 'ground_truth_answer': '0'}, 'label': {'steps': [{'completions': [{'text': \"Let's find the square root of 16.\", 'rating': 1, 'flagged': False}], 'human_completion': None, 'chosen_completion': 0}, {'completions': [{'text': \"That's 4.\", 'rating': 1, 'flagged': False}], 'human_completion': None, 'chosen_completion': 0}, {'completions': [{'text': 'And the negative of 4.', 'rating': -1, 'flagged': False}, {'text': 'So x could be 4.', 'rating': 0, 'flagged': False}, {'text': 'So one value of x is 4.', 'rating': 0, 'flagged': False}, {'text': 'So $x$ could be 4.', 'rating': 0, 'flagged': False}, {'text': 'And the negative of 4 is also a solution, -4.', 'rating': 1, 'flagged': False}, {'text': 'So the values x can take are 4 and -4.', 'rating': 1, 'flagged': False}, {'text': 'So x could be 4.', 'rating': 0, 'flagged': False}], 'human_completion': None, 'chosen_completion': 4}, {'completions': [{'text': 'So the sum of the possible values of x is 0.', 'rating': 1, 'flagged': False}], 'human_completion': None, 'chosen_completion': 0}, {'completions': [{'text': 'Right.\\n\\n# Answer\\n\\n0', 'rating': 1, 'flagged': False}], 'human_completion': None, 'chosen_completion': 0}], 'total_time': 48465, 'finish_reason': 'solution'}}\n"
     ]
    }
   ],
   "source": [
    "validation_set = utils.load_jsonl(validation_set_path)\n",
    "print(len(validation_set))\n",
    "print(validation_set[0])"
   ]
  },
  {
   "cell_type": "code",
   "execution_count": 6,
   "metadata": {},
   "outputs": [
    {
     "name": "stdout",
     "output_type": "stream",
     "text": [
      "1818\n",
      "{'id': 'chatcmpl-7xypIMi1roEQHco4diAMGEzVWPm8U', 'object': 'chat.completion', 'created': 1694529524, 'model': 'gpt-4-0613', 'choices': [{'index': 0, 'message': {'role': 'assistant', 'content': \"is appropriate in conversation, contains no inaccuracies, contains no weirdness, and the computation is simple and can be easily verified. It also advances the process of solving the problem, so it should be rated as 1. Rating: 1\\nStep 2: That's 4. Analysis: this step is correct in stating that the square root of 16 is 4. It's appropriate in conversation, contains no inaccuracies, contains no weirdness, and the computation is simple and can be easily verified. It also advances the process of solving the problem, so it should be rated as 1. Rating: 1\\nStep 3: And the negative of 4 is also a solution, -4. Analysis: this step correctly identifies that -4 is also a solution to the equation. It's appropriate in conversation, contains no inaccuracies, contains no weirdness, and the computation is simple and can be easily verified. It also advances the process of solving the problem, so it should be rated as 1. Rating: 1\\nStep 4: So the sum of the possible values of x is 0. Analysis: this step correctly adds the two solutions, 4 and -4, to find their sum. It's appropriate in conversation, contains no inaccuracies, contains no weirdness, and the computation is simple and can be easily verified. It also advances the process of solving the problem, so it should be rated as 1. Rating: 1\\nStep 5: Right. Analysis: this step confirms the solution, which is appropriate in conversation and contains no inaccuracies or weirdness. However, it does not involve any computations or advance the solution process, so it should be rated as 0. Rating: 0\"}, 'finish_reason': 'stop'}], 'usage': {'prompt_tokens': 2461, 'completion_tokens': 359, 'total_tokens': 2820}, 'task_prompt': \"# Solution to analyse every step and rate\\n## Problem\\nIf $x$ is a real number and $x^2 = 16$, what is the sum of all possible values of $x$?\\n## Steps\\nStep 1: Let's find the square root of 16.\\nStep 2: That's 4.\\nStep 3: And the negative of 4 is also a solution, -4.\\nStep 4: So the sum of the possible values of x is 0.\\nStep 5: Right.\\n\\n# Answer\\n\\n0\\n## Step-Analysis-Rating\\nStep 1: Let's find the square root of 16. Analysis: this step \"}\n"
     ]
    }
   ],
   "source": [
    "queries = utils.load_jsonl(queries_path)\n",
    "print(len(queries))\n",
    "print(queries[0])"
   ]
  },
  {
   "cell_type": "code",
   "execution_count": 7,
   "metadata": {},
   "outputs": [],
   "source": [
    "# assert\n",
    "prompts = [q[\"task_prompt\"] for q in queries]\n",
    "# assert len(prompts) == len(\n",
    "#     set(prompts)\n",
    "# ), f\"len(prompts) = {len(prompts)} != len(set(prompts)) = {len(set(prompts))}\""
   ]
  },
  {
   "cell_type": "code",
   "execution_count": 8,
   "metadata": {},
   "outputs": [
    {
     "name": "stderr",
     "output_type": "stream",
     "text": [
      "2023-09-16 12:44:45.109 [INFO] num_queries = 1818\n",
      "2023-09-16 12:44:45.113 [WARNING] sample_idx 1: steps[4] != step_rating[\"step\"]\n",
      "2023-09-16 12:44:45.114 [WARNING] sample_idx 1: steps[11] != step_rating[\"step\"]\n",
      "2023-09-16 12:44:45.116 [WARNING] sample_idx 5: 20 < 59\n",
      "2023-09-16 12:44:45.118 [WARNING] sample_idx 6: steps[4] != step_rating[\"step\"]\n",
      "2023-09-16 12:44:45.118 [WARNING] sample_idx 6: steps[5] != step_rating[\"step\"]\n",
      "2023-09-16 12:44:45.121 [WARNING] sample_idx 13: steps[3] != step_rating[\"step\"]\n",
      "2023-09-16 12:44:45.121 [WARNING] sample_idx 13: steps[5] != step_rating[\"step\"]\n",
      "2023-09-16 12:44:45.122 [WARNING] sample_idx 13: steps[7] != step_rating[\"step\"]\n",
      "2023-09-16 12:44:45.123 [WARNING] sample_idx 13: steps[8] != step_rating[\"step\"]\n",
      "2023-09-16 12:44:45.123 [WARNING] sample_idx 13: steps[9] != step_rating[\"step\"]\n",
      "2023-09-16 12:44:45.124 [WARNING] sample_idx 13: steps[11] != step_rating[\"step\"]\n",
      "2023-09-16 12:44:45.124 [WARNING] sample_idx 13: steps[12] != step_rating[\"step\"]\n",
      "2023-09-16 12:44:45.125 [WARNING] sample_idx 13: steps[13] != step_rating[\"step\"]\n",
      "2023-09-16 12:44:45.125 [WARNING] sample_idx 13: steps[15] != step_rating[\"step\"]\n",
      "2023-09-16 12:44:45.126 [WARNING] sample_idx 13: steps[16] != step_rating[\"step\"]\n",
      "2023-09-16 12:44:45.126 [WARNING] sample_idx 13: steps[17] != step_rating[\"step\"]\n",
      "2023-09-16 12:44:45.127 [WARNING] sample_idx 13: steps[18] != step_rating[\"step\"]\n",
      "2023-09-16 12:44:45.127 [WARNING] sample_idx 13: steps[19] != step_rating[\"step\"]\n",
      "2023-09-16 12:44:45.128 [WARNING] sample_idx 13: steps[20] != step_rating[\"step\"]\n",
      "2023-09-16 12:44:45.128 [WARNING] sample_idx 13: steps[21] != step_rating[\"step\"]\n",
      "2023-09-16 12:44:45.129 [WARNING] sample_idx 13: steps[22] != step_rating[\"step\"]\n",
      "2023-09-16 12:44:45.129 [WARNING] sample_idx 13: steps[23] != step_rating[\"step\"]\n",
      "2023-09-16 12:44:45.130 [WARNING] sample_idx 13: steps[24] != step_rating[\"step\"]\n",
      "2023-09-16 12:44:45.130 [WARNING] sample_idx 13: steps[25] != step_rating[\"step\"]\n",
      "2023-09-16 12:44:45.134 [WARNING] sample_idx 18: 9 < 10\n",
      "2023-09-16 12:44:45.137 [WARNING] sample_idx 26: steps[2] != step_rating[\"step\"]\n",
      "2023-09-16 12:44:45.141 [WARNING] sample_idx 37: 14 < 15\n",
      "2023-09-16 12:44:45.143 [WARNING] sample_idx 40: steps[4] != step_rating[\"step\"]\n",
      "2023-09-16 12:44:45.149 [WARNING] sample_idx 57: steps[2] != step_rating[\"step\"]\n",
      "2023-09-16 12:44:45.151 [WARNING] sample_idx 58: steps[2] != step_rating[\"step\"]\n",
      "2023-09-16 12:44:45.155 [WARNING] sample_idx 73: steps[1] != step_rating[\"step\"]\n",
      "2023-09-16 12:44:45.155 [WARNING] sample_idx 73: steps[2] != step_rating[\"step\"]\n",
      "2023-09-16 12:44:45.156 [WARNING] sample_idx 73: steps[3] != step_rating[\"step\"]\n",
      "2023-09-16 12:44:45.157 [WARNING] sample_idx 73: steps[4] != step_rating[\"step\"]\n",
      "2023-09-16 12:44:45.157 [WARNING] sample_idx 73: steps[5] != step_rating[\"step\"]\n",
      "2023-09-16 12:44:45.162 [WARNING] sample_idx 97: steps[4] != step_rating[\"step\"]\n",
      "2023-09-16 12:44:45.167 [WARNING] sample_idx 122: steps[4] != step_rating[\"step\"]\n",
      "2023-09-16 12:44:45.178 [WARNING] sample_idx 190: 2 < 7\n",
      "2023-09-16 12:44:45.189 [WARNING] sample_idx 275: steps[3] != step_rating[\"step\"]\n",
      "2023-09-16 12:44:45.191 [WARNING] sample_idx 286: steps[6] != step_rating[\"step\"]\n",
      "2023-09-16 12:44:45.199 [WARNING] sample_idx 328: steps[3] != step_rating[\"step\"]\n",
      "2023-09-16 12:44:45.199 [WARNING] sample_idx 328: steps[5] != step_rating[\"step\"]\n",
      "2023-09-16 12:44:45.200 [WARNING] sample_idx 328: steps[9] != step_rating[\"step\"]\n",
      "2023-09-16 12:44:45.201 [WARNING] sample_idx 328: steps[10] != step_rating[\"step\"]\n",
      "2023-09-16 12:44:45.201 [WARNING] sample_idx 328: steps[11] != step_rating[\"step\"]\n",
      "2023-09-16 12:44:45.214 [WARNING] sample_idx 393: steps[3] != step_rating[\"step\"]\n",
      "2023-09-16 12:44:45.215 [WARNING] sample_idx 393: steps[4] != step_rating[\"step\"]\n",
      "2023-09-16 12:44:45.216 [WARNING] sample_idx 393: steps[5] != step_rating[\"step\"]\n",
      "2023-09-16 12:44:45.216 [WARNING] sample_idx 393: steps[6] != step_rating[\"step\"]\n",
      "2023-09-16 12:44:45.217 [WARNING] sample_idx 393: steps[7] != step_rating[\"step\"]\n",
      "2023-09-16 12:44:45.224 [WARNING] sample_idx 419: 10 < 11\n",
      "2023-09-16 12:44:45.239 [WARNING] sample_idx 509: steps[1] != step_rating[\"step\"]\n",
      "2023-09-16 12:44:45.240 [WARNING] sample_idx 509: steps[3] != step_rating[\"step\"]\n",
      "2023-09-16 12:44:45.241 [WARNING] sample_idx 509: steps[4] != step_rating[\"step\"]\n",
      "2023-09-16 12:44:45.241 [WARNING] sample_idx 509: steps[5] != step_rating[\"step\"]\n",
      "2023-09-16 12:44:45.242 [WARNING] sample_idx 509: steps[6] != step_rating[\"step\"]\n",
      "2023-09-16 12:44:45.243 [WARNING] sample_idx 513: steps[1] != step_rating[\"step\"]\n",
      "2023-09-16 12:44:45.252 [WARNING] sample_idx 543: steps[3] != step_rating[\"step\"]\n",
      "2023-09-16 12:44:45.252 [WARNING] sample_idx 543: steps[5] != step_rating[\"step\"]\n",
      "2023-09-16 12:44:45.253 [WARNING] sample_idx 543: steps[6] != step_rating[\"step\"]\n",
      "2023-09-16 12:44:45.253 [WARNING] sample_idx 543: steps[8] != step_rating[\"step\"]\n",
      "2023-09-16 12:44:45.254 [WARNING] sample_idx 543: steps[9] != step_rating[\"step\"]\n",
      "2023-09-16 12:44:45.264 [WARNING] sample_idx 578: steps[3] != step_rating[\"step\"]\n",
      "2023-09-16 12:44:45.266 [WARNING] sample_idx 585: steps[1] != step_rating[\"step\"]\n",
      "2023-09-16 12:44:45.268 [WARNING] sample_idx 595: steps[3] != step_rating[\"step\"]\n",
      "2023-09-16 12:44:45.269 [WARNING] sample_idx 595: steps[5] != step_rating[\"step\"]\n",
      "2023-09-16 12:44:45.269 [WARNING] sample_idx 595: steps[7] != step_rating[\"step\"]\n",
      "2023-09-16 12:44:45.270 [WARNING] sample_idx 595: steps[9] != step_rating[\"step\"]\n",
      "2023-09-16 12:44:45.270 [WARNING] sample_idx 595: steps[10] != step_rating[\"step\"]\n",
      "2023-09-16 12:44:45.271 [WARNING] sample_idx 595: steps[11] != step_rating[\"step\"]\n",
      "2023-09-16 12:44:45.287 [WARNING] sample_idx 653: steps[1] != step_rating[\"step\"]\n",
      "2023-09-16 12:44:45.288 [WARNING] sample_idx 653: steps[2] != step_rating[\"step\"]\n",
      "2023-09-16 12:44:45.288 [WARNING] sample_idx 653: steps[3] != step_rating[\"step\"]\n",
      "2023-09-16 12:44:45.289 [WARNING] sample_idx 653: steps[4] != step_rating[\"step\"]\n",
      "2023-09-16 12:44:45.293 [WARNING] sample_idx 675: steps[1] != step_rating[\"step\"]\n",
      "2023-09-16 12:44:45.293 [WARNING] sample_idx 675: steps[2] != step_rating[\"step\"]\n",
      "2023-09-16 12:44:45.312 [WARNING] sample_idx 761: 8 < 21\n",
      "2023-09-16 12:44:45.315 [WARNING] sample_idx 772: steps[3] != step_rating[\"step\"]\n",
      "2023-09-16 12:44:45.326 [WARNING] sample_idx 858: steps[3] != step_rating[\"step\"]\n",
      "2023-09-16 12:44:45.328 [WARNING] sample_idx 871: steps[3] != step_rating[\"step\"]\n",
      "2023-09-16 12:44:45.330 [WARNING] sample_idx 879: steps[2] != step_rating[\"step\"]\n",
      "2023-09-16 12:44:45.333 [WARNING] sample_idx 895: steps[15] != step_rating[\"step\"]\n",
      "2023-09-16 12:44:45.333 [WARNING] sample_idx 895: steps[17] != step_rating[\"step\"]\n",
      "2023-09-16 12:44:45.333 [WARNING] sample_idx 895: steps[18] != step_rating[\"step\"]\n",
      "2023-09-16 12:44:45.334 [WARNING] sample_idx 895: steps[19] != step_rating[\"step\"]\n",
      "2023-09-16 12:44:45.334 [WARNING] sample_idx 895: steps[20] != step_rating[\"step\"]\n",
      "2023-09-16 12:44:45.338 [WARNING] sample_idx 926: 6 < 7\n",
      "2023-09-16 12:44:45.352 [WARNING] sample_idx 956: steps[1] != step_rating[\"step\"]\n",
      "2023-09-16 12:44:45.352 [WARNING] sample_idx 956: steps[2] != step_rating[\"step\"]\n",
      "2023-09-16 12:44:45.352 [WARNING] sample_idx 956: steps[3] != step_rating[\"step\"]\n",
      "2023-09-16 12:44:45.353 [WARNING] sample_idx 956: steps[4] != step_rating[\"step\"]\n",
      "2023-09-16 12:44:45.355 [WARNING] sample_idx 972: steps[6] != step_rating[\"step\"]\n",
      "2023-09-16 12:44:45.365 [WARNING] sample_idx 1010: steps[1] != step_rating[\"step\"]\n",
      "2023-09-16 12:44:45.365 [WARNING] sample_idx 1010: steps[2] != step_rating[\"step\"]\n",
      "2023-09-16 12:44:45.366 [WARNING] sample_idx 1010: steps[6] != step_rating[\"step\"]\n",
      "2023-09-16 12:44:45.366 [WARNING] sample_idx 1010: steps[7] != step_rating[\"step\"]\n",
      "2023-09-16 12:44:45.385 [WARNING] sample_idx 1129: steps[2] != step_rating[\"step\"]\n",
      "2023-09-16 12:44:45.390 [WARNING] sample_idx 1188: steps[6] != step_rating[\"step\"]\n",
      "2023-09-16 12:44:45.392 [WARNING] sample_idx 1210: steps[9] != step_rating[\"step\"]\n",
      "2023-09-16 12:44:45.395 [WARNING] sample_idx 1220: steps[1] != step_rating[\"step\"]\n",
      "2023-09-16 12:44:45.396 [WARNING] sample_idx 1220: steps[2] != step_rating[\"step\"]\n",
      "2023-09-16 12:44:45.396 [WARNING] sample_idx 1220: steps[3] != step_rating[\"step\"]\n",
      "2023-09-16 12:44:45.399 [WARNING] sample_idx 1236: steps[5] != step_rating[\"step\"]\n",
      "2023-09-16 12:44:45.402 [WARNING] sample_idx 1273: steps[1] != step_rating[\"step\"]\n",
      "2023-09-16 12:44:45.411 [WARNING] sample_idx 1312: steps[1] != step_rating[\"step\"]\n",
      "2023-09-16 12:44:45.419 [WARNING] sample_idx 1414: steps[1] != step_rating[\"step\"]\n",
      "2023-09-16 12:44:45.419 [WARNING] sample_idx 1414: steps[2] != step_rating[\"step\"]\n",
      "2023-09-16 12:44:45.425 [WARNING] sample_idx 1489: steps[2] != step_rating[\"step\"]\n",
      "2023-09-16 12:44:45.426 [WARNING] sample_idx 1489: steps[3] != step_rating[\"step\"]\n",
      "2023-09-16 12:44:45.426 [WARNING] sample_idx 1489: steps[4] != step_rating[\"step\"]\n",
      "2023-09-16 12:44:45.426 [WARNING] sample_idx 1489: steps[5] != step_rating[\"step\"]\n",
      "2023-09-16 12:44:45.427 [WARNING] sample_idx 1489: steps[6] != step_rating[\"step\"]\n",
      "2023-09-16 12:44:45.427 [WARNING] sample_idx 1489: steps[7] != step_rating[\"step\"]\n",
      "2023-09-16 12:44:45.443 [WARNING] sample_idx 1655: steps[1] != step_rating[\"step\"]\n",
      "2023-09-16 12:44:45.444 [WARNING] sample_idx 1655: steps[2] != step_rating[\"step\"]\n",
      "2023-09-16 12:44:45.448 [WARNING] sample_idx 1705: steps[1] != step_rating[\"step\"]\n",
      "2023-09-16 12:44:45.449 [WARNING] sample_idx 1705: steps[2] != step_rating[\"step\"]\n",
      "2023-09-16 12:44:45.449 [WARNING] sample_idx 1705: steps[3] != step_rating[\"step\"]\n",
      "2023-09-16 12:44:45.450 [WARNING] sample_idx 1705: steps[4] != step_rating[\"step\"]\n",
      "2023-09-16 12:44:45.450 [WARNING] sample_idx 1705: steps[5] != step_rating[\"step\"]\n",
      "2023-09-16 12:44:45.450 [WARNING] sample_idx 1705: steps[6] != step_rating[\"step\"]\n",
      "2023-09-16 12:44:45.451 [WARNING] sample_idx 1705: steps[7] != step_rating[\"step\"]\n",
      "2023-09-16 12:44:45.451 [WARNING] sample_idx 1705: steps[8] != step_rating[\"step\"]\n",
      "2023-09-16 12:44:45.451 [WARNING] sample_idx 1705: steps[9] != step_rating[\"step\"]\n",
      "2023-09-16 12:44:45.452 [WARNING] sample_idx 1705: steps[10] != step_rating[\"step\"]\n",
      "2023-09-16 12:44:45.467 [WARNING] sample_idx 1796: steps[3] != step_rating[\"step\"]\n"
     ]
    }
   ],
   "source": [
    "flat_preds = []\n",
    "flat_refs = []\n",
    "num_validation_sample = 0\n",
    "\n",
    "num_queries = len(queries)\n",
    "\n",
    "logger.info(f\"num_queries = {num_queries}\")\n",
    "\n",
    "validation_subset = validation_set[:num_queries]\n",
    "for sample_idx, (query, sample) in enumerate(zip(queries, validation_subset)):\n",
    "    whole_text = query[\"task_prompt\"] + query[\"choices\"][0][\"message\"][\"content\"]\n",
    "\n",
    "    steps, ratings, _ = utils.prm800k_extract_synthesized_analysis(\n",
    "        whole_text,\n",
    "        query_type=\"sar\",\n",
    "        # debug={\"search\": True}\n",
    "    )\n",
    "\n",
    "    reformatted_sample = utils.reformat_prm800k_sample(sample)\n",
    "    step_ratings = reformatted_sample[\"step_ratings\"]\n",
    "\n",
    "    len_label = len(reformatted_sample[\"step_ratings\"])\n",
    "    if len(steps) < len_label:\n",
    "        logger.warning(\n",
    "            f\"sample_idx {sample_idx}: {len(steps)} < {len(reformatted_sample['step_ratings'])}\"\n",
    "        )\n",
    "        detail = f\"reformatted_sample['step_ratings'] = {reformatted_sample['step_ratings']}\\n\\nsteps = {steps}\\nratings = {ratings}\\n\\nwhole_text = {whole_text}\"\n",
    "        logger.debug(detail)\n",
    "        # if len(steps) == len_label - 1:\n",
    "        #     logger.info(detail)\n",
    "        continue\n",
    "    elif len(steps) > len_label:\n",
    "        # truncate\n",
    "        steps = steps[:len_label]\n",
    "        ratings = ratings[:len_label]\n",
    "        # step_ratings = step_ratings[:len_label]\n",
    "\n",
    "    num_validation_sample += 1\n",
    "    flat_preds.extend([int(r) for r in ratings])\n",
    "    flat_refs.extend([sr[\"rating\"] for sr in step_ratings])\n",
    "\n",
    "    for step_idx, step_rating in enumerate(\n",
    "        reformatted_sample[\"step_ratings\"][:-1]\n",
    "    ):  # ignore the last step\n",
    "        # assert (\n",
    "        #     steps[step_idx] == step_rating[\"step\"]\n",
    "        # ), f'steps[{step_idx}] != step_rating[\"step\"]\\n\\nwhole_text = \\n```\\n{whole_text}\\n```\\n\\nsteps[idx] = {steps[idx]}\\n\\nstep_rating[\"step\"] = {step_rating[\"step\"]}'\n",
    "        if steps[step_idx] != step_rating[\"step\"]:\n",
    "            logger.warning(\n",
    "                f'sample_idx {sample_idx}: steps[{step_idx}] != step_rating[\"step\"]'\n",
    "            )\n",
    "            logger.debug(\n",
    "                f'step_rating[\"step\"] = {step_rating[\"step\"]}\\n\\nsteps[idx] = {steps[step_idx]}\\n\\nwhole_text = \\n```\\n{whole_text}\\n```'\n",
    "            )\n",
    "\n",
    "    if any(debug.values()):\n",
    "        if debug.get(\"query\"):\n",
    "            print(whole_text)\n",
    "        if debug.get(\"response\"):\n",
    "            print(steps)\n",
    "            print(ratings)\n",
    "            # print(analyses)\n",
    "        break\n",
    "\n",
    "assert len(flat_preds) == len(flat_refs)"
   ]
  },
  {
   "cell_type": "code",
   "execution_count": 9,
   "metadata": {},
   "outputs": [
    {
     "name": "stderr",
     "output_type": "stream",
     "text": [
      "2023-09-16 12:44:45.476 [INFO] num_validation_sample = 1811\n"
     ]
    }
   ],
   "source": [
    "logger.info(f\"num_validation_sample = {num_validation_sample}\")\n",
    "logger.debug(f\"flat_preds = {flat_preds}\")\n",
    "logger.debug(f\"flat_refs  = {flat_refs}\")"
   ]
  },
  {
   "cell_type": "code",
   "execution_count": 10,
   "metadata": {},
   "outputs": [
    {
     "name": "stdout",
     "output_type": "stream",
     "text": [
      "pred_-1_num: 1565.0000\n",
      "ref_-1_num: 1061.0000\n",
      "f1_-1: 0.4471\n",
      "precision_-1: 0.3751\n",
      "recall_-1: 0.5533\n"
     ]
    }
   ],
   "source": [
    "eval_metrics = utils.evaluate_clf_metrics_compute(\n",
    "    clf_metrics, flat_refs, flat_preds, labels=[-1, 0, 1]\n",
    ")\n",
    "# print(eval_metrics)\n",
    "for k, v in eval_metrics.items():\n",
    "    if \"-1\" not in k:\n",
    "        continue\n",
    "    print(f\"{k}: {v:.4f}\")"
   ]
  }
 ],
 "metadata": {
  "kernelspec": {
   "display_name": "nlp",
   "language": "python",
   "name": "python3"
  },
  "language_info": {
   "codemirror_mode": {
    "name": "ipython",
    "version": 3
   },
   "file_extension": ".py",
   "mimetype": "text/x-python",
   "name": "python",
   "nbconvert_exporter": "python",
   "pygments_lexer": "ipython3",
   "version": "3.10.12"
  },
  "orig_nbformat": 4
 },
 "nbformat": 4,
 "nbformat_minor": 2
}
