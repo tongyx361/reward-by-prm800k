{
 "cells": [
  {
   "cell_type": "code",
   "execution_count": 7,
   "metadata": {},
   "outputs": [],
   "source": [
    "import gzip\n",
    "import json\n",
    "import random\n",
    "from collections import defaultdict\n",
    "from typing import Any, Callable, Dict, List, Optional, Tuple\n",
    "import os\n",
    "from dataclasses import dataclass\n",
    "\n",
    "import blobfile as bf\n",
    "import numpy as np\n",
    "import orjson\n",
    "\n",
    "Sample = Dict[str, Any]\n",
    "\n",
    "## global variables\n",
    "\n",
    "project_dir = \"/data/users/zhangjunlei/tyx/reward-by-prm800k\"\n",
    "\n",
    "scored_test_samples_jsonl_path = os.path.join(project_dir, \"datasets/scored-test-samples.jsonl\")\n",
    "\n",
    "prm800k_jsonl_dirpath = os.path.join(project_dir, \"prm800k-main/prm800k/data\")\n",
    "\n",
    "prm800k_jsonl_path_phase = [\n",
    "    {\n",
    "        \"train\": os.path.join(prm800k_jsonl_dirpath, \"phase1_train.jsonl\"),\n",
    "        \"test\": os.path.join(prm800k_jsonl_dirpath, \"phase1_test.jsonl\"),\n",
    "    },\n",
    "    {\n",
    "        \"train\": os.path.join(prm800k_jsonl_dirpath, \"phase2_train.jsonl\"),\n",
    "        \"test\": os.path.join(prm800k_jsonl_dirpath, \"phase2_test.jsonl\"),\n",
    "    },\n",
    "]\n",
    "\n",
    "## functions\n",
    "\n",
    "\n",
    "def json_loads(s: str) -> Dict:\n",
    "    try:\n",
    "        return orjson.loads(s)\n",
    "    except Exception:\n",
    "        return json.loads(s)  # fallback\n",
    "\n",
    "\n",
    "def open_jsonl(file: str):\n",
    "    if file.endswith(\".gz\"):\n",
    "        return gzip.open(bf.BlobFile(file, \"rb\"))\n",
    "    return bf.BlobFile(file, \"r\")\n",
    "\n",
    "\n",
    "def read_jsonl(file: str) -> List[Dict]:\n",
    "    assert bf.exists(file), file\n",
    "    with open_jsonl(file) as f:\n",
    "        return [json_loads(l) for l in f.readlines() if l]\n",
    "\n",
    "\n",
    "def key_by_problem(samples: List[Dict]):\n",
    "    grouped_samples = defaultdict(list)\n",
    "    for sample in samples:\n",
    "        if \"problem\" in sample:\n",
    "            grouped_samples[sample[\"problem\"]].append(sample)\n",
    "        else:\n",
    "            grouped_samples[sample[\"question\"][\"problem\"]].append(sample)\n",
    "    return grouped_samples\n",
    "\n",
    "## classes\n",
    "\n",
    "@dataclass\n",
    "class MyDataset:\n",
    "    filename: str\n",
    "    samples: Any\n",
    "    \n",
    "    def __str__(self) -> str:\n",
    "        return f\"{self.filename}: {len(self.samples)} samples\""
   ]
  },
  {
   "cell_type": "code",
   "execution_count": 8,
   "metadata": {},
   "outputs": [
    {
     "name": "stdout",
     "output_type": "stream",
     "text": [
      "{'problem': 'The quadratic $x^2+(2.6)x+3.6$ can be written in the form $(x+b)^2+c$, where $b$ and $c$ are constants. What is $b+c$ (as a decimal)?', 'answer': '3.21', 'is_correct': True, 'subject': 'Algebra', 'level': 4, 'unique_id': 'test/algebra/621.json', 'steps': ['To write a quadratic in the form $(x+b)^2+c$, I need to complete the square.', 'That means I need to add and subtract the square of half the coefficient of $x$ inside the parentheses.', 'Half of $2.6$ is $1.3$, and its square is $1.69$.', 'So I can rewrite the quadratic as $x^2+(2.6)x+3.6=(x^2+(2.6)x+1.69)-1.69+3.6$.', 'Now I can factor the perfect square trinomial inside the parentheses as $(x+1.3)^2$.', 'Simplifying the constants outside the parentheses, I get $(x+1.3)^2+1.91$.', 'This is the form I wanted, where $b=1.3$ and $c=1.91$.', 'To find $b+c$, I just need to add these two decimals.\\n\\n# Answer\\n\\n3.21'], 'rating_probs': [{'1': 0.9701352340725533, '0': 0.02942827889870173, '-1': 0.00043648702874491644}, {'1': 0.9914434404845431, '0': 0.005930243199803732, '-1': 0.002626316315653292}, {'1': 0.9984388014676973, '0': 0.0009832245597970301, '-1': 0.0005779739725057783}, {'1': 0.9913288700675644, '0': 0.0075400982471146355, '-1': 0.001131031685320944}, {'1': 0.9882973744186482, '0': 0.010621174529687588, '-1': 0.0010814510516642547}, {'1': 0.8835529071911838, '0': 0.11539006327929774, '-1': 0.00105702952951845}, {'1': 0.9966401334800928, '0': 0.003288443024194664, '-1': 7.142349571257617e-05}, {'1': 0.9990730149989103, '0': 0.0006639264235943012, '-1': 0.0002630585774953877}], 'orm_score': 0.9897658228874207, 'prm_score': 0.9927759097431298, 'ground_truth_answer': '3.21'}\n",
      "PRM800K Phase 1\n",
      "\t train 949\n",
      "\t test 106\n",
      "PRM800K Phase 2\n",
      "\t train 97782\n",
      "\t test 2762\n"
     ]
    }
   ],
   "source": [
    "scored_test_samples = read_jsonl(scored_test_samples_jsonl_path)\n",
    "print(random.choice(scored_test_samples))\n",
    "\n",
    "prm800k_dataset_phase = []\n",
    "\n",
    "for phase in prm800k_jsonl_path_phase:\n",
    "    train_dataset = read_jsonl(phase[\"train\"])\n",
    "    test_dataset = read_jsonl(phase[\"test\"])\n",
    "    phase_dataset = {\"train\": train_dataset, \"test\": test_dataset}\n",
    "    prm800k_dataset_phase.append(phase_dataset)\n",
    "\n",
    "for phase_idx, phase_datasets in enumerate(prm800k_dataset_phase):\n",
    "    print(f\"PRM800K Phase {phase_idx + 1}\")\n",
    "    for split_name, samples in phase_datasets.items():\n",
    "        print(\"\\t\", split_name, len(samples))\n",
    "        # print(random.choice(dataset))\n",
    "        "
   ]
  },
  {
   "cell_type": "code",
   "execution_count": 9,
   "metadata": {},
   "outputs": [
    {
     "name": "stdout",
     "output_type": "stream",
     "text": [
      "scored-test-samples.jsonl: 815631 samples\n",
      "phase1_train.jsonl: 949 samples\n",
      "phase1_test.jsonl: 106 samples\n",
      "phase2_train.jsonl: 97782 samples\n",
      "phase2_test.jsonl: 2762 samples\n"
     ]
    }
   ],
   "source": [
    "datasets = []\n",
    "\n",
    "scored_test_dataset = MyDataset(os.path.basename(scored_test_samples_jsonl_path), scored_test_samples)\n",
    "datasets.append(scored_test_dataset)\n",
    "\n",
    "for phase_idx, phase_datasets in enumerate(prm800k_dataset_phase):\n",
    "    for split_name, samples in phase_datasets.items():\n",
    "        dataset = MyDataset(os.path.basename(prm800k_jsonl_path_phase[phase_idx][split_name]), samples)\n",
    "        datasets.append(dataset)\n",
    "\n",
    "for dataset in datasets:\n",
    "    print(dataset)"
   ]
  },
  {
   "cell_type": "code",
   "execution_count": 10,
   "metadata": {},
   "outputs": [],
   "source": [
    "datasets_key_by_problem = [\n",
    "    MyDataset(dataset.filename ,key_by_problem(dataset.samples)) for dataset in datasets\n",
    "]"
   ]
  },
  {
   "cell_type": "code",
   "execution_count": 11,
   "metadata": {},
   "outputs": [
    {
     "name": "stdout",
     "output_type": "stream",
     "text": [
      "scored-test-samples.jsonl: 500 samples\n",
      "phase1_train.jsonl: 903 samples\n",
      "phase1_test.jsonl: 101 samples\n",
      "phase2_train.jsonl: 10828 samples\n",
      "phase2_test.jsonl: 458 samples\n"
     ]
    }
   ],
   "source": [
    "for dataset in datasets_key_by_problem:\n",
    "    print(dataset)"
   ]
  },
  {
   "cell_type": "code",
   "execution_count": 12,
   "metadata": {},
   "outputs": [
    {
     "name": "stdout",
     "output_type": "stream",
     "text": [
      "[('scored-test-samples.jsonl', 'phase1_train.jsonl', 0), ('scored-test-samples.jsonl', 'phase1_test.jsonl', 101), ('scored-test-samples.jsonl', 'phase2_train.jsonl', 0), ('scored-test-samples.jsonl', 'phase2_test.jsonl', 458), ('phase1_train.jsonl', 'phase1_test.jsonl', 0), ('phase1_train.jsonl', 'phase2_train.jsonl', 896), ('phase1_train.jsonl', 'phase2_test.jsonl', 0), ('phase1_test.jsonl', 'phase2_train.jsonl', 0), ('phase1_test.jsonl', 'phase2_test.jsonl', 101), ('phase2_train.jsonl', 'phase2_test.jsonl', 0)]\n"
     ]
    }
   ],
   "source": [
    "# def get_dataset_sample_key_set(dataset : MyDataset):\n",
    "#     return set(dataset.samples.keys())\n",
    "\n",
    "def calculate_datasets_intersection_infos(datasets : List[MyDataset]):\n",
    "    # 创建结果列表\n",
    "    intersection_infos = [] # (dataset1, dataset2, intersection_size)\n",
    "\n",
    "    # 遍历所有可能的集合组合\n",
    "    for i in range(len(datasets)):\n",
    "        for j in range(i+1, len(datasets)):\n",
    "            # 找到两个集合的交集\n",
    "            intersection = set(datasets[i].samples.keys()).intersection(set(datasets[j].samples.keys()))\n",
    "            # 计算交集的大小并保存到结果列表中\n",
    "            intersection_infos.append((datasets[i].filename, datasets[j].filename, len(intersection)))\n",
    "\n",
    "    return intersection_infos\n",
    "\n",
    "datasets_intersection_infos = calculate_datasets_intersection_infos(datasets_key_by_problem)\n",
    "\n",
    "print(datasets_intersection_infos)"
   ]
  },
  {
   "cell_type": "code",
   "execution_count": 13,
   "metadata": {},
   "outputs": [
    {
     "name": "stdout",
     "output_type": "stream",
     "text": [
      "('scored-test-samples.jsonl', 'phase1_train.jsonl', 0)\n",
      "('scored-test-samples.jsonl', 'phase1_test.jsonl', 101)\n",
      "('scored-test-samples.jsonl', 'phase2_train.jsonl', 0)\n",
      "('scored-test-samples.jsonl', 'phase2_test.jsonl', 458)\n",
      "('phase1_train.jsonl', 'phase1_test.jsonl', 0)\n",
      "('phase1_train.jsonl', 'phase2_train.jsonl', 896)\n",
      "('phase1_train.jsonl', 'phase2_test.jsonl', 0)\n",
      "('phase1_test.jsonl', 'phase2_train.jsonl', 0)\n",
      "('phase1_test.jsonl', 'phase2_test.jsonl', 101)\n",
      "('phase2_train.jsonl', 'phase2_test.jsonl', 0)\n"
     ]
    }
   ],
   "source": [
    "for info in datasets_intersection_infos:\n",
    "    print(info)"
   ]
  }
 ],
 "metadata": {
  "kernelspec": {
   "display_name": "nlp",
   "language": "python",
   "name": "python3"
  },
  "language_info": {
   "codemirror_mode": {
    "name": "ipython",
    "version": 3
   },
   "file_extension": ".py",
   "mimetype": "text/x-python",
   "name": "python",
   "nbconvert_exporter": "python",
   "pygments_lexer": "ipython3",
   "version": "3.10.12"
  },
  "orig_nbformat": 4
 },
 "nbformat": 4,
 "nbformat_minor": 2
}
