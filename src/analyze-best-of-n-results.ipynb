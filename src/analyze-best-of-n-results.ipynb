{
 "cells": [
  {
   "cell_type": "code",
   "execution_count": null,
   "metadata": {},
   "outputs": [],
   "source": [
    "import json\n",
    "\n",
    "data_path = \"/data/tongyx361/reward-by-prm800k/eval/best-of-n-results.jsonl\"\n",
    "# Load data from the provided JSONL file\n",
    "data = []\n",
    "with open(data_path, \"r\") as file:\n",
    "    for line in file:\n",
    "        data.append(json.loads(line))\n",
    "\n",
    "# Display the first few rows to get an understanding of the structure\n",
    "data[:5]"
   ]
  }
 ],
 "metadata": {
  "language_info": {
   "name": "python"
  }
 },
 "nbformat": 4,
 "nbformat_minor": 2
}
